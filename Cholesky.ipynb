{
  "nbformat": 4,
  "nbformat_minor": 0,
  "metadata": {
    "colab": {
      "provenance": [],
      "authorship_tag": "ABX9TyPo9vkK/veGGC9hY1OtmvfE",
      "include_colab_link": true
    },
    "kernelspec": {
      "name": "python3",
      "display_name": "Python 3"
    },
    "language_info": {
      "name": "python"
    }
  },
  "cells": [
    {
      "cell_type": "markdown",
      "metadata": {
        "id": "view-in-github",
        "colab_type": "text"
      },
      "source": [
        "<a href=\"https://colab.research.google.com/github/EduardoWS/Calculo-Numerico/blob/main/Cholesky.ipynb\" target=\"_parent\"><img src=\"https://colab.research.google.com/assets/colab-badge.svg\" alt=\"Open In Colab\"/></a>"
      ]
    },
    {
      "cell_type": "code",
      "execution_count": 1,
      "metadata": {
        "id": "NdtvoXfJ2ukO"
      },
      "outputs": [],
      "source": [
        "import numpy as np\n",
        "\n",
        "def chol_decomp(A):\n",
        "    # A: matriz SPD\n",
        "    # H: triang. inferior, tal que A = H*H'\n",
        "    n = A.shape[0]\n",
        "    H = np.tril(A)\n",
        "    \n",
        "    for k in range(n-1):\n",
        "        H[k, k] = np.sqrt(H[k, k])\n",
        "        H[k+1:n, k] = H[k+1:n, k] / H[k, k]\n",
        "        \n",
        "        for j in range(k+1, n):\n",
        "            H[j:n, j] = H[j:n, j] - H[j:n, k] * H[j, k]\n",
        "    \n",
        "    H[n-1, n-1] = np.sqrt(H[n-1, n-1])\n",
        "    return H"
      ]
    },
    {
      "cell_type": "code",
      "source": [
        "#dados\n",
        "\n",
        "A = np.array([[3, 2, 0],\n",
        "              [2, 5, 1],\n",
        "              [0, 1, 3]])\n",
        "\n",
        "H = chol_decomp(A)\n",
        "print(H)"
      ],
      "metadata": {
        "colab": {
          "base_uri": "https://localhost:8080/"
        },
        "id": "CAos1s1b21LG",
        "outputId": "a2b53e37-1d56-41c9-ca41-f5ee0a6b8977"
      },
      "execution_count": 4,
      "outputs": [
        {
          "output_type": "stream",
          "name": "stdout",
          "text": [
            "[[1 0 0]\n",
            " [2 1 0]\n",
            " [0 1 1]]\n"
          ]
        }
      ]
    }
  ]
}