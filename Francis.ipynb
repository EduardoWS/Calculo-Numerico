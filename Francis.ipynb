{
  "nbformat": 4,
  "nbformat_minor": 0,
  "metadata": {
    "colab": {
      "provenance": [],
      "authorship_tag": "ABX9TyOxH8XGvGUiEcXS4e0tfNTx",
      "include_colab_link": true
    },
    "kernelspec": {
      "name": "python3",
      "display_name": "Python 3"
    },
    "language_info": {
      "name": "python"
    }
  },
  "cells": [
    {
      "cell_type": "markdown",
      "metadata": {
        "id": "view-in-github",
        "colab_type": "text"
      },
      "source": [
        "<a href=\"https://colab.research.google.com/github/EduardoWS/Calculo-Numerico/blob/main/Francis.ipynb\" target=\"_parent\"><img src=\"https://colab.research.google.com/assets/colab-badge.svg\" alt=\"Open In Colab\"/></a>"
      ]
    },
    {
      "cell_type": "code",
      "execution_count": null,
      "metadata": {
        "id": "wjhR7O69of6s"
      },
      "outputs": [],
      "source": [
        "import numpy as np"
      ]
    },
    {
      "cell_type": "code",
      "source": [
        "def francis(A, tol, flag):\n",
        "    if flag == \"python\":\n",
        "        qr = np.linalg.qr\n",
        "    elif flag == \"clássico\":\n",
        "        pass\n",
        "    elif flag == \"modificado\":\n",
        "        pass\n",
        "    n = np.shape(A)[0]\n",
        "    A_local = np.copy(A)\n",
        "    V = np.eye(n)\n",
        "    erro = np.inf\n",
        "    while erro > tol:\n",
        "        [Q, R] = qr(A_local) #QR do python (usar minha função depois)\n",
        "        A_local = R.dot(Q)\n",
        "        V = V.dot(Q)\n",
        "        erro = np.max(np.max(np.abs(np.tril(A_local, -1))))\n",
        "    D = np.diag(A_local)\n",
        "    return D, V"
      ],
      "metadata": {
        "id": "Ir9aFAxFpOpF"
      },
      "execution_count": null,
      "outputs": []
    },
    {
      "cell_type": "code",
      "source": [
        "#exemplo\n",
        "A = np.array([[2, 1, 1],\n",
        "              [1, 3, 5],\n",
        "              [1, 5, 14]])\n",
        "\n",
        "tol = 0.000001\n",
        "\n",
        "flag='python'\n",
        "#flag='clássico'\n",
        "#flag='modificado'\n",
        "\n",
        "D, V = francis(A, tol, flag)\n",
        "\n",
        "print(V)\n",
        "print()\n",
        "print(D)"
      ],
      "metadata": {
        "colab": {
          "base_uri": "https://localhost:8080/"
        },
        "id": "JEGjLiD0tG24",
        "outputId": "14a26435-c4b9-456d-a40b-e1ba54d0bbd6"
      },
      "execution_count": null,
      "outputs": [
        {
          "output_type": "stream",
          "name": "stdout",
          "text": [
            "[[ 0.09178996 -0.88530776  0.45585609]\n",
            " [ 0.36234084 -0.39671105 -0.8434035 ]\n",
            " [ 0.92751481  0.24259125  0.28436907]]\n",
            "\n",
            "[16.05225205  2.17408645  0.7736615 ]\n"
          ]
        }
      ]
    }
  ]
}