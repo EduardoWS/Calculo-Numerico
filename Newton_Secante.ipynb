{
  "nbformat": 4,
  "nbformat_minor": 0,
  "metadata": {
    "colab": {
      "provenance": [],
      "authorship_tag": "ABX9TyN/vSB+sDn9aM92MFgEgH+X",
      "include_colab_link": true
    },
    "kernelspec": {
      "name": "python3",
      "display_name": "Python 3"
    },
    "language_info": {
      "name": "python"
    }
  },
  "cells": [
    {
      "cell_type": "markdown",
      "metadata": {
        "id": "view-in-github",
        "colab_type": "text"
      },
      "source": [
        "<a href=\"https://colab.research.google.com/github/EduardoWS/Calculo-Numerico/blob/main/Newton_Secante.ipynb\" target=\"_parent\"><img src=\"https://colab.research.google.com/assets/colab-badge.svg\" alt=\"Open In Colab\"/></a>"
      ]
    },
    {
      "cell_type": "code",
      "execution_count": null,
      "metadata": {
        "id": "L90yQCgZalVn"
      },
      "outputs": [],
      "source": [
        "import math\n",
        "import numpy as np"
      ]
    },
    {
      "cell_type": "code",
      "source": [
        "def func(x):\n",
        "    return x**3 -10*x**2 + 5\n",
        "    #return x**2 +x-6 exemplo2"
      ],
      "metadata": {
        "id": "5uf_a71ScY42"
      },
      "execution_count": null,
      "outputs": []
    },
    {
      "cell_type": "code",
      "source": [
        "def dfunc(x):\n",
        "    return 3*x**2 - 20*x\n",
        "    #return 2*x+1 exemplo2"
      ],
      "metadata": {
        "id": "POP-DqmXc_WY"
      },
      "execution_count": null,
      "outputs": []
    },
    {
      "cell_type": "code",
      "source": [
        "def biss(func, a, b, tol):\n",
        "    x = (a + b)/2\n",
        "    #erro = float(\"+inf\")\n",
        "    erro = 10000\n",
        "    while erro > tol:\n",
        "        if func(a)*func(x) < 0:\n",
        "            b = x\n",
        "        else:\n",
        "            a = x\n",
        "        x0 = x\n",
        "        x = (a+b)/2\n",
        "        erro = abs(x - x0)\n",
        "    return x"
      ],
      "metadata": {
        "id": "05y1kwJAcTw3"
      },
      "execution_count": null,
      "outputs": []
    },
    {
      "cell_type": "code",
      "source": [
        "a = 0.6\n",
        "b = 0.8\n",
        "tol = 0.00001\n",
        "\n",
        "x = biss (func, a, b, tol)\n",
        "print(x)"
      ],
      "metadata": {
        "colab": {
          "base_uri": "https://localhost:8080/"
        },
        "id": "C0kKqxp3dWst",
        "outputId": "614ae982-7b13-4c52-f0dd-11f34dcbb0f9"
      },
      "execution_count": null,
      "outputs": [
        {
          "output_type": "stream",
          "name": "stdout",
          "text": [
            "0.734600830078125\n"
          ]
        }
      ]
    },
    {
      "cell_type": "code",
      "source": [
        "x0 = biss(func, a, b, 9999)\n",
        "print(x0)"
      ],
      "metadata": {
        "colab": {
          "base_uri": "https://localhost:8080/"
        },
        "id": "j5Nb1sv3eGAF",
        "outputId": "b4c35d8e-9446-4cac-d177-a6ed104043bf"
      },
      "execution_count": null,
      "outputs": [
        {
          "output_type": "stream",
          "name": "stdout",
          "text": [
            "0.75\n"
          ]
        }
      ]
    },
    {
      "cell_type": "code",
      "source": [
        "def newton(func, dfunc, x0, tol, kmax):\n",
        "    print (f\"k:0 | x:{x0}\")\n",
        "    for k in range(1, kmax+1):\n",
        "        dx = func(x0)/dfunc(x0)\n",
        "        x0 = x0 - dx\n",
        "        print(f\"k:{k} | x:{x0}\")\n",
        "        if abs(dx) < tol:\n",
        "            return x0, k\n",
        "        \n",
        "    print(\"erro\")\n",
        "    return"
      ],
      "metadata": {
        "id": "NBdqOVa1fYr_"
      },
      "execution_count": null,
      "outputs": []
    },
    {
      "cell_type": "code",
      "source": [
        "x, k = newton(func, dfunc, x0, tol, 100)"
      ],
      "metadata": {
        "colab": {
          "base_uri": "https://localhost:8080/"
        },
        "id": "T8LgamfEhY9k",
        "outputId": "78856261-319c-49e0-f97d-c533420815f0"
      },
      "execution_count": null,
      "outputs": [
        {
          "output_type": "stream",
          "name": "stdout",
          "text": [
            "k:0 | x:0.75\n",
            "k:1 | x:0.7347417840375586\n",
            "k:2 | x:0.7346035191894521\n",
            "k:3 | x:0.7346035077893034\n"
          ]
        }
      ]
    },
    {
      "cell_type": "code",
      "source": [
        "#testando o exemplo 2 do PDF \n",
        "x, k = newton(func, dfunc, 5.5, 1*10**(-16), 10000)"
      ],
      "metadata": {
        "colab": {
          "base_uri": "https://localhost:8080/"
        },
        "id": "zfN9SlOyk75G",
        "outputId": "9ad4d04a-654c-47d3-a3f2-be27b95f32a1"
      },
      "execution_count": null,
      "outputs": [
        {
          "output_type": "stream",
          "name": "stdout",
          "text": [
            "k:0 | x:5.5\n",
            "k:1 | x:-1.3116883116883118\n",
            "k:2 | x:-0.8510449758253866\n",
            "k:3 | x:-0.7020813321547315\n",
            "k:4 | x:-0.6843465465320574\n",
            "k:5 | x:-0.6840946164118628\n",
            "k:6 | x:-0.6840945657036915\n",
            "k:7 | x:-0.6840945657036894\n",
            "k:8 | x:-0.6840945657036895\n"
          ]
        }
      ]
    },
    {
      "cell_type": "code",
      "source": [
        "x0 = biss(func, a, b, 9998)\n",
        "print(x0)"
      ],
      "metadata": {
        "colab": {
          "base_uri": "https://localhost:8080/"
        },
        "id": "V9anlNG5jZox",
        "outputId": "d62a281b-bb5e-458d-9146-870853e2818d"
      },
      "execution_count": null,
      "outputs": [
        {
          "output_type": "stream",
          "name": "stdout",
          "text": [
            "0.75\n"
          ]
        }
      ]
    },
    {
      "cell_type": "code",
      "source": [
        "def secante(func, x0, x1, tol, kmax):\n",
        "    f0 = func(x0)\n",
        "    for k in range (1, kmax+1):\n",
        "        f1 = func(x1)\n",
        "        ds = f1*(x1-x0)/(f1-f0)\n",
        "        x0 = x1\n",
        "        x1 = x1 - ds\n",
        "        print(f\"k:{k} | x:{x1}\")\n",
        "        if abs(ds)<tol:\n",
        "            x=x1\n",
        "            return\n",
        "            #return x, k\n",
        "        f0 = f1\n",
        "    print(\"erro\")"
      ],
      "metadata": {
        "id": "rUqLBhVqkNEF"
      },
      "execution_count": null,
      "outputs": []
    },
    {
      "cell_type": "code",
      "source": [
        "def biss2(func, a, b):\n",
        "    x = (a + b)/2\n",
        "    #erro = float(\"+inf\")\n",
        "    #erro = 10000\n",
        "    for k in range(1, 3):\n",
        "        if func(a)*func(x) < 0:\n",
        "            b = x\n",
        "        else:\n",
        "            a = x\n",
        "        x0 = x\n",
        "        x = (a+b)/2\n",
        "        if k==1:\n",
        "            xzero=x\n",
        "        else:\n",
        "            xum = x\n",
        "        #erro = abs(x - x0)\n",
        "    print(xzero, xum)\n",
        "    return xzero, xum"
      ],
      "metadata": {
        "id": "FQv3FawZt9eN"
      },
      "execution_count": null,
      "outputs": []
    },
    {
      "cell_type": "code",
      "source": [
        "x0, x1 = biss2(func, a, b)\n",
        "\n",
        "secante(func, x0, x1, tol, 10000)"
      ],
      "metadata": {
        "colab": {
          "base_uri": "https://localhost:8080/"
        },
        "id": "-r4OK8FAr4qT",
        "outputId": "9a723e09-00e4-4121-e9e0-6b13fba2b437"
      },
      "execution_count": null,
      "outputs": [
        {
          "output_type": "stream",
          "name": "stdout",
          "text": [
            "0.75 0.725\n",
            "k:1 | x:0.7345156986993187\n",
            "k:2 | x:0.7346040142335384\n",
            "k:3 | x:0.7346035077627816\n"
          ]
        }
      ]
    }
  ]
}