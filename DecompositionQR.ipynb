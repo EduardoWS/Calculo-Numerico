{
  "nbformat": 4,
  "nbformat_minor": 0,
  "metadata": {
    "colab": {
      "provenance": [],
      "authorship_tag": "ABX9TyODQyJmZkro9H6hLT3ZajrM",
      "include_colab_link": true
    },
    "kernelspec": {
      "name": "python3",
      "display_name": "Python 3"
    },
    "language_info": {
      "name": "python"
    }
  },
  "cells": [
    {
      "cell_type": "markdown",
      "metadata": {
        "id": "view-in-github",
        "colab_type": "text"
      },
      "source": [
        "<a href=\"https://colab.research.google.com/github/EduardoWS/Calculo-Numerico/blob/main/DecompositionQR.ipynb\" target=\"_parent\"><img src=\"https://colab.research.google.com/assets/colab-badge.svg\" alt=\"Open In Colab\"/></a>"
      ]
    },
    {
      "cell_type": "code",
      "source": [
        "import numpy as np\n",
        "\n",
        "def classic_QR_decomposition(A):\n",
        "    \"\"\"Computes the classic QR decomposition of the matrix A using the Gram-Schmidt algorithm.\n",
        "\n",
        "    Parameters:\n",
        "    -----------\n",
        "    A : numpy array\n",
        "        The matrix to be decomposed. Must be a 2-dimensional array.\n",
        "\n",
        "    Returns:\n",
        "    --------\n",
        "    Q : numpy array\n",
        "        The orthogonal matrix.\n",
        "    R : numpy array\n",
        "        The upper triangular matrix.\n",
        "    \"\"\"\n",
        "    # Get the number of rows and columns in the input matrix\n",
        "    m, n = A.shape\n",
        "\n",
        "    # Create a new matrix Q with the same shape as A and fill it with zeros\n",
        "    Q = np.zeros((m, n))\n",
        "\n",
        "    # Create a new matrix R with the same shape as A and fill it with zeros\n",
        "    R = np.zeros((n, n))\n",
        "\n",
        "    # Perform the Gram-Schmidt algorithm\n",
        "    for j in range(n):\n",
        "        # Set v to the j-th column of A\n",
        "        v = A[:, j]\n",
        "\n",
        "        # Subtract the projection of v onto the previous j-1 columns of Q\n",
        "        for i in range(j):\n",
        "            u = Q[:, i]\n",
        "            v -= np.dot(v, u) * u\n",
        "\n",
        "        # Set the j-th column of Q to the normalized v\n",
        "        Q[:, j] = v / np.linalg.norm(v)\n",
        "\n",
        "        # Set the j-th row of R to the projection of A onto the j-th column of Q\n",
        "        for i in range(j+1):\n",
        "            R[i, j] = np.dot(Q[:, i], A[:, j])\n",
        "\n",
        "    return Q, R"
      ],
      "metadata": {
        "id": "s_OT1yj2rUrX"
      },
      "execution_count": 15,
      "outputs": []
    },
    {
      "cell_type": "code",
      "source": [
        "A = np.array([[3, 1],\n",
        "              [4, -1]], dtype='double')\n",
        "\n",
        "Q, R = classic_QR_decomposition(A)\n",
        "\n",
        "print(Q)\n",
        "print(R)"
      ],
      "metadata": {
        "colab": {
          "base_uri": "https://localhost:8080/"
        },
        "id": "wZk6GpmvmKJU",
        "outputId": "97f0032d-74c8-4e8f-971a-767b4c0331e2"
      },
      "execution_count": 18,
      "outputs": [
        {
          "output_type": "stream",
          "name": "stdout",
          "text": [
            "[[ 0.6  0.8]\n",
            " [ 0.8 -0.6]]\n",
            "[[5.  0. ]\n",
            " [0.  1.4]]\n"
          ]
        }
      ]
    },
    {
      "cell_type": "code",
      "source": [
        "A = np.array([[1, 1, 0],\n",
        "              [0, 1, 2],\n",
        "              [1, 0, 1],\n",
        "              [0, 1, 3]], dtype='double')\n",
        "\n",
        "Q, R = classic_QR_decomposition(A)\n",
        "\n",
        "print(Q)\n",
        "print()\n",
        "print(R)"
      ],
      "metadata": {
        "colab": {
          "base_uri": "https://localhost:8080/"
        },
        "id": "AhoAD8v8t1wA",
        "outputId": "1b78cabf-575a-4f42-e41c-a4f7ed2c03a7"
      },
      "execution_count": 21,
      "outputs": [
        {
          "output_type": "stream",
          "name": "stdout",
          "text": [
            "[[ 0.70710678  0.31622777 -0.60246408]\n",
            " [ 0.          0.63245553  0.0860663 ]\n",
            " [ 0.70710678 -0.31622777  0.60246408]\n",
            " [ 0.          0.63245553  0.51639778]]\n",
            "\n",
            "[[ 1.41421356e+00  1.11022302e-16 -1.11022302e-16]\n",
            " [ 0.00000000e+00  1.58113883e+00  4.44089210e-16]\n",
            " [ 0.00000000e+00  0.00000000e+00  2.32379001e+00]]\n"
          ]
        }
      ]
    },
    {
      "cell_type": "code",
      "source": [
        "import numpy as np\n",
        "\n",
        "def modified_QR_decomposition(A):\n",
        "    \"\"\"Computes the modified QR decomposition of the matrix A using the Gram-Schmidt algorithm.\n",
        "\n",
        "    Parameters:\n",
        "    -----------\n",
        "    A : numpy array\n",
        "        The matrix to be decomposed. Must be a 2-dimensional array.\n",
        "\n",
        "    Returns:\n",
        "    --------\n",
        "    Q : numpy array\n",
        "        The orthogonal matrix.\n",
        "    R : numpy array\n",
        "        The upper triangular matrix.\n",
        "    \"\"\"\n",
        "    # Get the number of rows and columns in the input matrix\n",
        "    m, n = A.shape\n",
        "\n",
        "    # Create a new matrix Q with the same shape as A and fill it with zeros\n",
        "    Q = np.zeros((m, n))\n",
        "\n",
        "    # Create a new matrix R with the same shape as A and fill it with zeros\n",
        "    R = np.zeros((n, n))\n",
        "\n",
        "    # Perform the modified Gram-Schmidt algorithm\n",
        "    for j in range(n):\n",
        "        # Set v to the j-th column of A\n",
        "        v = A[:, j]\n",
        "\n",
        "        # Subtract the projection of v onto the previous j-1 columns of Q\n",
        "        for i in range(j):\n",
        "            R[i, j] = np.dot(Q[:, i], v)\n",
        "            v -= R[i, j] * Q[:, i]\n",
        "\n",
        "        # Set the j-th column of Q to the normalized v\n",
        "        R[j, j] = np.linalg.norm(v)\n",
        "        Q[:, j] = v / R[j, j]\n",
        "\n",
        "    return Q, R"
      ],
      "metadata": {
        "id": "YYyb0SeAujWf"
      },
      "execution_count": 22,
      "outputs": []
    },
    {
      "cell_type": "code",
      "source": [
        "A = np.array([[3, 1],\n",
        "              [4, -1]], dtype='double')\n",
        "\n",
        "Q, R = modified_QR_decomposition(A)\n",
        "\n",
        "print(Q)\n",
        "print(R)"
      ],
      "metadata": {
        "colab": {
          "base_uri": "https://localhost:8080/"
        },
        "id": "DCJZZ2_4yvz3",
        "outputId": "6008a057-68be-4c48-bbd0-4f959e4874e8"
      },
      "execution_count": 24,
      "outputs": [
        {
          "output_type": "stream",
          "name": "stdout",
          "text": [
            "[[ 0.6  0.8]\n",
            " [ 0.8 -0.6]]\n",
            "[[ 5.  -0.2]\n",
            " [ 0.   1.4]]\n"
          ]
        }
      ]
    }
  ]
}