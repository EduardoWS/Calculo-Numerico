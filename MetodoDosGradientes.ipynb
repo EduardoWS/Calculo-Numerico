{
  "nbformat": 4,
  "nbformat_minor": 0,
  "metadata": {
    "colab": {
      "provenance": [],
      "authorship_tag": "ABX9TyMtMK1XYlh3obtbUkng1VBQ",
      "include_colab_link": true
    },
    "kernelspec": {
      "name": "python3",
      "display_name": "Python 3"
    },
    "language_info": {
      "name": "python"
    }
  },
  "cells": [
    {
      "cell_type": "markdown",
      "metadata": {
        "id": "view-in-github",
        "colab_type": "text"
      },
      "source": [
        "<a href=\"https://colab.research.google.com/github/EduardoWS/Calculo-Numerico/blob/main/MetodoDosGradientes.ipynb\" target=\"_parent\"><img src=\"https://colab.research.google.com/assets/colab-badge.svg\" alt=\"Open In Colab\"/></a>"
      ]
    },
    {
      "cell_type": "code",
      "execution_count": 2,
      "metadata": {
        "id": "8fYkAm_CbJnj"
      },
      "outputs": [],
      "source": [
        "import numpy as np\n",
        "from numpy import linalg as LA"
      ]
    },
    {
      "cell_type": "code",
      "source": [
        "def gradientes(A, b, x0):\n",
        "    r = b - A @ x0\n",
        "    k = 0\n",
        "    while LA.norm(r) > 1e-10:\n",
        "        p = r\n",
        "        q = A @ p\n",
        "        alpha = (p @ r)/(p @ q)\n",
        "        x0 = x0 + alpha*p\n",
        "        r = r - alpha*q\n",
        "        k =+ 1\n",
        "    return x"
      ],
      "metadata": {
        "id": "OK4nNCCXdN9b"
      },
      "execution_count": 25,
      "outputs": []
    },
    {
      "cell_type": "code",
      "source": [
        "#dados\n",
        "A = np.array([[1,0],\n",
        "              [0,1]])\n",
        "\n",
        "b = np.array([2,1])\n",
        "\n",
        "x0 = np.array([0,0])\n",
        "\n",
        "x = gradientes(A, b, x0)\n",
        "print(x)"
      ],
      "metadata": {
        "colab": {
          "base_uri": "https://localhost:8080/"
        },
        "id": "xP5PL4ukemE4",
        "outputId": "844db8ad-bcba-444c-cf32-b037d96c459b"
      },
      "execution_count": 28,
      "outputs": [
        {
          "output_type": "stream",
          "name": "stdout",
          "text": [
            "[2. 1.]\n"
          ]
        }
      ]
    }
  ]
}