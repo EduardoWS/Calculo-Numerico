{
  "nbformat": 4,
  "nbformat_minor": 0,
  "metadata": {
    "colab": {
      "provenance": [],
      "authorship_tag": "ABX9TyMYTrVLaYF1CcO/IfwQsVrt",
      "include_colab_link": true
    },
    "kernelspec": {
      "name": "python3",
      "display_name": "Python 3"
    },
    "language_info": {
      "name": "python"
    }
  },
  "cells": [
    {
      "cell_type": "markdown",
      "metadata": {
        "id": "view-in-github",
        "colab_type": "text"
      },
      "source": [
        "<a href=\"https://colab.research.google.com/github/EduardoWS/Calculo-Numerico/blob/main/Lagrange_Newton_interp.ipynb\" target=\"_parent\"><img src=\"https://colab.research.google.com/assets/colab-badge.svg\" alt=\"Open In Colab\"/></a>"
      ]
    },
    {
      "cell_type": "code",
      "execution_count": 1,
      "metadata": {
        "id": "tKeIzd8dyr3r"
      },
      "outputs": [],
      "source": [
        "\n",
        "def lagrange_interpolation(x, y, xi):\n",
        "    \"\"\"\n",
        "    Realiza a interpolação de Lagrange para encontrar o valor interpolado em xi.\n",
        "\n",
        "    Argumentos:\n",
        "    x -- uma lista de pontos x conhecidos\n",
        "    y -- uma lista de pontos y conhecidos correspondentes a x\n",
        "    xi -- o valor x para o qual queremos encontrar o valor interpolado\n",
        "\n",
        "    Retorna:\n",
        "    yi -- o valor interpolado correspondente a xi\n",
        "    \"\"\"\n",
        "    n = len(x)\n",
        "    yi = 0.0\n",
        "\n",
        "    for i in range(n):\n",
        "        # Calcula o valor do polinômio de Lagrange para o ponto xi\n",
        "        term = y[i]\n",
        "        for j in range(n):\n",
        "            if j != i:\n",
        "                term *= (xi - x[j]) / (x[i] - x[j])\n",
        "        yi += term\n",
        "\n",
        "    return yi"
      ]
    },
    {
      "cell_type": "code",
      "source": [
        "x = [-2, 0, 3, 5]\n",
        "y = [3, -2, 4, 2]\n",
        "xi = 0\n",
        "\n",
        "yi = lagrange_interpolation(x, y, xi)\n",
        "print(\"Valor interpolado em xi =\", yi)"
      ],
      "metadata": {
        "colab": {
          "base_uri": "https://localhost:8080/"
        },
        "id": "SyMVUNIS1Qoi",
        "outputId": "896b750e-9279-4bcb-8f16-f234f578cbf6"
      },
      "execution_count": 8,
      "outputs": [
        {
          "output_type": "stream",
          "name": "stdout",
          "text": [
            "Valor interpolado em xi = -2.0\n"
          ]
        }
      ]
    },
    {
      "cell_type": "code",
      "source": [
        "def divided_differences(x, y):\n",
        "    \"\"\"\n",
        "    Calcula as diferenças divididas para a interpolação de Newton.\n",
        "\n",
        "    Argumentos:\n",
        "    x -- uma lista de pontos x conhecidos\n",
        "    y -- uma lista de pontos y conhecidos correspondentes a x\n",
        "\n",
        "    Retorna:\n",
        "    tabela -- uma tabela de diferenças divididas\n",
        "    \"\"\"\n",
        "    n = len(x)\n",
        "    tabela = [[0] * n for _ in range(n)]\n",
        "    tabela[0] = y\n",
        "\n",
        "    for j in range(1, n):\n",
        "        for i in range(n - j):\n",
        "            tabela[j][i] = (tabela[j - 1][i + 1] - tabela[j - 1][i]) / (x[i + j] - x[i])\n",
        "\n",
        "    return tabela\n",
        "\n",
        "\n",
        "def newton_interpolation(x, y, xi):\n",
        "    \"\"\"\n",
        "    Realiza a interpolação de Newton para encontrar o valor interpolado em xi.\n",
        "\n",
        "    Argumentos:\n",
        "    x -- uma lista de pontos x conhecidos\n",
        "    y -- uma lista de pontos y conhecidos correspondentes a x\n",
        "    xi -- o valor x para o qual queremos encontrar o valor interpolado\n",
        "\n",
        "    Retorna:\n",
        "    yi -- o valor interpolado correspondente a xi\n",
        "    \"\"\"\n",
        "    n = len(x)\n",
        "    tabela = divided_differences(x, y)\n",
        "    yi = tabela[0][0]\n",
        "\n",
        "    for i in range(1, n):\n",
        "        term = tabela[i][0]\n",
        "        for j in range(i):\n",
        "            term *= (xi - x[j])\n",
        "        yi += term\n",
        "\n",
        "    return yi"
      ],
      "metadata": {
        "id": "dRwh7p8r3nAw"
      },
      "execution_count": 9,
      "outputs": []
    },
    {
      "cell_type": "code",
      "source": [
        "x = [-2, 0, 3, 5]\n",
        "y = [3, -2, 4, 2]\n",
        "\n",
        "xi = 5\n",
        "\n",
        "yi = newton_interpolation(x, y, xi)\n",
        "print(\"Valor interpolado em xi =\", yi)"
      ],
      "metadata": {
        "colab": {
          "base_uri": "https://localhost:8080/"
        },
        "id": "Hu9Npnww31Gl",
        "outputId": "88b70bda-19b2-4889-cf5e-7fda1cae27ce"
      },
      "execution_count": 21,
      "outputs": [
        {
          "output_type": "stream",
          "name": "stdout",
          "text": [
            "Valor interpolado em xi = 2.0\n"
          ]
        }
      ]
    },
    {
      "cell_type": "code",
      "source": [
        "import numpy as np\n",
        "import matplotlib.pyplot as plt\n",
        "\n",
        "def plot_interpolation(x, y, xi, yi):\n",
        "    \"\"\"\n",
        "    Plota o gráfico da interpolação.\n",
        "\n",
        "    Argumentos:\n",
        "    x -- uma lista de pontos x conhecidos\n",
        "    y -- uma lista de pontos y conhecidos correspondentes a x\n",
        "    xi -- o valor x interpolado\n",
        "    yi -- o valor interpolado correspondente a xi\n",
        "    \"\"\"\n",
        "    plt.plot(x, y, 'o', label='Pontos conhecidos')\n",
        "    plt.plot(xi, yi, 'ro', label='Ponto interpolado')\n",
        "\n",
        "    # Cria um array de valores x para traçar a linha do polinômio\n",
        "    x_line = np.linspace(min(x), max(x), 100)\n",
        "\n",
        "    # Calcula os valores y correspondentes para a linha do polinômio\n",
        "    y_line = [newton_interpolation(x, y, xi) for xi in x_line]\n",
        "\n",
        "    plt.plot(x_line, y_line, label='Polinômio interpolador')\n",
        "\n",
        "    plt.xlabel('x')\n",
        "    plt.ylabel('y')\n",
        "    plt.title('Interpolação de Newton')\n",
        "    plt.legend()\n",
        "    plt.grid(True)\n",
        "    plt.show()"
      ],
      "metadata": {
        "id": "bHTCqFym7kxN"
      },
      "execution_count": 27,
      "outputs": []
    },
    {
      "cell_type": "code",
      "source": [
        "\n",
        "x = [-2, 0, 3, 5]\n",
        "y = [3, -2, 4, 2]\n",
        "\n",
        "xi = 2\n",
        "\n",
        "yi = newton_interpolation(x, y, xi)\n",
        "\n",
        "plot_interpolation(x, y, xi, yi)"
      ],
      "metadata": {
        "colab": {
          "base_uri": "https://localhost:8080/",
          "height": 262
        },
        "id": "F-U11g6d8u0B",
        "outputId": "d41c04ad-778c-48ac-b8ec-f992590d6886"
      },
      "execution_count": 30,
      "outputs": [
        {
          "output_type": "display_data",
          "data": {
            "text/plain": [
              "<Figure size 640x480 with 1 Axes>"
            ],
            "image/png": "[encoded data removed]"
          },
          "metadata": {}
        }
      ]
    }
  ]
}