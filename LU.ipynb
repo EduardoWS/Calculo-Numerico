{
  "nbformat": 4,
  "nbformat_minor": 0,
  "metadata": {
    "colab": {
      "provenance": [],
      "authorship_tag": "ABX9TyMPh/jSeylZu6CgpFEOHE4a",
      "include_colab_link": true
    },
    "kernelspec": {
      "name": "python3",
      "display_name": "Python 3"
    },
    "language_info": {
      "name": "python"
    }
  },
  "cells": [
    {
      "cell_type": "markdown",
      "metadata": {
        "id": "view-in-github",
        "colab_type": "text"
      },
      "source": [
        "<a href=\"https://colab.research.google.com/github/EduardoWS/Calculo-Numerico/blob/main/LU.ipynb\" target=\"_parent\"><img src=\"https://colab.research.google.com/assets/colab-badge.svg\" alt=\"Open In Colab\"/></a>"
      ]
    },
    {
      "cell_type": "code",
      "execution_count": 6,
      "metadata": {
        "id": "m1i_HzjJmRIC"
      },
      "outputs": [],
      "source": [
        "# Algoritmo que corresponde ao passo 2 da eliminação de Gauss\n",
        "def LU(A):\n",
        "    n = len(A)\n",
        "    x = [0]*n\n",
        "\n",
        "    # Laço para calcular os pivôs\n",
        "    for k in list(range(1, n, 1)):\n",
        "\n",
        "        for i in list(range(k+1, n+1, 1)):\n",
        "            m = (A[i-1][k-1])/(A[k-1][k-1])\n",
        "            A[i-1][k-1] = m\n",
        "\n",
        "            for j in list(range(k+1, n+1, 1)):\n",
        "                A[i-1][j-1] = A[i-1][j-1] - m*A[k-1][j-1]\n",
        "    \n",
        "    return A\n",
        "\n",
        "\n",
        "# Algoritmo que corresponde ao passo 1 da eliminação de Gauss\n",
        "def solveLowerTriangular(L, b):\n",
        "    n = len(b)      # índice começa em 0 e vai até n-1\n",
        "    y = [0]*n       # criando um vetor com n valores 0\n",
        "    \n",
        "    # Laço para encontrar os n-1 valores de x\n",
        "    for i in list(range(1, n+1, 1)):\n",
        "        s = 0\n",
        "        # Calculando a soma dos termos associados\n",
        "        # a todas as variáveis x_n até x_i+1\n",
        "        for j in list(range(1, i, 1)):\n",
        "            s = s + L[i-1][j-1]*y[j-1]\n",
        "        \n",
        "        # Cálculo de x_i: em Python x[i-1]\n",
        "        y[i-1] = b[i-1] - s\n",
        "\n",
        "    return y\n",
        "\n",
        "\n",
        "def solveUpperTriangular(U, y):\n",
        "    n = len(y)      # índice começa em 0 e vai até n-1\n",
        "    x = [0]*n       # criando um vetor com n valores 0\n",
        "\n",
        "    x[n-1] = y[n-1]/U[n-1][n-1]     # calculando x_n\n",
        "    \n",
        "    # Laço para encontrar os n-1 valores de x\n",
        "    for i in list(range(n-1, 0, -1)):\n",
        "        s = 0\n",
        "        # Calculando a soma dos termos associados\n",
        "        # a todas as variáveis x_n até x_i+1\n",
        "        for j in list(range(i+1, n+1, 1)):\n",
        "            s = s + U[i-1][j-1]*x[j-1]\n",
        "        \n",
        "        # Cálculo de x_i: em Python x[i-1]\n",
        "        x[i-1] = (y[i-1] - s)/(U[i-1][i-1])\n",
        "\n",
        "    return x"
      ]
    },
    {
      "cell_type": "code",
      "source": [
        "# Dados do problema\n",
        "Ai = [[3,  2,  4],\n",
        "     [1,  1,  2],\n",
        "     [4,  3, -2]]\n",
        "\n",
        "b = [1, 2, 3]\n",
        "\n",
        "# Obtendo os fatores L e U\n",
        "A = LU(Ai)\n",
        "print(\"A = \", A)\n",
        "y = solveLowerTriangular(A, b)\n",
        "print(\"y = \", y)\n",
        "x = solveUpperTriangular(A, y)\n",
        "print(\"x = \", x)"
      ],
      "metadata": {
        "colab": {
          "base_uri": "https://localhost:8080/"
        },
        "id": "LV0HYRSHnRqi",
        "outputId": "824c99e2-9c33-4711-9e9d-4b7a04dd4a95"
      },
      "execution_count": 8,
      "outputs": [
        {
          "output_type": "stream",
          "name": "stdout",
          "text": [
            "A =  [[3, 2, 4], [0.3333333333333333, 0.33333333333333337, 0.6666666666666667], [1.3333333333333333, 1.0000000000000002, -8.0]]\n",
            "y =  [1, 1.6666666666666667, -4.440892098500626e-16]\n",
            "x =  [-3.0, 5.0, 5.551115123125783e-17]\n"
          ]
        }
      ]
    }
  ]
}