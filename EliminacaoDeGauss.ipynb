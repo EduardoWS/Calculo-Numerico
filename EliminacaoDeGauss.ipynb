{
  "nbformat": 4,
  "nbformat_minor": 0,
  "metadata": {
    "colab": {
      "provenance": [],
      "authorship_tag": "ABX9TyPDFERaHiujUds3a75zsj9n",
      "include_colab_link": true
    },
    "kernelspec": {
      "name": "python3",
      "display_name": "Python 3"
    },
    "language_info": {
      "name": "python"
    }
  },
  "cells": [
    {
      "cell_type": "markdown",
      "metadata": {
        "id": "view-in-github",
        "colab_type": "text"
      },
      "source": [
        "<a href=\"https://colab.research.google.com/github/EduardoWS/Calculo-Numerico/blob/main/EliminacaoDeGauss.ipynb\" target=\"_parent\"><img src=\"https://colab.research.google.com/assets/colab-badge.svg\" alt=\"Open In Colab\"/></a>"
      ]
    },
    {
      "cell_type": "code",
      "execution_count": 8,
      "metadata": {
        "colab": {
          "base_uri": "https://localhost:8080/"
        },
        "id": "cP2VIqgaQU_n",
        "outputId": "7ed3cf90-ec0f-439d-d2f1-87393dccb3e3"
      },
      "outputs": [
        {
          "output_type": "stream",
          "name": "stdout",
          "text": [
            "x = [2.5, 6.0, -6.0]\n"
          ]
        }
      ],
      "source": [
        "# Algoritmo que corresponde ao passo 1 da eliminação de Gauss\n",
        "def solveUpperTriangular(U, b):\n",
        "    n = len(b)      # índice começa em 0 e vai até n-1\n",
        "    x = [0]*n       # criando um vetor com n valores 0\n",
        "\n",
        "    x[n-1] = b[n-1]/U[n-1][n-1]     # calculando x_n\n",
        "    \n",
        "    # Laço para encontrar os n-1 valores de x\n",
        "    for i in list(range(n-1, 0, -1)):\n",
        "        s = 0\n",
        "        # Calculando a soma dos termos associados\n",
        "        # a todas as variáveis x_n até x_i+1\n",
        "        for j in list(range(i+1, n+1, 1)):\n",
        "            s = s + U[i-1][j-1]*x[j-1]\n",
        "        \n",
        "        # Cálculo de x_i: em Python x[i-1]\n",
        "        x[i-1] = (b[i-1] - s)/(U[i-1][i-1])\n",
        "\n",
        "    return x\n",
        "\n",
        "\n",
        "# Dados\n",
        "U = [[2, 1, 2],\n",
        "     [4, 3, 3],\n",
        "     [6, 5, -1]]\n",
        "\n",
        "b = [-1, 0, 6]\n",
        "\n",
        "\n",
        "# Resolução do sistema triangular\n",
        "# superior: Ux = b\n",
        "x = solveUpperTriangular(U, b)\n",
        "\n",
        "print(f'x = {x}')"
      ]
    }
  ]
}