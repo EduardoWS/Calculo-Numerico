{
  "nbformat": 4,
  "nbformat_minor": 0,
  "metadata": {
    "colab": {
      "provenance": [],
      "authorship_tag": "ABX9TyOlXHq+sQ7mMA+Dr1HHeVoT",
      "include_colab_link": true
    },
    "kernelspec": {
      "name": "python3",
      "display_name": "Python 3"
    },
    "language_info": {
      "name": "python"
    }
  },
  "cells": [
    {
      "cell_type": "markdown",
      "metadata": {
        "id": "view-in-github",
        "colab_type": "text"
      },
      "source": [
        "<a href=\"https://colab.research.google.com/github/EduardoWS/Calculo-Numerico/blob/main/EliminacaoDeGauss_Pivo.ipynb\" target=\"_parent\"><img src=\"https://colab.research.google.com/assets/colab-badge.svg\" alt=\"Open In Colab\"/></a>"
      ]
    },
    {
      "cell_type": "code",
      "execution_count": 37,
      "metadata": {
        "id": "F_B4mJCaQyZS"
      },
      "outputs": [],
      "source": [
        "import numpy as np\n",
        "\n",
        "def elimination_pivo(A, b):\n",
        "    n = np.shape(A)[0]\n",
        "    newA = np.copy(A)   # cria uma matriz numpy\n",
        "    newb = np.copy(b)   # cria uma matriz numpy\n",
        "\n",
        "    for k in np.arange(n-1):\n",
        "        p = np.argmax(np.abs(newA[k:n,k]))  # pega o índice do maior elemento absoluto\n",
        "        newA[[k,p],k:n] = newA[[p,k],k:n]   # troca de posição o maior elemento absoluto\n",
        "        newb[[k,p]] = newb[[p,k]]   # troca de posição o maior elemento absoluto\n",
        "\n",
        "        for i in np.arange(k+1,n):      # começa em k+1 e vai até n\n",
        "            m = newA[i,k]/newA[k,k]     # gera o multiplicador\n",
        "            newA[i,k:n] = newA[i,k:n] - m*newA[k,k:n]\n",
        "            newb[i] = newb[i] - m*newb[k]\n",
        "\n",
        "    return newA, newb"
      ]
    },
    {
      "cell_type": "code",
      "source": [
        "def solveUpperTriangular(U,y):\n",
        "    n = np.shape(y)[0]\n",
        "    x = np.zeros(n)\n",
        "\n",
        "    for i in np.arange(n-1,-1,-1):\n",
        "        x[i] = (y[i]-U[i,i+1:n].dot(x[i+1:n]))/U[i,i]\n",
        "\n",
        "    return x"
      ],
      "metadata": {
        "id": "qgh41rQZaaMZ"
      },
      "execution_count": 32,
      "outputs": []
    },
    {
      "cell_type": "code",
      "source": [
        "# Dados do problema\n",
        "A = np.array([[1, 1, 1],  \n",
        "              [1, 0,10],  \n",
        "              [0,10, 1]], dtype='double')\n",
        "b = [0,-48,25]\n",
        "\n",
        "# Obtenção do sistema triangular superior equivalente\n",
        "U, b = elimination_pivo(A, b)\n",
        "print(\"U = \", U)\n",
        "print(\"b = \", b)\n",
        "x = solveUpperTriangular(U, b)\n",
        "print(\"x = \", x)"
      ],
      "metadata": {
        "colab": {
          "base_uri": "https://localhost:8080/"
        },
        "id": "ncpDu36seF7t",
        "outputId": "5d759401-a492-4d3f-bb32-e950ba9f4e21"
      },
      "execution_count": 36,
      "outputs": [
        {
          "output_type": "stream",
          "name": "stdout",
          "text": [
            "U =  [[ 1.  1.  1.]\n",
            " [ 0. -1.  9.]\n",
            " [ 0.  0. 91.]]\n",
            "b =  [   0  -48 -455]\n",
            "x =  [ 2.  3. -5.]\n"
          ]
        }
      ]
    },
    {
      "cell_type": "markdown",
      "source": [
        "# Testes:"
      ],
      "metadata": {
        "id": "xbHruGuufuWg"
      }
    },
    {
      "cell_type": "code",
      "source": [
        "A = [[3,  2,  4],\n",
        "     [1,  1,  2],\n",
        "     [4,  3, -2]]\n",
        "\n",
        "newA = np.copy(A)\n",
        "n = np.shape(A)[0]\n",
        "print(n)\n",
        "for i in np.arange(10, 0, -1):\n",
        "    print(i)"
      ],
      "metadata": {
        "id": "KqUgzCySUdV1"
      },
      "execution_count": null,
      "outputs": []
    },
    {
      "cell_type": "code",
      "source": [
        "newA[1, 0:n]    # imprime linha 1\n",
        "newA[0:n, 0]    # imprime coluna 0"
      ],
      "metadata": {
        "colab": {
          "base_uri": "https://localhost:8080/"
        },
        "id": "JEm3egiJZG7N",
        "outputId": "68032add-8fe3-4afb-8105-fd7b37309b08"
      },
      "execution_count": 28,
      "outputs": [
        {
          "output_type": "execute_result",
          "data": {
            "text/plain": [
              "array([3, 1, 4])"
            ]
          },
          "metadata": {},
          "execution_count": 28
        }
      ]
    }
  ]
}