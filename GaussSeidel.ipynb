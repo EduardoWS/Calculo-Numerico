{
  "nbformat": 4,
  "nbformat_minor": 0,
  "metadata": {
    "colab": {
      "provenance": [],
      "authorship_tag": "ABX9TyM7J9RKsGW9DAibc7uPdKjI",
      "include_colab_link": true
    },
    "kernelspec": {
      "name": "python3",
      "display_name": "Python 3"
    },
    "language_info": {
      "name": "python"
    }
  },
  "cells": [
    {
      "cell_type": "markdown",
      "metadata": {
        "id": "view-in-github",
        "colab_type": "text"
      },
      "source": [
        "<a href=\"https://colab.research.google.com/github/EduardoWS/Calculo-Numerico/blob/main/GaussSeidel.ipynb\" target=\"_parent\"><img src=\"https://colab.research.google.com/assets/colab-badge.svg\" alt=\"Open In Colab\"/></a>"
      ]
    },
    {
      "cell_type": "code",
      "execution_count": 2,
      "metadata": {
        "colab": {
          "base_uri": "https://localhost:8080/"
        },
        "id": "jWItfSax4nso",
        "outputId": "0efe47b7-5e39-4c6d-e563-7e2088623703"
      },
      "outputs": [
        {
          "output_type": "stream",
          "name": "stdout",
          "text": [
            "Iteração 0\n",
            "x =  [0.7, -1.6, 0.6]\n",
            "Iteração:  1\n",
            "xk =  [0.96, -1.9120000000000001, 0.9816000000000001]\n",
            "Iteração:  2\n",
            "xk =  [0.98424, -1.993168, 1.0011024000000002]\n",
            "Iteração:  3\n",
            "xk =  [0.9985233600000001, -1.9999251520000003, 1.0002728736000002]\n",
            "Iteração:  4\n",
            "xk =  [0.9999577430400001, -2.000046123328, 1.0000222883904002]\n",
            "x =  [0.9999577430400001, -2.000046123328, 1.0000222883904002]\n"
          ]
        }
      ],
      "source": [
        "import math\n",
        "\n",
        "def comparar(x,xk,eps):\n",
        "  soma = 0\n",
        "  zip_object = zip(x, xk)\n",
        "  for list1_i, list2_i in zip_object:\n",
        "    soma = soma + math.fabs(list1_i-list2_i)\n",
        "\n",
        "  if (soma < eps):\n",
        "    return True\n",
        "  else:\n",
        "    return False   \n",
        "\n",
        "\n",
        "def gaussSeidel(A,b,maxiter,eps):\n",
        "  n = len(b)\n",
        "  sol = True\n",
        "  x = b.copy()\n",
        "  for i in list(range(1,n+1,1)):\n",
        "    if (math.fabs(A[i-1][i-1]) > 0.0):\n",
        "      x[i-1] = b[i-1]/A[i-1][i-1]\n",
        "    else:\n",
        "      sol = False\n",
        "      break\n",
        "  \n",
        "  if (sol):\n",
        "    print(\"Iteração 0\")\n",
        "    print(\"x = \",x)\n",
        "    xk = x.copy()\n",
        "    #maxiter = 10\n",
        "    #eps     = 0.01\n",
        "    iter    = 0\n",
        " \n",
        "    while (iter < maxiter):\n",
        "      iter = iter + 1\n",
        "      for i in list(range(1,n+1,1)):\n",
        "        s = 0\n",
        "        for j in list(range(1,n+1,1)):\n",
        "          if ((i-1) > (j-1)):\n",
        "            s = s + A[i-1][j-1]*xk[j-1]\n",
        "          elif ((i-1) < (j-1)):\n",
        "            s = s + A[i-1][j-1]*x[j-1]\n",
        "\n",
        "        xk[i-1] = (1/A[i-1][i-1])*(b[i-1]-s)\n",
        "     \n",
        "      print(\"Iteração: \",iter)\n",
        "      print(\"xk = \",xk)\n",
        "      if comparar(x,xk,eps):\n",
        "        x = xk.copy()\n",
        "        break    \n",
        "      x = xk.copy()\n",
        "     \n",
        "   \n",
        "  return x\n",
        "\n",
        "\n",
        "\n",
        "\n",
        "A = [[10, 2,  1],\n",
        "     [ 1, 5,  1],\n",
        "     [ 2, 3, 10]]\n",
        "\n",
        "b = [7, -8, 6]\n",
        "\n",
        "x = gaussSeidel(A,b,10,0.01)\n",
        "print(\"x = \",x)\n"
      ]
    }
  ]
}