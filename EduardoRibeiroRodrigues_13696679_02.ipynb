{
  "nbformat": 4,
  "nbformat_minor": 0,
  "metadata": {
    "colab": {
      "provenance": [],
      "authorship_tag": "ABX9TyM95al66fCfiT5qRZD/BbvG",
      "include_colab_link": true
    },
    "kernelspec": {
      "name": "python3",
      "display_name": "Python 3"
    },
    "language_info": {
      "name": "python"
    }
  },
  "cells": [
    {
      "cell_type": "markdown",
      "metadata": {
        "id": "view-in-github",
        "colab_type": "text"
      },
      "source": [
        "<a href=\"https://colab.research.google.com/github/EduardoWS/Calculo-Numerico/blob/main/EduardoRibeiroRodrigues_13696679_02.ipynb\" target=\"_parent\"><img src=\"https://colab.research.google.com/assets/colab-badge.svg\" alt=\"Open In Colab\"/></a>"
      ]
    },
    {
      "cell_type": "markdown",
      "source": [
        "# **1  Sistemas Lineares com Matrizes Simétricas**"
      ],
      "metadata": {
        "id": "szZyU9WYI18l"
      }
    },
    {
      "cell_type": "markdown",
      "source": [
        "**1) Considere a matriz *A* e o vetor b dados abaixo**"
      ],
      "metadata": {
        "id": "_COG5ZXbKMAN"
      }
    },
    {
      "cell_type": "markdown",
      "source": [
        "![image.png](data:image/png;base64,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)"
      ],
      "metadata": {
        "id": "k5SJFc9AJJAM"
      }
    },
    {
      "cell_type": "markdown",
      "source": [
        "**Seja *n* a dimensão do problema.** "
      ],
      "metadata": {
        "id": "LYcfb4kUK8rX"
      }
    },
    {
      "cell_type": "markdown",
      "source": [
        "a)  Escreva um código que monte a matriz *A* para *n* = 1000."
      ],
      "metadata": {
        "id": "qtWHwp2mLLa2"
      }
    },
    {
      "cell_type": "code",
      "source": [
        "#imports\n",
        "import numpy as np\n",
        "\n",
        "#contantes\n",
        "N = 1000              \n"
      ],
      "metadata": {
        "id": "XOGfbqXSWs1L"
      },
      "execution_count": 58,
      "outputs": []
    },
    {
      "cell_type": "code",
      "source": [
        "def montar_matriz(N):\n",
        "    A = np.eye(N) * 100\n",
        "\n",
        "    # Atualiza os vizinhos da diagonal principal com o valor -4\n",
        "    for i in range(N):\n",
        "        if i > 0:\n",
        "            A[i, i-1] = -4  # Vizinho à esquerda\n",
        "        if i < N-1:\n",
        "            A[i, i+1] = -4  # Vizinho à direita\n",
        "\n",
        "    # Atualiza os vizinhos de -4 para 1\n",
        "    for i in range(N):\n",
        "        if i > 0:\n",
        "            if A[i, i-1] == -4:\n",
        "                if i-1 < 0 or i == 1:\n",
        "                    pass\n",
        "                else:\n",
        "                    A[i, i-2] = 1  # Vizinho à esquerda\n",
        "                \n",
        "        if i < N-1:\n",
        "            if A[i, i+1] == -4:\n",
        "                if i+1 >= N-1:\n",
        "                    pass\n",
        "                else:\n",
        "                    A[i, i+2] = 1  # Vizinho à direita\n",
        "    return A\n"
      ],
      "metadata": {
        "id": "U-Ms9fvsLVAi"
      },
      "execution_count": 27,
      "outputs": []
    },
    {
      "cell_type": "code",
      "source": [
        "A = montar_matriz(10)\n",
        "\n",
        "print(\"EXEMPLO COM N = 10:\\n\")\n",
        "print(A)"
      ],
      "metadata": {
        "colab": {
          "base_uri": "https://localhost:8080/"
        },
        "id": "gFPbZ_l_XbLq",
        "outputId": "492b258e-b0ab-4bb3-825d-d24907079b33"
      },
      "execution_count": 56,
      "outputs": [
        {
          "output_type": "stream",
          "name": "stdout",
          "text": [
            "EXEMPLO COM N = 10:\n",
            "\n",
            "[[100.  -4.   1.   0.   0.   0.   0.   0.   0.   0.]\n",
            " [ -4. 100.  -4.   1.   0.   0.   0.   0.   0.   0.]\n",
            " [  1.  -4. 100.  -4.   1.   0.   0.   0.   0.   0.]\n",
            " [  0.   1.  -4. 100.  -4.   1.   0.   0.   0.   0.]\n",
            " [  0.   0.   1.  -4. 100.  -4.   1.   0.   0.   0.]\n",
            " [  0.   0.   0.   1.  -4. 100.  -4.   1.   0.   0.]\n",
            " [  0.   0.   0.   0.   1.  -4. 100.  -4.   1.   0.]\n",
            " [  0.   0.   0.   0.   0.   1.  -4. 100.  -4.   1.]\n",
            " [  0.   0.   0.   0.   0.   0.   1.  -4. 100.  -4.]\n",
            " [  0.   0.   0.   0.   0.   0.   0.   1.  -4. 100.]]\n"
          ]
        }
      ]
    },
    {
      "cell_type": "code",
      "source": [
        "A = montar_matriz(N)\n",
        "\n",
        "print(\"EXEMPLO COM N = 1000:\\n\")\n",
        "print(A)"
      ],
      "metadata": {
        "colab": {
          "base_uri": "https://localhost:8080/"
        },
        "id": "oSHFPb-YXvxp",
        "outputId": "02c5787c-1537-407d-cce7-b542e44c8474"
      },
      "execution_count": 59,
      "outputs": [
        {
          "output_type": "stream",
          "name": "stdout",
          "text": [
            "EXEMPLO COM N = 1000:\n",
            "\n",
            "[[100.  -4.   1. ...   0.   0.   0.]\n",
            " [ -4. 100.  -4. ...   0.   0.   0.]\n",
            " [  1.  -4. 100. ...   0.   0.   0.]\n",
            " ...\n",
            " [  0.   0.   0. ... 100.  -4.   1.]\n",
            " [  0.   0.   0. ...  -4. 100.  -4.]\n",
            " [  0.   0.   0. ...   1.  -4. 100.]]\n"
          ]
        }
      ]
    },
    {
      "cell_type": "markdown",
      "source": [
        "<hr>"
      ],
      "metadata": {
        "id": "KIFtaWzuZTlF"
      }
    },
    {
      "cell_type": "markdown",
      "source": [
        "b) Escreva um código que faça a decomposição de Cholesky de uma matriz simétrica definida positiva qualquer."
      ],
      "metadata": {
        "id": "TrYI4JaQX_Wg"
      }
    },
    {
      "cell_type": "code",
      "source": [
        "# Exemplo de matriz A simétrica definida positiva\n",
        "A = np.array([[9, 2, 1],\n",
        "              [2, 5, 2],\n",
        "              [1, 2, 6]])\n",
        "\n",
        "# Vetor x\n",
        "x = np.array([1, 2, 3])\n",
        "\n",
        "# Vetor b\n",
        "b = np.dot(A, x)\n",
        "\n",
        "print(\"Matriz A:\")\n",
        "print(A)\n",
        "print(\"\\nVetor x:\")\n",
        "print(x)\n",
        "print(\"\\nVetor b:\")\n",
        "print(b)"
      ],
      "metadata": {
        "colab": {
          "base_uri": "https://localhost:8080/"
        },
        "id": "vyLTtrVwjDVJ",
        "outputId": "a12d32ee-19c6-47ed-f72d-1acf3d70f61e"
      },
      "execution_count": 47,
      "outputs": [
        {
          "output_type": "stream",
          "name": "stdout",
          "text": [
            "Matriz A:\n",
            "[[9 2 1]\n",
            " [2 5 2]\n",
            " [1 2 6]]\n",
            "\n",
            "Vetor x:\n",
            "[1 2 3]\n",
            "\n",
            "Vetor b:\n",
            "[16 18 23]\n"
          ]
        }
      ]
    },
    {
      "cell_type": "code",
      "source": [
        "# EXEMPLO USANDO FUNÇÕES DO PYTHON\n",
        "from scipy.linalg import cholesky, solve_triangular\n",
        "\n",
        "A = np.array([[9, 2, 1],\n",
        "              [2, 5, 2],\n",
        "              [1, 2, 6]])\n",
        "\n",
        "b = [16, 18, 23]\n",
        "\n",
        "L = cholesky(A, lower=True)\n",
        "y = solve_triangular(L, b, lower=True)\n",
        "x = solve_triangular(L.T, y, lower=False)\n",
        "\n",
        "print(\"A solução do sistema é:\")\n",
        "print(x)"
      ],
      "metadata": {
        "colab": {
          "base_uri": "https://localhost:8080/"
        },
        "id": "fRYsRqUojYpG",
        "outputId": "02469624-619a-44e9-fb70-4cd4743175b7"
      },
      "execution_count": 51,
      "outputs": [
        {
          "output_type": "stream",
          "name": "stdout",
          "text": [
            "A solução do sistema é:\n",
            "[1. 2. 3.]\n"
          ]
        }
      ]
    },
    {
      "cell_type": "code",
      "source": [
        "def cholesky_decomposition(A):\n",
        "    \"\"\"\n",
        "    Realiza a decomposição de Cholesky de uma matriz simétrica definida positiva A.\n",
        "    Retorna a matriz triangular inferior L.\n",
        "    \"\"\"\n",
        "    n = A.shape[0]\n",
        "    L = np.zeros_like(A, dtype=float)\n",
        "\n",
        "    for i in range(n):\n",
        "        for j in range(i + 1):\n",
        "            if i == j:\n",
        "                L[i, i] = np.sqrt(A[i, i] - np.dot(L[i, :i], L[i, :i]))\n",
        "            else:\n",
        "                L[i, j] = (A[i, j] - np.dot(L[i, :j], L[j, :j])) / L[j, j]\n",
        "\n",
        "    return L"
      ],
      "metadata": {
        "id": "2XYNNwclj4jW"
      },
      "execution_count": 53,
      "outputs": []
    },
    {
      "cell_type": "code",
      "source": [
        "def solve_triangular_lower(L, b):\n",
        "    \"\"\"\n",
        "    Resolve um sistema triangular inferior Ly = b, onde L é uma matriz triangular inferior e b é um vetor.\n",
        "    Retorna o vetor y, que é a solução do sistema.\n",
        "    \"\"\"\n",
        "    n = len(b)\n",
        "    y = np.zeros(n)\n",
        "\n",
        "    for i in range(n):\n",
        "        y[i] = (b[i] - np.dot(L[i, :i], y[:i])) / L[i, i]\n",
        "\n",
        "    return y\n",
        "\n",
        "def solve_triangular_upper(U, b):\n",
        "    \"\"\"\n",
        "    Resolve um sistema triangular superior Ux = b, onde U é uma matriz triangular superior e b é um vetor.\n",
        "    Retorna o vetor x, que é a solução do sistema.\n",
        "    \"\"\"\n",
        "    n = len(b)\n",
        "    x = np.zeros(n)\n",
        "\n",
        "    for i in range(n - 1, -1, -1):\n",
        "        x[i] = (b[i] - np.dot(U[i, i+1:], x[i+1:])) / U[i, i]\n",
        "\n",
        "    return x"
      ],
      "metadata": {
        "id": "tJMFa0d7jvm0"
      },
      "execution_count": 52,
      "outputs": []
    },
    {
      "cell_type": "code",
      "source": [
        "# Mesmo exemplo sem utilizar funções prontas:\n",
        "A = np.array([[9, 2, 1],\n",
        "              [2, 5, 2],\n",
        "              [1, 2, 6]])\n",
        "\n",
        "b = [16, 18, 23]\n",
        "\n",
        "\n",
        "# Calculando a decomposição de Cholesky da matriz A:\n",
        "H = cholesky_decomposition(A)\n",
        "\n",
        "# Resolvendo o sistema triangular inferior Hy = b:\n",
        "y = solve_triangular_lower(H, b)\n",
        "\n",
        "# Resolvendo o sistema triangular superior H^T x = y:\n",
        "x = solve_triangular_upper(H.T, y)\n",
        "\n",
        "print(\"A solução do sistema é:\")\n",
        "print(x)"
      ],
      "metadata": {
        "colab": {
          "base_uri": "https://localhost:8080/"
        },
        "id": "tkeYgMoZj9AN",
        "outputId": "d55b4f15-7885-4171-cc6c-e6acb22c1a4c"
      },
      "execution_count": 54,
      "outputs": [
        {
          "output_type": "stream",
          "name": "stdout",
          "text": [
            "A solução do sistema é:\n",
            "[1. 2. 3.]\n"
          ]
        }
      ]
    },
    {
      "cell_type": "markdown",
      "source": [
        "<hr>"
      ],
      "metadata": {
        "id": "I1k6UJXmlA27"
      }
    },
    {
      "cell_type": "markdown",
      "source": [
        "c)  Usando as rotinas implementadas anteriormente, escreva um código para resolver um sistema Ax=b"
      ],
      "metadata": {
        "id": "c3NGkLfklJHq"
      }
    },
    {
      "cell_type": "code",
      "source": [
        "# Exemplo para n = 10:\n",
        "n = 10\n",
        "\n",
        "A = montar_matriz(n)\n",
        "b = np.ones(n)/n**(4)\n",
        "\n",
        "print(A)\n",
        "print()\n",
        "print(b)"
      ],
      "metadata": {
        "colab": {
          "base_uri": "https://localhost:8080/"
        },
        "id": "6PQ0QHWxlOxA",
        "outputId": "b43ae892-c358-4271-d027-03f76954e133"
      },
      "execution_count": 66,
      "outputs": [
        {
          "output_type": "stream",
          "name": "stdout",
          "text": [
            "[[100.  -4.   1.   0.   0.   0.   0.   0.   0.   0.]\n",
            " [ -4. 100.  -4.   1.   0.   0.   0.   0.   0.   0.]\n",
            " [  1.  -4. 100.  -4.   1.   0.   0.   0.   0.   0.]\n",
            " [  0.   1.  -4. 100.  -4.   1.   0.   0.   0.   0.]\n",
            " [  0.   0.   1.  -4. 100.  -4.   1.   0.   0.   0.]\n",
            " [  0.   0.   0.   1.  -4. 100.  -4.   1.   0.   0.]\n",
            " [  0.   0.   0.   0.   1.  -4. 100.  -4.   1.   0.]\n",
            " [  0.   0.   0.   0.   0.   1.  -4. 100.  -4.   1.]\n",
            " [  0.   0.   0.   0.   0.   0.   1.  -4. 100.  -4.]\n",
            " [  0.   0.   0.   0.   0.   0.   0.   1.  -4. 100.]]\n",
            "\n",
            "[0.0001 0.0001 0.0001 0.0001 0.0001 0.0001 0.0001 0.0001 0.0001 0.0001]\n"
          ]
        }
      ]
    },
    {
      "cell_type": "code",
      "source": [
        "# Calculando a decomposição de Cholesky da matriz A:\n",
        "H = cholesky_decomposition(A)\n",
        "\n",
        "# Resolvendo o sistema triangular inferior Hy = b:\n",
        "y = solve_triangular_lower(H, b)\n",
        "\n",
        "# Resolvendo o sistema triangular superior H^T x = y:\n",
        "x = solve_triangular_upper(H.T, y)\n",
        "\n",
        "print(\"A solução do sistema é:\")\n",
        "print(x)"
      ],
      "metadata": {
        "colab": {
          "base_uri": "https://localhost:8080/"
        },
        "id": "eEurEQWznA0u",
        "outputId": "7c9881f8-770b-4c93-b422-f7094038f1e1"
      },
      "execution_count": 65,
      "outputs": [
        {
          "output_type": "stream",
          "name": "stdout",
          "text": [
            "A solução do sistema é:\n",
            "[1.03228419e-06 1.07323449e-06 1.06451885e-06 1.06376302e-06\n",
            " 1.06382052e-06 1.06382052e-06 1.06376302e-06 1.06451885e-06\n",
            " 1.07323449e-06 1.03228419e-06]\n"
          ]
        }
      ]
    },
    {
      "cell_type": "code",
      "source": [
        "# Para n = 1000\n",
        "A = montar_matriz(N)\n",
        "b = np.ones(N)/N**(4)\n",
        "\n",
        "# Calculando a decomposição de Cholesky da matriz A:\n",
        "H = cholesky_decomposition(A)\n",
        "\n",
        "# Resolvendo o sistema triangular inferior Hy = b:\n",
        "y = solve_triangular_lower(H, b)\n",
        "\n",
        "# Resolvendo o sistema triangular superior H^T x = y:\n",
        "x = solve_triangular_upper(H.T, y)\n",
        "\n",
        "print(\"A solução do sistema é:\")\n",
        "print(x)"
      ],
      "metadata": {
        "colab": {
          "base_uri": "https://localhost:8080/"
        },
        "id": "ooA6s3KEnWsk",
        "outputId": "4ddec373-93c9-40b9-c50b-0f132bd780d3"
      },
      "execution_count": 67,
      "outputs": [
        {
          "output_type": "stream",
          "name": "stdout",
          "text": [
            "A solução do sistema é:\n",
            "[1.03228419e-14 1.07323449e-14 1.06451885e-14 1.06376292e-14\n",
            " 1.06382023e-14 1.06383008e-14 1.06382989e-14 1.06382979e-14\n",
            " 1.06382979e-14 1.06382979e-14 1.06382979e-14 1.06382979e-14\n",
            " 1.06382979e-14 1.06382979e-14 1.06382979e-14 1.06382979e-14\n",
            " 1.06382979e-14 1.06382979e-14 1.06382979e-14 1.06382979e-14\n",
            " 1.06382979e-14 1.06382979e-14 1.06382979e-14 1.06382979e-14\n",
            " 1.06382979e-14 1.06382979e-14 1.06382979e-14 1.06382979e-14\n",
            " 1.06382979e-14 1.06382979e-14 1.06382979e-14 1.06382979e-14\n",
            " 1.06382979e-14 1.06382979e-14 1.06382979e-14 1.06382979e-14\n",
            " 1.06382979e-14 1.06382979e-14 1.06382979e-14 1.06382979e-14\n",
            " 1.06382979e-14 1.06382979e-14 1.06382979e-14 1.06382979e-14\n",
            " 1.06382979e-14 1.06382979e-14 1.06382979e-14 1.06382979e-14\n",
            " 1.06382979e-14 1.06382979e-14 1.06382979e-14 1.06382979e-14\n",
            " 1.06382979e-14 1.06382979e-14 1.06382979e-14 1.06382979e-14\n",
            " 1.06382979e-14 1.06382979e-14 1.06382979e-14 1.06382979e-14\n",
            " 1.06382979e-14 1.06382979e-14 1.06382979e-14 1.06382979e-14\n",
            " 1.06382979e-14 1.06382979e-14 1.06382979e-14 1.06382979e-14\n",
            " 1.06382979e-14 1.06382979e-14 1.06382979e-14 1.06382979e-14\n",
            " 1.06382979e-14 1.06382979e-14 1.06382979e-14 1.06382979e-14\n",
            " 1.06382979e-14 1.06382979e-14 1.06382979e-14 1.06382979e-14\n",
            " 1.06382979e-14 1.06382979e-14 1.06382979e-14 1.06382979e-14\n",
            " 1.06382979e-14 1.06382979e-14 1.06382979e-14 1.06382979e-14\n",
            " 1.06382979e-14 1.06382979e-14 1.06382979e-14 1.06382979e-14\n",
            " 1.06382979e-14 1.06382979e-14 1.06382979e-14 1.06382979e-14\n",
            " 1.06382979e-14 1.06382979e-14 1.06382979e-14 1.06382979e-14\n",
            " 1.06382979e-14 1.06382979e-14 1.06382979e-14 1.06382979e-14\n",
            " 1.06382979e-14 1.06382979e-14 1.06382979e-14 1.06382979e-14\n",
            " 1.06382979e-14 1.06382979e-14 1.06382979e-14 1.06382979e-14\n",
            " 1.06382979e-14 1.06382979e-14 1.06382979e-14 1.06382979e-14\n",
            " 1.06382979e-14 1.06382979e-14 1.06382979e-14 1.06382979e-14\n",
            " 1.06382979e-14 1.06382979e-14 1.06382979e-14 1.06382979e-14\n",
            " 1.06382979e-14 1.06382979e-14 1.06382979e-14 1.06382979e-14\n",
            " 1.06382979e-14 1.06382979e-14 1.06382979e-14 1.06382979e-14\n",
            " 1.06382979e-14 1.06382979e-14 1.06382979e-14 1.06382979e-14\n",
            " 1.06382979e-14 1.06382979e-14 1.06382979e-14 1.06382979e-14\n",
            " 1.06382979e-14 1.06382979e-14 1.06382979e-14 1.06382979e-14\n",
            " 1.06382979e-14 1.06382979e-14 1.06382979e-14 1.06382979e-14\n",
            " 1.06382979e-14 1.06382979e-14 1.06382979e-14 1.06382979e-14\n",
            " 1.06382979e-14 1.06382979e-14 1.06382979e-14 1.06382979e-14\n",
            " 1.06382979e-14 1.06382979e-14 1.06382979e-14 1.06382979e-14\n",
            " 1.06382979e-14 1.06382979e-14 1.06382979e-14 1.06382979e-14\n",
            " 1.06382979e-14 1.06382979e-14 1.06382979e-14 1.06382979e-14\n",
            " 1.06382979e-14 1.06382979e-14 1.06382979e-14 1.06382979e-14\n",
            " 1.06382979e-14 1.06382979e-14 1.06382979e-14 1.06382979e-14\n",
            " 1.06382979e-14 1.06382979e-14 1.06382979e-14 1.06382979e-14\n",
            " 1.06382979e-14 1.06382979e-14 1.06382979e-14 1.06382979e-14\n",
            " 1.06382979e-14 1.06382979e-14 1.06382979e-14 1.06382979e-14\n",
            " 1.06382979e-14 1.06382979e-14 1.06382979e-14 1.06382979e-14\n",
            " 1.06382979e-14 1.06382979e-14 1.06382979e-14 1.06382979e-14\n",
            " 1.06382979e-14 1.06382979e-14 1.06382979e-14 1.06382979e-14\n",
            " 1.06382979e-14 1.06382979e-14 1.06382979e-14 1.06382979e-14\n",
            " 1.06382979e-14 1.06382979e-14 1.06382979e-14 1.06382979e-14\n",
            " 1.06382979e-14 1.06382979e-14 1.06382979e-14 1.06382979e-14\n",
            " 1.06382979e-14 1.06382979e-14 1.06382979e-14 1.06382979e-14\n",
            " 1.06382979e-14 1.06382979e-14 1.06382979e-14 1.06382979e-14\n",
            " 1.06382979e-14 1.06382979e-14 1.06382979e-14 1.06382979e-14\n",
            " 1.06382979e-14 1.06382979e-14 1.06382979e-14 1.06382979e-14\n",
            " 1.06382979e-14 1.06382979e-14 1.06382979e-14 1.06382979e-14\n",
            " 1.06382979e-14 1.06382979e-14 1.06382979e-14 1.06382979e-14\n",
            " 1.06382979e-14 1.06382979e-14 1.06382979e-14 1.06382979e-14\n",
            " 1.06382979e-14 1.06382979e-14 1.06382979e-14 1.06382979e-14\n",
            " 1.06382979e-14 1.06382979e-14 1.06382979e-14 1.06382979e-14\n",
            " 1.06382979e-14 1.06382979e-14 1.06382979e-14 1.06382979e-14\n",
            " 1.06382979e-14 1.06382979e-14 1.06382979e-14 1.06382979e-14\n",
            " 1.06382979e-14 1.06382979e-14 1.06382979e-14 1.06382979e-14\n",
            " 1.06382979e-14 1.06382979e-14 1.06382979e-14 1.06382979e-14\n",
            " 1.06382979e-14 1.06382979e-14 1.06382979e-14 1.06382979e-14\n",
            " 1.06382979e-14 1.06382979e-14 1.06382979e-14 1.06382979e-14\n",
            " 1.06382979e-14 1.06382979e-14 1.06382979e-14 1.06382979e-14\n",
            " 1.06382979e-14 1.06382979e-14 1.06382979e-14 1.06382979e-14\n",
            " 1.06382979e-14 1.06382979e-14 1.06382979e-14 1.06382979e-14\n",
            " 1.06382979e-14 1.06382979e-14 1.06382979e-14 1.06382979e-14\n",
            " 1.06382979e-14 1.06382979e-14 1.06382979e-14 1.06382979e-14\n",
            " 1.06382979e-14 1.06382979e-14 1.06382979e-14 1.06382979e-14\n",
            " 1.06382979e-14 1.06382979e-14 1.06382979e-14 1.06382979e-14\n",
            " 1.06382979e-14 1.06382979e-14 1.06382979e-14 1.06382979e-14\n",
            " 1.06382979e-14 1.06382979e-14 1.06382979e-14 1.06382979e-14\n",
            " 1.06382979e-14 1.06382979e-14 1.06382979e-14 1.06382979e-14\n",
            " 1.06382979e-14 1.06382979e-14 1.06382979e-14 1.06382979e-14\n",
            " 1.06382979e-14 1.06382979e-14 1.06382979e-14 1.06382979e-14\n",
            " 1.06382979e-14 1.06382979e-14 1.06382979e-14 1.06382979e-14\n",
            " 1.06382979e-14 1.06382979e-14 1.06382979e-14 1.06382979e-14\n",
            " 1.06382979e-14 1.06382979e-14 1.06382979e-14 1.06382979e-14\n",
            " 1.06382979e-14 1.06382979e-14 1.06382979e-14 1.06382979e-14\n",
            " 1.06382979e-14 1.06382979e-14 1.06382979e-14 1.06382979e-14\n",
            " 1.06382979e-14 1.06382979e-14 1.06382979e-14 1.06382979e-14\n",
            " 1.06382979e-14 1.06382979e-14 1.06382979e-14 1.06382979e-14\n",
            " 1.06382979e-14 1.06382979e-14 1.06382979e-14 1.06382979e-14\n",
            " 1.06382979e-14 1.06382979e-14 1.06382979e-14 1.06382979e-14\n",
            " 1.06382979e-14 1.06382979e-14 1.06382979e-14 1.06382979e-14\n",
            " 1.06382979e-14 1.06382979e-14 1.06382979e-14 1.06382979e-14\n",
            " 1.06382979e-14 1.06382979e-14 1.06382979e-14 1.06382979e-14\n",
            " 1.06382979e-14 1.06382979e-14 1.06382979e-14 1.06382979e-14\n",
            " 1.06382979e-14 1.06382979e-14 1.06382979e-14 1.06382979e-14\n",
            " 1.06382979e-14 1.06382979e-14 1.06382979e-14 1.06382979e-14\n",
            " 1.06382979e-14 1.06382979e-14 1.06382979e-14 1.06382979e-14\n",
            " 1.06382979e-14 1.06382979e-14 1.06382979e-14 1.06382979e-14\n",
            " 1.06382979e-14 1.06382979e-14 1.06382979e-14 1.06382979e-14\n",
            " 1.06382979e-14 1.06382979e-14 1.06382979e-14 1.06382979e-14\n",
            " 1.06382979e-14 1.06382979e-14 1.06382979e-14 1.06382979e-14\n",
            " 1.06382979e-14 1.06382979e-14 1.06382979e-14 1.06382979e-14\n",
            " 1.06382979e-14 1.06382979e-14 1.06382979e-14 1.06382979e-14\n",
            " 1.06382979e-14 1.06382979e-14 1.06382979e-14 1.06382979e-14\n",
            " 1.06382979e-14 1.06382979e-14 1.06382979e-14 1.06382979e-14\n",
            " 1.06382979e-14 1.06382979e-14 1.06382979e-14 1.06382979e-14\n",
            " 1.06382979e-14 1.06382979e-14 1.06382979e-14 1.06382979e-14\n",
            " 1.06382979e-14 1.06382979e-14 1.06382979e-14 1.06382979e-14\n",
            " 1.06382979e-14 1.06382979e-14 1.06382979e-14 1.06382979e-14\n",
            " 1.06382979e-14 1.06382979e-14 1.06382979e-14 1.06382979e-14\n",
            " 1.06382979e-14 1.06382979e-14 1.06382979e-14 1.06382979e-14\n",
            " 1.06382979e-14 1.06382979e-14 1.06382979e-14 1.06382979e-14\n",
            " 1.06382979e-14 1.06382979e-14 1.06382979e-14 1.06382979e-14\n",
            " 1.06382979e-14 1.06382979e-14 1.06382979e-14 1.06382979e-14\n",
            " 1.06382979e-14 1.06382979e-14 1.06382979e-14 1.06382979e-14\n",
            " 1.06382979e-14 1.06382979e-14 1.06382979e-14 1.06382979e-14\n",
            " 1.06382979e-14 1.06382979e-14 1.06382979e-14 1.06382979e-14\n",
            " 1.06382979e-14 1.06382979e-14 1.06382979e-14 1.06382979e-14\n",
            " 1.06382979e-14 1.06382979e-14 1.06382979e-14 1.06382979e-14\n",
            " 1.06382979e-14 1.06382979e-14 1.06382979e-14 1.06382979e-14\n",
            " 1.06382979e-14 1.06382979e-14 1.06382979e-14 1.06382979e-14\n",
            " 1.06382979e-14 1.06382979e-14 1.06382979e-14 1.06382979e-14\n",
            " 1.06382979e-14 1.06382979e-14 1.06382979e-14 1.06382979e-14\n",
            " 1.06382979e-14 1.06382979e-14 1.06382979e-14 1.06382979e-14\n",
            " 1.06382979e-14 1.06382979e-14 1.06382979e-14 1.06382979e-14\n",
            " 1.06382979e-14 1.06382979e-14 1.06382979e-14 1.06382979e-14\n",
            " 1.06382979e-14 1.06382979e-14 1.06382979e-14 1.06382979e-14\n",
            " 1.06382979e-14 1.06382979e-14 1.06382979e-14 1.06382979e-14\n",
            " 1.06382979e-14 1.06382979e-14 1.06382979e-14 1.06382979e-14\n",
            " 1.06382979e-14 1.06382979e-14 1.06382979e-14 1.06382979e-14\n",
            " 1.06382979e-14 1.06382979e-14 1.06382979e-14 1.06382979e-14\n",
            " 1.06382979e-14 1.06382979e-14 1.06382979e-14 1.06382979e-14\n",
            " 1.06382979e-14 1.06382979e-14 1.06382979e-14 1.06382979e-14\n",
            " 1.06382979e-14 1.06382979e-14 1.06382979e-14 1.06382979e-14\n",
            " 1.06382979e-14 1.06382979e-14 1.06382979e-14 1.06382979e-14\n",
            " 1.06382979e-14 1.06382979e-14 1.06382979e-14 1.06382979e-14\n",
            " 1.06382979e-14 1.06382979e-14 1.06382979e-14 1.06382979e-14\n",
            " 1.06382979e-14 1.06382979e-14 1.06382979e-14 1.06382979e-14\n",
            " 1.06382979e-14 1.06382979e-14 1.06382979e-14 1.06382979e-14\n",
            " 1.06382979e-14 1.06382979e-14 1.06382979e-14 1.06382979e-14\n",
            " 1.06382979e-14 1.06382979e-14 1.06382979e-14 1.06382979e-14\n",
            " 1.06382979e-14 1.06382979e-14 1.06382979e-14 1.06382979e-14\n",
            " 1.06382979e-14 1.06382979e-14 1.06382979e-14 1.06382979e-14\n",
            " 1.06382979e-14 1.06382979e-14 1.06382979e-14 1.06382979e-14\n",
            " 1.06382979e-14 1.06382979e-14 1.06382979e-14 1.06382979e-14\n",
            " 1.06382979e-14 1.06382979e-14 1.06382979e-14 1.06382979e-14\n",
            " 1.06382979e-14 1.06382979e-14 1.06382979e-14 1.06382979e-14\n",
            " 1.06382979e-14 1.06382979e-14 1.06382979e-14 1.06382979e-14\n",
            " 1.06382979e-14 1.06382979e-14 1.06382979e-14 1.06382979e-14\n",
            " 1.06382979e-14 1.06382979e-14 1.06382979e-14 1.06382979e-14\n",
            " 1.06382979e-14 1.06382979e-14 1.06382979e-14 1.06382979e-14\n",
            " 1.06382979e-14 1.06382979e-14 1.06382979e-14 1.06382979e-14\n",
            " 1.06382979e-14 1.06382979e-14 1.06382979e-14 1.06382979e-14\n",
            " 1.06382979e-14 1.06382979e-14 1.06382979e-14 1.06382979e-14\n",
            " 1.06382979e-14 1.06382979e-14 1.06382979e-14 1.06382979e-14\n",
            " 1.06382979e-14 1.06382979e-14 1.06382979e-14 1.06382979e-14\n",
            " 1.06382979e-14 1.06382979e-14 1.06382979e-14 1.06382979e-14\n",
            " 1.06382979e-14 1.06382979e-14 1.06382979e-14 1.06382979e-14\n",
            " 1.06382979e-14 1.06382979e-14 1.06382979e-14 1.06382979e-14\n",
            " 1.06382979e-14 1.06382979e-14 1.06382979e-14 1.06382979e-14\n",
            " 1.06382979e-14 1.06382979e-14 1.06382979e-14 1.06382979e-14\n",
            " 1.06382979e-14 1.06382979e-14 1.06382979e-14 1.06382979e-14\n",
            " 1.06382979e-14 1.06382979e-14 1.06382979e-14 1.06382979e-14\n",
            " 1.06382979e-14 1.06382979e-14 1.06382979e-14 1.06382979e-14\n",
            " 1.06382979e-14 1.06382979e-14 1.06382979e-14 1.06382979e-14\n",
            " 1.06382979e-14 1.06382979e-14 1.06382979e-14 1.06382979e-14\n",
            " 1.06382979e-14 1.06382979e-14 1.06382979e-14 1.06382979e-14\n",
            " 1.06382979e-14 1.06382979e-14 1.06382979e-14 1.06382979e-14\n",
            " 1.06382979e-14 1.06382979e-14 1.06382979e-14 1.06382979e-14\n",
            " 1.06382979e-14 1.06382979e-14 1.06382979e-14 1.06382979e-14\n",
            " 1.06382979e-14 1.06382979e-14 1.06382979e-14 1.06382979e-14\n",
            " 1.06382979e-14 1.06382979e-14 1.06382979e-14 1.06382979e-14\n",
            " 1.06382979e-14 1.06382979e-14 1.06382979e-14 1.06382979e-14\n",
            " 1.06382979e-14 1.06382979e-14 1.06382979e-14 1.06382979e-14\n",
            " 1.06382979e-14 1.06382979e-14 1.06382979e-14 1.06382979e-14\n",
            " 1.06382979e-14 1.06382979e-14 1.06382979e-14 1.06382979e-14\n",
            " 1.06382979e-14 1.06382979e-14 1.06382979e-14 1.06382979e-14\n",
            " 1.06382979e-14 1.06382979e-14 1.06382979e-14 1.06382979e-14\n",
            " 1.06382979e-14 1.06382979e-14 1.06382979e-14 1.06382979e-14\n",
            " 1.06382979e-14 1.06382979e-14 1.06382979e-14 1.06382979e-14\n",
            " 1.06382979e-14 1.06382979e-14 1.06382979e-14 1.06382979e-14\n",
            " 1.06382979e-14 1.06382979e-14 1.06382979e-14 1.06382979e-14\n",
            " 1.06382979e-14 1.06382979e-14 1.06382979e-14 1.06382979e-14\n",
            " 1.06382979e-14 1.06382979e-14 1.06382979e-14 1.06382979e-14\n",
            " 1.06382979e-14 1.06382979e-14 1.06382979e-14 1.06382979e-14\n",
            " 1.06382979e-14 1.06382979e-14 1.06382979e-14 1.06382979e-14\n",
            " 1.06382979e-14 1.06382979e-14 1.06382979e-14 1.06382979e-14\n",
            " 1.06382979e-14 1.06382979e-14 1.06382979e-14 1.06382979e-14\n",
            " 1.06382979e-14 1.06382979e-14 1.06382979e-14 1.06382979e-14\n",
            " 1.06382979e-14 1.06382979e-14 1.06382979e-14 1.06382979e-14\n",
            " 1.06382979e-14 1.06382979e-14 1.06382979e-14 1.06382979e-14\n",
            " 1.06382979e-14 1.06382979e-14 1.06382979e-14 1.06382979e-14\n",
            " 1.06382979e-14 1.06382979e-14 1.06382979e-14 1.06382979e-14\n",
            " 1.06382979e-14 1.06382979e-14 1.06382979e-14 1.06382979e-14\n",
            " 1.06382979e-14 1.06382979e-14 1.06382979e-14 1.06382979e-14\n",
            " 1.06382979e-14 1.06382979e-14 1.06382979e-14 1.06382979e-14\n",
            " 1.06382979e-14 1.06382979e-14 1.06382979e-14 1.06382979e-14\n",
            " 1.06382979e-14 1.06382979e-14 1.06382979e-14 1.06382979e-14\n",
            " 1.06382979e-14 1.06382979e-14 1.06382979e-14 1.06382979e-14\n",
            " 1.06382979e-14 1.06382979e-14 1.06382979e-14 1.06382979e-14\n",
            " 1.06382979e-14 1.06382979e-14 1.06382979e-14 1.06382979e-14\n",
            " 1.06382979e-14 1.06382979e-14 1.06382979e-14 1.06382979e-14\n",
            " 1.06382979e-14 1.06382979e-14 1.06382979e-14 1.06382979e-14\n",
            " 1.06382979e-14 1.06382979e-14 1.06382979e-14 1.06382979e-14\n",
            " 1.06382979e-14 1.06382979e-14 1.06382979e-14 1.06382979e-14\n",
            " 1.06382979e-14 1.06382979e-14 1.06382979e-14 1.06382979e-14\n",
            " 1.06382979e-14 1.06382979e-14 1.06382979e-14 1.06382979e-14\n",
            " 1.06382979e-14 1.06382979e-14 1.06382979e-14 1.06382979e-14\n",
            " 1.06382979e-14 1.06382979e-14 1.06382979e-14 1.06382979e-14\n",
            " 1.06382979e-14 1.06382979e-14 1.06382979e-14 1.06382979e-14\n",
            " 1.06382979e-14 1.06382979e-14 1.06382979e-14 1.06382979e-14\n",
            " 1.06382979e-14 1.06382979e-14 1.06382979e-14 1.06382979e-14\n",
            " 1.06382979e-14 1.06382979e-14 1.06382979e-14 1.06382979e-14\n",
            " 1.06382979e-14 1.06382979e-14 1.06382979e-14 1.06382979e-14\n",
            " 1.06382979e-14 1.06382979e-14 1.06382979e-14 1.06382979e-14\n",
            " 1.06382979e-14 1.06382979e-14 1.06382979e-14 1.06382979e-14\n",
            " 1.06382979e-14 1.06382979e-14 1.06382979e-14 1.06382979e-14\n",
            " 1.06382979e-14 1.06382979e-14 1.06382979e-14 1.06382979e-14\n",
            " 1.06382979e-14 1.06382979e-14 1.06382979e-14 1.06382979e-14\n",
            " 1.06382979e-14 1.06382979e-14 1.06382979e-14 1.06382979e-14\n",
            " 1.06382979e-14 1.06382979e-14 1.06382979e-14 1.06382979e-14\n",
            " 1.06382979e-14 1.06382979e-14 1.06382979e-14 1.06382979e-14\n",
            " 1.06382979e-14 1.06382979e-14 1.06382979e-14 1.06382979e-14\n",
            " 1.06382979e-14 1.06382979e-14 1.06382979e-14 1.06382979e-14\n",
            " 1.06382979e-14 1.06382979e-14 1.06382979e-14 1.06382979e-14\n",
            " 1.06382979e-14 1.06382979e-14 1.06382979e-14 1.06382979e-14\n",
            " 1.06382979e-14 1.06382979e-14 1.06382979e-14 1.06382979e-14\n",
            " 1.06382979e-14 1.06382979e-14 1.06382979e-14 1.06382979e-14\n",
            " 1.06382979e-14 1.06382979e-14 1.06382979e-14 1.06382979e-14\n",
            " 1.06382979e-14 1.06382979e-14 1.06382979e-14 1.06382979e-14\n",
            " 1.06382979e-14 1.06382979e-14 1.06382979e-14 1.06382979e-14\n",
            " 1.06382979e-14 1.06382979e-14 1.06382979e-14 1.06382979e-14\n",
            " 1.06382979e-14 1.06382979e-14 1.06382979e-14 1.06382979e-14\n",
            " 1.06382979e-14 1.06382979e-14 1.06382979e-14 1.06382979e-14\n",
            " 1.06382979e-14 1.06382979e-14 1.06382979e-14 1.06382979e-14\n",
            " 1.06382979e-14 1.06382979e-14 1.06382979e-14 1.06382979e-14\n",
            " 1.06382979e-14 1.06382979e-14 1.06382979e-14 1.06382979e-14\n",
            " 1.06382979e-14 1.06382979e-14 1.06382979e-14 1.06382979e-14\n",
            " 1.06382979e-14 1.06382979e-14 1.06382979e-14 1.06382979e-14\n",
            " 1.06382979e-14 1.06382979e-14 1.06382979e-14 1.06382979e-14\n",
            " 1.06382979e-14 1.06382979e-14 1.06382979e-14 1.06382979e-14\n",
            " 1.06382979e-14 1.06382979e-14 1.06382979e-14 1.06382979e-14\n",
            " 1.06382979e-14 1.06382979e-14 1.06382979e-14 1.06382979e-14\n",
            " 1.06382979e-14 1.06382979e-14 1.06382979e-14 1.06382979e-14\n",
            " 1.06382979e-14 1.06382979e-14 1.06382979e-14 1.06382979e-14\n",
            " 1.06382979e-14 1.06382979e-14 1.06382979e-14 1.06382979e-14\n",
            " 1.06382979e-14 1.06382979e-14 1.06382979e-14 1.06382979e-14\n",
            " 1.06382979e-14 1.06382979e-14 1.06382979e-14 1.06382979e-14\n",
            " 1.06382979e-14 1.06382979e-14 1.06382979e-14 1.06382979e-14\n",
            " 1.06382979e-14 1.06382989e-14 1.06383008e-14 1.06382023e-14\n",
            " 1.06376292e-14 1.06451885e-14 1.07323449e-14 1.03228419e-14]\n"
          ]
        }
      ]
    },
    {
      "cell_type": "markdown",
      "source": [
        "<hr>"
      ],
      "metadata": {
        "id": "nQ3AYu4unoMT"
      }
    },
    {
      "cell_type": "markdown",
      "source": [
        "d)  Escreva um código implementando o método de Jacobi para resolver um sistema Ax=b.  Utilize o erro absoluto como critério de parada."
      ],
      "metadata": {
        "id": "E0abD9EQnpuj"
      }
    },
    {
      "cell_type": "code",
      "source": [
        "def jacobi(A, b, max_itr=100, tol=1e-6):\n",
        "    \"\"\"\n",
        "    Resolve um sistema linear Ax = b utilizando o método de Jacobi.\n",
        "    Retorna o vetor x, que é a solução do sistema.\n",
        "    \"\"\"\n",
        "    n = len(b)\n",
        "    x = np.zeros(n)\n",
        "    x_prev = np.zeros(n)\n",
        "    iterations = 0\n",
        "\n",
        "    while iterations < max_itr:\n",
        "        for i in range(n):\n",
        "            x[i] = (b[i] - np.dot(A[i, :i], x_prev[:i]) - np.dot(A[i, i+1:], x_prev[i+1:])) / A[i, i]\n",
        "\n",
        "        error = np.linalg.norm(x - x_prev, ord=np.inf)\n",
        "        if error < tol:\n",
        "            break\n",
        "\n",
        "        x_prev = x.copy()\n",
        "        iterations += 1\n",
        "\n",
        "    return x"
      ],
      "metadata": {
        "id": "zeuvjx8ypU6j"
      },
      "execution_count": null,
      "outputs": []
    }
  ]
}