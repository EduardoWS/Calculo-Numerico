{
  "nbformat": 4,
  "nbformat_minor": 0,
  "metadata": {
    "colab": {
      "provenance": [],
      "authorship_tag": "ABX9TyMjAnLEKcpPaBG0rhJnX2xV",
      "include_colab_link": true
    },
    "kernelspec": {
      "name": "python3",
      "display_name": "Python 3"
    },
    "language_info": {
      "name": "python"
    }
  },
  "cells": [
    {
      "cell_type": "markdown",
      "metadata": {
        "id": "view-in-github",
        "colab_type": "text"
      },
      "source": [
        "<a href=\"https://colab.research.google.com/github/EduardoWS/Calculo-Numerico/blob/main/EduardoRibeiroRodrigues_13696679_02.ipynb\" target=\"_parent\"><img src=\"https://colab.research.google.com/assets/colab-badge.svg\" alt=\"Open In Colab\"/></a>"
      ]
    },
    {
      "cell_type": "markdown",
      "source": [
        "# **1  Sistemas Lineares com Matrizes Simétricas**"
      ],
      "metadata": {
        "id": "szZyU9WYI18l"
      }
    },
    {
      "cell_type": "markdown",
      "source": [
        "###**1) Considere a matriz *A* e o vetor b dados abaixo**"
      ],
      "metadata": {
        "id": "_COG5ZXbKMAN"
      }
    },
    {
      "cell_type": "markdown",
      "source": [
        "![image.png](data:image/png;base64,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)"
      ],
      "metadata": {
        "id": "k5SJFc9AJJAM"
      }
    },
    {
      "cell_type": "markdown",
      "source": [
        "###**Seja *n* a dimensão do problema.** "
      ],
      "metadata": {
        "id": "LYcfb4kUK8rX"
      }
    },
    {
      "cell_type": "markdown",
      "source": [
        "a)  Escreva um código que monte a matriz *A* para *n* = 1000."
      ],
      "metadata": {
        "id": "qtWHwp2mLLa2"
      }
    },
    {
      "cell_type": "code",
      "source": [
        "#imports\n",
        "import numpy as np\n",
        "\n",
        "#contantes\n",
        "N = 1000              \n"
      ],
      "metadata": {
        "id": "XOGfbqXSWs1L"
      },
      "execution_count": 111,
      "outputs": []
    },
    {
      "cell_type": "code",
      "source": [
        "def montar_matriz(N):\n",
        "    A = np.eye(N) * 100\n",
        "\n",
        "    # Atualiza os vizinhos da diagonal principal com o valor -4\n",
        "    for i in range(N):\n",
        "        if i > 0:\n",
        "            A[i, i-1] = -4  # Vizinho à esquerda\n",
        "        if i < N-1:\n",
        "            A[i, i+1] = -4  # Vizinho à direita\n",
        "\n",
        "    # Atualiza os vizinhos de -4 para 1\n",
        "    for i in range(N):\n",
        "        if i > 0:\n",
        "            if A[i, i-1] == -4:\n",
        "                if i-1 < 0 or i == 1:\n",
        "                    pass\n",
        "                else:\n",
        "                    A[i, i-2] = 1  # Vizinho à esquerda\n",
        "                \n",
        "        if i < N-1:\n",
        "            if A[i, i+1] == -4:\n",
        "                if i+1 >= N-1:\n",
        "                    pass\n",
        "                else:\n",
        "                    A[i, i+2] = 1  # Vizinho à direita\n",
        "    return A\n"
      ],
      "metadata": {
        "id": "U-Ms9fvsLVAi"
      },
      "execution_count": 112,
      "outputs": []
    },
    {
      "cell_type": "code",
      "source": [
        "A = montar_matriz(10)\n",
        "\n",
        "print(\"EXEMPLO COM N = 10:\\n\")\n",
        "print(A)"
      ],
      "metadata": {
        "colab": {
          "base_uri": "https://localhost:8080/"
        },
        "id": "gFPbZ_l_XbLq",
        "outputId": "d172d433-7761-4c6c-81ce-dcae45d10aee"
      },
      "execution_count": 113,
      "outputs": [
        {
          "output_type": "stream",
          "name": "stdout",
          "text": [
            "EXEMPLO COM N = 10:\n",
            "\n",
            "[[100.  -4.   1.   0.   0.   0.   0.   0.   0.   0.]\n",
            " [ -4. 100.  -4.   1.   0.   0.   0.   0.   0.   0.]\n",
            " [  1.  -4. 100.  -4.   1.   0.   0.   0.   0.   0.]\n",
            " [  0.   1.  -4. 100.  -4.   1.   0.   0.   0.   0.]\n",
            " [  0.   0.   1.  -4. 100.  -4.   1.   0.   0.   0.]\n",
            " [  0.   0.   0.   1.  -4. 100.  -4.   1.   0.   0.]\n",
            " [  0.   0.   0.   0.   1.  -4. 100.  -4.   1.   0.]\n",
            " [  0.   0.   0.   0.   0.   1.  -4. 100.  -4.   1.]\n",
            " [  0.   0.   0.   0.   0.   0.   1.  -4. 100.  -4.]\n",
            " [  0.   0.   0.   0.   0.   0.   0.   1.  -4. 100.]]\n"
          ]
        }
      ]
    },
    {
      "cell_type": "code",
      "source": [
        "A = montar_matriz(N)\n",
        "\n",
        "print(\"EXEMPLO COM N = 1000:\\n\")\n",
        "print(A)"
      ],
      "metadata": {
        "colab": {
          "base_uri": "https://localhost:8080/"
        },
        "id": "oSHFPb-YXvxp",
        "outputId": "944b3442-0daa-43d7-ae58-7b84db4dff8f"
      },
      "execution_count": 114,
      "outputs": [
        {
          "output_type": "stream",
          "name": "stdout",
          "text": [
            "EXEMPLO COM N = 1000:\n",
            "\n",
            "[[100.  -4.   1. ...   0.   0.   0.]\n",
            " [ -4. 100.  -4. ...   0.   0.   0.]\n",
            " [  1.  -4. 100. ...   0.   0.   0.]\n",
            " ...\n",
            " [  0.   0.   0. ... 100.  -4.   1.]\n",
            " [  0.   0.   0. ...  -4. 100.  -4.]\n",
            " [  0.   0.   0. ...   1.  -4. 100.]]\n"
          ]
        }
      ]
    },
    {
      "cell_type": "markdown",
      "source": [
        "<hr>"
      ],
      "metadata": {
        "id": "KIFtaWzuZTlF"
      }
    },
    {
      "cell_type": "markdown",
      "source": [
        "b) Escreva um código que faça a decomposição de Cholesky de uma matriz simétrica definida positiva qualquer."
      ],
      "metadata": {
        "id": "TrYI4JaQX_Wg"
      }
    },
    {
      "cell_type": "code",
      "source": [
        "# Exemplo de matriz A simétrica definida positiva\n",
        "A = np.array([[9, 2, 1],\n",
        "              [2, 5, 2],\n",
        "              [1, 2, 6]])\n",
        "\n",
        "# Vetor x\n",
        "x = np.array([1, 2, 3])\n",
        "\n",
        "# Vetor b\n",
        "b = np.dot(A, x)\n",
        "\n",
        "print(\"Matriz A:\")\n",
        "print(A)\n",
        "print(\"\\nVetor x:\")\n",
        "print(x)\n",
        "print(\"\\nVetor b:\")\n",
        "print(b)"
      ],
      "metadata": {
        "colab": {
          "base_uri": "https://localhost:8080/"
        },
        "id": "vyLTtrVwjDVJ",
        "outputId": "8fd528e3-5c12-4532-dae9-37165c4726df"
      },
      "execution_count": 115,
      "outputs": [
        {
          "output_type": "stream",
          "name": "stdout",
          "text": [
            "Matriz A:\n",
            "[[9 2 1]\n",
            " [2 5 2]\n",
            " [1 2 6]]\n",
            "\n",
            "Vetor x:\n",
            "[1 2 3]\n",
            "\n",
            "Vetor b:\n",
            "[16 18 23]\n"
          ]
        }
      ]
    },
    {
      "cell_type": "code",
      "source": [
        "# EXEMPLO USANDO FUNÇÕES DO PYTHON\n",
        "from scipy.linalg import cholesky, solve_triangular\n",
        "\n",
        "A = np.array([[9, 2, 1],\n",
        "              [2, 5, 2],\n",
        "              [1, 2, 6]])\n",
        "\n",
        "b = [16, 18, 23]\n",
        "\n",
        "L = cholesky(A, lower=True)\n",
        "y = solve_triangular(L, b, lower=True)\n",
        "x = solve_triangular(L.T, y, lower=False)\n",
        "\n",
        "print(\"A solução do sistema é:\")\n",
        "print(x)"
      ],
      "metadata": {
        "colab": {
          "base_uri": "https://localhost:8080/"
        },
        "id": "fRYsRqUojYpG",
        "outputId": "30c46b29-3f4a-4190-8568-1249e2b5cbb7"
      },
      "execution_count": 116,
      "outputs": [
        {
          "output_type": "stream",
          "name": "stdout",
          "text": [
            "A solução do sistema é:\n",
            "[1. 2. 3.]\n"
          ]
        }
      ]
    },
    {
      "cell_type": "code",
      "source": [
        "def cholesky_decomposition(A):\n",
        "    \"\"\"\n",
        "    Realiza a decomposição de Cholesky de uma matriz simétrica definida positiva A.\n",
        "    Retorna a matriz triangular inferior L.\n",
        "    \"\"\"\n",
        "    n = A.shape[0]\n",
        "    L = np.zeros_like(A, dtype=float)\n",
        "\n",
        "    for i in range(n):\n",
        "        for j in range(i + 1):\n",
        "            if i == j:\n",
        "                L[i, i] = np.sqrt(A[i, i] - np.dot(L[i, :i], L[i, :i]))\n",
        "            else:\n",
        "                L[i, j] = (A[i, j] - np.dot(L[i, :j], L[j, :j])) / L[j, j]\n",
        "\n",
        "    return L"
      ],
      "metadata": {
        "id": "2XYNNwclj4jW"
      },
      "execution_count": 117,
      "outputs": []
    },
    {
      "cell_type": "code",
      "source": [
        "def solve_triangular_lower(L, b):\n",
        "    \"\"\"\n",
        "    Resolve um sistema triangular inferior Ly = b, onde L é uma matriz triangular inferior e b é um vetor.\n",
        "    Retorna o vetor y, que é a solução do sistema.\n",
        "    \"\"\"\n",
        "    n = len(b)\n",
        "    y = np.zeros(n)\n",
        "\n",
        "    for i in range(n):\n",
        "        y[i] = (b[i] - np.dot(L[i, :i], y[:i])) / L[i, i]\n",
        "\n",
        "    return y\n",
        "\n",
        "def solve_triangular_upper(U, b):\n",
        "    \"\"\"\n",
        "    Resolve um sistema triangular superior Ux = b, onde U é uma matriz triangular superior e b é um vetor.\n",
        "    Retorna o vetor x, que é a solução do sistema.\n",
        "    \"\"\"\n",
        "    n = len(b)\n",
        "    x = np.zeros(n)\n",
        "\n",
        "    for i in range(n - 1, -1, -1):\n",
        "        x[i] = (b[i] - np.dot(U[i, i+1:], x[i+1:])) / U[i, i]\n",
        "\n",
        "    return x"
      ],
      "metadata": {
        "id": "tJMFa0d7jvm0"
      },
      "execution_count": 118,
      "outputs": []
    },
    {
      "cell_type": "code",
      "source": [
        "# Mesmo exemplo sem utilizar funções prontas:\n",
        "A = np.array([[9, 2, 1],\n",
        "              [2, 5, 2],\n",
        "              [1, 2, 6]])\n",
        "\n",
        "b = [16, 18, 23]\n",
        "\n",
        "'''\n",
        " Lembrando que A = H*H^T e que Ax = b\n",
        " Então: (H*H^T)x = b\n",
        "        H*(H^Tx) = b\n",
        "    =>  (H^T)x = y\n",
        "    =>  Hy = b\n",
        "\n",
        "'''\n",
        "\n",
        "# Calculando a decomposição de Cholesky da matriz A:\n",
        "H = cholesky_decomposition(A)\n",
        "\n",
        "# Resolvendo o sistema triangular inferior Hy = b:\n",
        "y = solve_triangular_lower(H, b)\n",
        "\n",
        "# Resolvendo o sistema triangular superior H^T x = y:\n",
        "x = solve_triangular_upper(H.T, y)\n",
        "\n",
        "print(\"A solução do sistema é:\")\n",
        "print(x)"
      ],
      "metadata": {
        "colab": {
          "base_uri": "https://localhost:8080/"
        },
        "id": "tkeYgMoZj9AN",
        "outputId": "8b8ebca3-810c-4d15-e5a6-abc9c61828dc"
      },
      "execution_count": 119,
      "outputs": [
        {
          "output_type": "stream",
          "name": "stdout",
          "text": [
            "A solução do sistema é:\n",
            "[1. 2. 3.]\n"
          ]
        }
      ]
    },
    {
      "cell_type": "markdown",
      "source": [
        "<hr>"
      ],
      "metadata": {
        "id": "I1k6UJXmlA27"
      }
    },
    {
      "cell_type": "markdown",
      "source": [
        "c)  Usando as rotinas implementadas anteriormente, escreva um código para resolver um sistema Ax=b"
      ],
      "metadata": {
        "id": "c3NGkLfklJHq"
      }
    },
    {
      "cell_type": "code",
      "source": [
        "# Exemplo para n = 10:\n",
        "n = 10\n",
        "\n",
        "A = montar_matriz(n)\n",
        "b = np.ones(n)/n**(4)\n",
        "\n",
        "print(A)\n",
        "print()\n",
        "print(b)"
      ],
      "metadata": {
        "colab": {
          "base_uri": "https://localhost:8080/"
        },
        "id": "6PQ0QHWxlOxA",
        "outputId": "48a2c1e8-33da-4b8d-a147-ac0120c178a7"
      },
      "execution_count": 120,
      "outputs": [
        {
          "output_type": "stream",
          "name": "stdout",
          "text": [
            "[[100.  -4.   1.   0.   0.   0.   0.   0.   0.   0.]\n",
            " [ -4. 100.  -4.   1.   0.   0.   0.   0.   0.   0.]\n",
            " [  1.  -4. 100.  -4.   1.   0.   0.   0.   0.   0.]\n",
            " [  0.   1.  -4. 100.  -4.   1.   0.   0.   0.   0.]\n",
            " [  0.   0.   1.  -4. 100.  -4.   1.   0.   0.   0.]\n",
            " [  0.   0.   0.   1.  -4. 100.  -4.   1.   0.   0.]\n",
            " [  0.   0.   0.   0.   1.  -4. 100.  -4.   1.   0.]\n",
            " [  0.   0.   0.   0.   0.   1.  -4. 100.  -4.   1.]\n",
            " [  0.   0.   0.   0.   0.   0.   1.  -4. 100.  -4.]\n",
            " [  0.   0.   0.   0.   0.   0.   0.   1.  -4. 100.]]\n",
            "\n",
            "[0.0001 0.0001 0.0001 0.0001 0.0001 0.0001 0.0001 0.0001 0.0001 0.0001]\n"
          ]
        }
      ]
    },
    {
      "cell_type": "code",
      "source": [
        "# Calculando a decomposição de Cholesky da matriz A:\n",
        "H = cholesky_decomposition(A)\n",
        "\n",
        "# Resolvendo o sistema triangular inferior Hy = b:\n",
        "y = solve_triangular_lower(H, b)\n",
        "\n",
        "# Resolvendo o sistema triangular superior H^T x = y:\n",
        "x = solve_triangular_upper(H.T, y)\n",
        "\n",
        "print(\"A solução do sistema é:\")\n",
        "print(x)"
      ],
      "metadata": {
        "colab": {
          "base_uri": "https://localhost:8080/"
        },
        "id": "eEurEQWznA0u",
        "outputId": "590ff4cd-49ac-4bd1-e679-10efc19d660b"
      },
      "execution_count": 121,
      "outputs": [
        {
          "output_type": "stream",
          "name": "stdout",
          "text": [
            "A solução do sistema é:\n",
            "[1.03228419e-06 1.07323449e-06 1.06451885e-06 1.06376302e-06\n",
            " 1.06382052e-06 1.06382052e-06 1.06376302e-06 1.06451885e-06\n",
            " 1.07323449e-06 1.03228419e-06]\n"
          ]
        }
      ]
    },
    {
      "cell_type": "code",
      "source": [
        "# Para n = 1000\n",
        "A = montar_matriz(N)\n",
        "b = np.ones(N)/N**(4)\n",
        "\n",
        "# Calculando a decomposição de Cholesky da matriz A:\n",
        "H = cholesky_decomposition(A)\n",
        "\n",
        "# Resolvendo o sistema triangular inferior Hy = b:\n",
        "y = solve_triangular_lower(H, b)\n",
        "\n",
        "# Resolvendo o sistema triangular superior H^T x = y:\n",
        "x = solve_triangular_upper(H.T, y)\n",
        "\n",
        "print(\"A solução do sistema é:\")\n",
        "print(x)"
      ],
      "metadata": {
        "colab": {
          "base_uri": "https://localhost:8080/"
        },
        "id": "ooA6s3KEnWsk",
        "outputId": "e3d81a64-5cc5-43b1-abc2-84dc971449f8"
      },
      "execution_count": 122,
      "outputs": [
        {
          "output_type": "stream",
          "name": "stdout",
          "text": [
            "A solução do sistema é:\n",
            "[1.03228419e-14 1.07323449e-14 1.06451885e-14 1.06376292e-14\n",
            " 1.06382023e-14 1.06383008e-14 1.06382989e-14 1.06382979e-14\n",
            " 1.06382979e-14 1.06382979e-14 1.06382979e-14 1.06382979e-14\n",
            " 1.06382979e-14 1.06382979e-14 1.06382979e-14 1.06382979e-14\n",
            " 1.06382979e-14 1.06382979e-14 1.06382979e-14 1.06382979e-14\n",
            " 1.06382979e-14 1.06382979e-14 1.06382979e-14 1.06382979e-14\n",
            " 1.06382979e-14 1.06382979e-14 1.06382979e-14 1.06382979e-14\n",
            " 1.06382979e-14 1.06382979e-14 1.06382979e-14 1.06382979e-14\n",
            " 1.06382979e-14 1.06382979e-14 1.06382979e-14 1.06382979e-14\n",
            " 1.06382979e-14 1.06382979e-14 1.06382979e-14 1.06382979e-14\n",
            " 1.06382979e-14 1.06382979e-14 1.06382979e-14 1.06382979e-14\n",
            " 1.06382979e-14 1.06382979e-14 1.06382979e-14 1.06382979e-14\n",
            " 1.06382979e-14 1.06382979e-14 1.06382979e-14 1.06382979e-14\n",
            " 1.06382979e-14 1.06382979e-14 1.06382979e-14 1.06382979e-14\n",
            " 1.06382979e-14 1.06382979e-14 1.06382979e-14 1.06382979e-14\n",
            " 1.06382979e-14 1.06382979e-14 1.06382979e-14 1.06382979e-14\n",
            " 1.06382979e-14 1.06382979e-14 1.06382979e-14 1.06382979e-14\n",
            " 1.06382979e-14 1.06382979e-14 1.06382979e-14 1.06382979e-14\n",
            " 1.06382979e-14 1.06382979e-14 1.06382979e-14 1.06382979e-14\n",
            " 1.06382979e-14 1.06382979e-14 1.06382979e-14 1.06382979e-14\n",
            " 1.06382979e-14 1.06382979e-14 1.06382979e-14 1.06382979e-14\n",
            " 1.06382979e-14 1.06382979e-14 1.06382979e-14 1.06382979e-14\n",
            " 1.06382979e-14 1.06382979e-14 1.06382979e-14 1.06382979e-14\n",
            " 1.06382979e-14 1.06382979e-14 1.06382979e-14 1.06382979e-14\n",
            " 1.06382979e-14 1.06382979e-14 1.06382979e-14 1.06382979e-14\n",
            " 1.06382979e-14 1.06382979e-14 1.06382979e-14 1.06382979e-14\n",
            " 1.06382979e-14 1.06382979e-14 1.06382979e-14 1.06382979e-14\n",
            " 1.06382979e-14 1.06382979e-14 1.06382979e-14 1.06382979e-14\n",
            " 1.06382979e-14 1.06382979e-14 1.06382979e-14 1.06382979e-14\n",
            " 1.06382979e-14 1.06382979e-14 1.06382979e-14 1.06382979e-14\n",
            " 1.06382979e-14 1.06382979e-14 1.06382979e-14 1.06382979e-14\n",
            " 1.06382979e-14 1.06382979e-14 1.06382979e-14 1.06382979e-14\n",
            " 1.06382979e-14 1.06382979e-14 1.06382979e-14 1.06382979e-14\n",
            " 1.06382979e-14 1.06382979e-14 1.06382979e-14 1.06382979e-14\n",
            " 1.06382979e-14 1.06382979e-14 1.06382979e-14 1.06382979e-14\n",
            " 1.06382979e-14 1.06382979e-14 1.06382979e-14 1.06382979e-14\n",
            " 1.06382979e-14 1.06382979e-14 1.06382979e-14 1.06382979e-14\n",
            " 1.06382979e-14 1.06382979e-14 1.06382979e-14 1.06382979e-14\n",
            " 1.06382979e-14 1.06382979e-14 1.06382979e-14 1.06382979e-14\n",
            " 1.06382979e-14 1.06382979e-14 1.06382979e-14 1.06382979e-14\n",
            " 1.06382979e-14 1.06382979e-14 1.06382979e-14 1.06382979e-14\n",
            " 1.06382979e-14 1.06382979e-14 1.06382979e-14 1.06382979e-14\n",
            " 1.06382979e-14 1.06382979e-14 1.06382979e-14 1.06382979e-14\n",
            " 1.06382979e-14 1.06382979e-14 1.06382979e-14 1.06382979e-14\n",
            " 1.06382979e-14 1.06382979e-14 1.06382979e-14 1.06382979e-14\n",
            " 1.06382979e-14 1.06382979e-14 1.06382979e-14 1.06382979e-14\n",
            " 1.06382979e-14 1.06382979e-14 1.06382979e-14 1.06382979e-14\n",
            " 1.06382979e-14 1.06382979e-14 1.06382979e-14 1.06382979e-14\n",
            " 1.06382979e-14 1.06382979e-14 1.06382979e-14 1.06382979e-14\n",
            " 1.06382979e-14 1.06382979e-14 1.06382979e-14 1.06382979e-14\n",
            " 1.06382979e-14 1.06382979e-14 1.06382979e-14 1.06382979e-14\n",
            " 1.06382979e-14 1.06382979e-14 1.06382979e-14 1.06382979e-14\n",
            " 1.06382979e-14 1.06382979e-14 1.06382979e-14 1.06382979e-14\n",
            " 1.06382979e-14 1.06382979e-14 1.06382979e-14 1.06382979e-14\n",
            " 1.06382979e-14 1.06382979e-14 1.06382979e-14 1.06382979e-14\n",
            " 1.06382979e-14 1.06382979e-14 1.06382979e-14 1.06382979e-14\n",
            " 1.06382979e-14 1.06382979e-14 1.06382979e-14 1.06382979e-14\n",
            " 1.06382979e-14 1.06382979e-14 1.06382979e-14 1.06382979e-14\n",
            " 1.06382979e-14 1.06382979e-14 1.06382979e-14 1.06382979e-14\n",
            " 1.06382979e-14 1.06382979e-14 1.06382979e-14 1.06382979e-14\n",
            " 1.06382979e-14 1.06382979e-14 1.06382979e-14 1.06382979e-14\n",
            " 1.06382979e-14 1.06382979e-14 1.06382979e-14 1.06382979e-14\n",
            " 1.06382979e-14 1.06382979e-14 1.06382979e-14 1.06382979e-14\n",
            " 1.06382979e-14 1.06382979e-14 1.06382979e-14 1.06382979e-14\n",
            " 1.06382979e-14 1.06382979e-14 1.06382979e-14 1.06382979e-14\n",
            " 1.06382979e-14 1.06382979e-14 1.06382979e-14 1.06382979e-14\n",
            " 1.06382979e-14 1.06382979e-14 1.06382979e-14 1.06382979e-14\n",
            " 1.06382979e-14 1.06382979e-14 1.06382979e-14 1.06382979e-14\n",
            " 1.06382979e-14 1.06382979e-14 1.06382979e-14 1.06382979e-14\n",
            " 1.06382979e-14 1.06382979e-14 1.06382979e-14 1.06382979e-14\n",
            " 1.06382979e-14 1.06382979e-14 1.06382979e-14 1.06382979e-14\n",
            " 1.06382979e-14 1.06382979e-14 1.06382979e-14 1.06382979e-14\n",
            " 1.06382979e-14 1.06382979e-14 1.06382979e-14 1.06382979e-14\n",
            " 1.06382979e-14 1.06382979e-14 1.06382979e-14 1.06382979e-14\n",
            " 1.06382979e-14 1.06382979e-14 1.06382979e-14 1.06382979e-14\n",
            " 1.06382979e-14 1.06382979e-14 1.06382979e-14 1.06382979e-14\n",
            " 1.06382979e-14 1.06382979e-14 1.06382979e-14 1.06382979e-14\n",
            " 1.06382979e-14 1.06382979e-14 1.06382979e-14 1.06382979e-14\n",
            " 1.06382979e-14 1.06382979e-14 1.06382979e-14 1.06382979e-14\n",
            " 1.06382979e-14 1.06382979e-14 1.06382979e-14 1.06382979e-14\n",
            " 1.06382979e-14 1.06382979e-14 1.06382979e-14 1.06382979e-14\n",
            " 1.06382979e-14 1.06382979e-14 1.06382979e-14 1.06382979e-14\n",
            " 1.06382979e-14 1.06382979e-14 1.06382979e-14 1.06382979e-14\n",
            " 1.06382979e-14 1.06382979e-14 1.06382979e-14 1.06382979e-14\n",
            " 1.06382979e-14 1.06382979e-14 1.06382979e-14 1.06382979e-14\n",
            " 1.06382979e-14 1.06382979e-14 1.06382979e-14 1.06382979e-14\n",
            " 1.06382979e-14 1.06382979e-14 1.06382979e-14 1.06382979e-14\n",
            " 1.06382979e-14 1.06382979e-14 1.06382979e-14 1.06382979e-14\n",
            " 1.06382979e-14 1.06382979e-14 1.06382979e-14 1.06382979e-14\n",
            " 1.06382979e-14 1.06382979e-14 1.06382979e-14 1.06382979e-14\n",
            " 1.06382979e-14 1.06382979e-14 1.06382979e-14 1.06382979e-14\n",
            " 1.06382979e-14 1.06382979e-14 1.06382979e-14 1.06382979e-14\n",
            " 1.06382979e-14 1.06382979e-14 1.06382979e-14 1.06382979e-14\n",
            " 1.06382979e-14 1.06382979e-14 1.06382979e-14 1.06382979e-14\n",
            " 1.06382979e-14 1.06382979e-14 1.06382979e-14 1.06382979e-14\n",
            " 1.06382979e-14 1.06382979e-14 1.06382979e-14 1.06382979e-14\n",
            " 1.06382979e-14 1.06382979e-14 1.06382979e-14 1.06382979e-14\n",
            " 1.06382979e-14 1.06382979e-14 1.06382979e-14 1.06382979e-14\n",
            " 1.06382979e-14 1.06382979e-14 1.06382979e-14 1.06382979e-14\n",
            " 1.06382979e-14 1.06382979e-14 1.06382979e-14 1.06382979e-14\n",
            " 1.06382979e-14 1.06382979e-14 1.06382979e-14 1.06382979e-14\n",
            " 1.06382979e-14 1.06382979e-14 1.06382979e-14 1.06382979e-14\n",
            " 1.06382979e-14 1.06382979e-14 1.06382979e-14 1.06382979e-14\n",
            " 1.06382979e-14 1.06382979e-14 1.06382979e-14 1.06382979e-14\n",
            " 1.06382979e-14 1.06382979e-14 1.06382979e-14 1.06382979e-14\n",
            " 1.06382979e-14 1.06382979e-14 1.06382979e-14 1.06382979e-14\n",
            " 1.06382979e-14 1.06382979e-14 1.06382979e-14 1.06382979e-14\n",
            " 1.06382979e-14 1.06382979e-14 1.06382979e-14 1.06382979e-14\n",
            " 1.06382979e-14 1.06382979e-14 1.06382979e-14 1.06382979e-14\n",
            " 1.06382979e-14 1.06382979e-14 1.06382979e-14 1.06382979e-14\n",
            " 1.06382979e-14 1.06382979e-14 1.06382979e-14 1.06382979e-14\n",
            " 1.06382979e-14 1.06382979e-14 1.06382979e-14 1.06382979e-14\n",
            " 1.06382979e-14 1.06382979e-14 1.06382979e-14 1.06382979e-14\n",
            " 1.06382979e-14 1.06382979e-14 1.06382979e-14 1.06382979e-14\n",
            " 1.06382979e-14 1.06382979e-14 1.06382979e-14 1.06382979e-14\n",
            " 1.06382979e-14 1.06382979e-14 1.06382979e-14 1.06382979e-14\n",
            " 1.06382979e-14 1.06382979e-14 1.06382979e-14 1.06382979e-14\n",
            " 1.06382979e-14 1.06382979e-14 1.06382979e-14 1.06382979e-14\n",
            " 1.06382979e-14 1.06382979e-14 1.06382979e-14 1.06382979e-14\n",
            " 1.06382979e-14 1.06382979e-14 1.06382979e-14 1.06382979e-14\n",
            " 1.06382979e-14 1.06382979e-14 1.06382979e-14 1.06382979e-14\n",
            " 1.06382979e-14 1.06382979e-14 1.06382979e-14 1.06382979e-14\n",
            " 1.06382979e-14 1.06382979e-14 1.06382979e-14 1.06382979e-14\n",
            " 1.06382979e-14 1.06382979e-14 1.06382979e-14 1.06382979e-14\n",
            " 1.06382979e-14 1.06382979e-14 1.06382979e-14 1.06382979e-14\n",
            " 1.06382979e-14 1.06382979e-14 1.06382979e-14 1.06382979e-14\n",
            " 1.06382979e-14 1.06382979e-14 1.06382979e-14 1.06382979e-14\n",
            " 1.06382979e-14 1.06382979e-14 1.06382979e-14 1.06382979e-14\n",
            " 1.06382979e-14 1.06382979e-14 1.06382979e-14 1.06382979e-14\n",
            " 1.06382979e-14 1.06382979e-14 1.06382979e-14 1.06382979e-14\n",
            " 1.06382979e-14 1.06382979e-14 1.06382979e-14 1.06382979e-14\n",
            " 1.06382979e-14 1.06382979e-14 1.06382979e-14 1.06382979e-14\n",
            " 1.06382979e-14 1.06382979e-14 1.06382979e-14 1.06382979e-14\n",
            " 1.06382979e-14 1.06382979e-14 1.06382979e-14 1.06382979e-14\n",
            " 1.06382979e-14 1.06382979e-14 1.06382979e-14 1.06382979e-14\n",
            " 1.06382979e-14 1.06382979e-14 1.06382979e-14 1.06382979e-14\n",
            " 1.06382979e-14 1.06382979e-14 1.06382979e-14 1.06382979e-14\n",
            " 1.06382979e-14 1.06382979e-14 1.06382979e-14 1.06382979e-14\n",
            " 1.06382979e-14 1.06382979e-14 1.06382979e-14 1.06382979e-14\n",
            " 1.06382979e-14 1.06382979e-14 1.06382979e-14 1.06382979e-14\n",
            " 1.06382979e-14 1.06382979e-14 1.06382979e-14 1.06382979e-14\n",
            " 1.06382979e-14 1.06382979e-14 1.06382979e-14 1.06382979e-14\n",
            " 1.06382979e-14 1.06382979e-14 1.06382979e-14 1.06382979e-14\n",
            " 1.06382979e-14 1.06382979e-14 1.06382979e-14 1.06382979e-14\n",
            " 1.06382979e-14 1.06382979e-14 1.06382979e-14 1.06382979e-14\n",
            " 1.06382979e-14 1.06382979e-14 1.06382979e-14 1.06382979e-14\n",
            " 1.06382979e-14 1.06382979e-14 1.06382979e-14 1.06382979e-14\n",
            " 1.06382979e-14 1.06382979e-14 1.06382979e-14 1.06382979e-14\n",
            " 1.06382979e-14 1.06382979e-14 1.06382979e-14 1.06382979e-14\n",
            " 1.06382979e-14 1.06382979e-14 1.06382979e-14 1.06382979e-14\n",
            " 1.06382979e-14 1.06382979e-14 1.06382979e-14 1.06382979e-14\n",
            " 1.06382979e-14 1.06382979e-14 1.06382979e-14 1.06382979e-14\n",
            " 1.06382979e-14 1.06382979e-14 1.06382979e-14 1.06382979e-14\n",
            " 1.06382979e-14 1.06382979e-14 1.06382979e-14 1.06382979e-14\n",
            " 1.06382979e-14 1.06382979e-14 1.06382979e-14 1.06382979e-14\n",
            " 1.06382979e-14 1.06382979e-14 1.06382979e-14 1.06382979e-14\n",
            " 1.06382979e-14 1.06382979e-14 1.06382979e-14 1.06382979e-14\n",
            " 1.06382979e-14 1.06382979e-14 1.06382979e-14 1.06382979e-14\n",
            " 1.06382979e-14 1.06382979e-14 1.06382979e-14 1.06382979e-14\n",
            " 1.06382979e-14 1.06382979e-14 1.06382979e-14 1.06382979e-14\n",
            " 1.06382979e-14 1.06382979e-14 1.06382979e-14 1.06382979e-14\n",
            " 1.06382979e-14 1.06382979e-14 1.06382979e-14 1.06382979e-14\n",
            " 1.06382979e-14 1.06382979e-14 1.06382979e-14 1.06382979e-14\n",
            " 1.06382979e-14 1.06382979e-14 1.06382979e-14 1.06382979e-14\n",
            " 1.06382979e-14 1.06382979e-14 1.06382979e-14 1.06382979e-14\n",
            " 1.06382979e-14 1.06382979e-14 1.06382979e-14 1.06382979e-14\n",
            " 1.06382979e-14 1.06382979e-14 1.06382979e-14 1.06382979e-14\n",
            " 1.06382979e-14 1.06382979e-14 1.06382979e-14 1.06382979e-14\n",
            " 1.06382979e-14 1.06382979e-14 1.06382979e-14 1.06382979e-14\n",
            " 1.06382979e-14 1.06382979e-14 1.06382979e-14 1.06382979e-14\n",
            " 1.06382979e-14 1.06382979e-14 1.06382979e-14 1.06382979e-14\n",
            " 1.06382979e-14 1.06382979e-14 1.06382979e-14 1.06382979e-14\n",
            " 1.06382979e-14 1.06382979e-14 1.06382979e-14 1.06382979e-14\n",
            " 1.06382979e-14 1.06382979e-14 1.06382979e-14 1.06382979e-14\n",
            " 1.06382979e-14 1.06382979e-14 1.06382979e-14 1.06382979e-14\n",
            " 1.06382979e-14 1.06382979e-14 1.06382979e-14 1.06382979e-14\n",
            " 1.06382979e-14 1.06382979e-14 1.06382979e-14 1.06382979e-14\n",
            " 1.06382979e-14 1.06382979e-14 1.06382979e-14 1.06382979e-14\n",
            " 1.06382979e-14 1.06382979e-14 1.06382979e-14 1.06382979e-14\n",
            " 1.06382979e-14 1.06382979e-14 1.06382979e-14 1.06382979e-14\n",
            " 1.06382979e-14 1.06382979e-14 1.06382979e-14 1.06382979e-14\n",
            " 1.06382979e-14 1.06382979e-14 1.06382979e-14 1.06382979e-14\n",
            " 1.06382979e-14 1.06382979e-14 1.06382979e-14 1.06382979e-14\n",
            " 1.06382979e-14 1.06382979e-14 1.06382979e-14 1.06382979e-14\n",
            " 1.06382979e-14 1.06382979e-14 1.06382979e-14 1.06382979e-14\n",
            " 1.06382979e-14 1.06382979e-14 1.06382979e-14 1.06382979e-14\n",
            " 1.06382979e-14 1.06382979e-14 1.06382979e-14 1.06382979e-14\n",
            " 1.06382979e-14 1.06382979e-14 1.06382979e-14 1.06382979e-14\n",
            " 1.06382979e-14 1.06382979e-14 1.06382979e-14 1.06382979e-14\n",
            " 1.06382979e-14 1.06382979e-14 1.06382979e-14 1.06382979e-14\n",
            " 1.06382979e-14 1.06382979e-14 1.06382979e-14 1.06382979e-14\n",
            " 1.06382979e-14 1.06382979e-14 1.06382979e-14 1.06382979e-14\n",
            " 1.06382979e-14 1.06382979e-14 1.06382979e-14 1.06382979e-14\n",
            " 1.06382979e-14 1.06382979e-14 1.06382979e-14 1.06382979e-14\n",
            " 1.06382979e-14 1.06382979e-14 1.06382979e-14 1.06382979e-14\n",
            " 1.06382979e-14 1.06382979e-14 1.06382979e-14 1.06382979e-14\n",
            " 1.06382979e-14 1.06382979e-14 1.06382979e-14 1.06382979e-14\n",
            " 1.06382979e-14 1.06382979e-14 1.06382979e-14 1.06382979e-14\n",
            " 1.06382979e-14 1.06382979e-14 1.06382979e-14 1.06382979e-14\n",
            " 1.06382979e-14 1.06382979e-14 1.06382979e-14 1.06382979e-14\n",
            " 1.06382979e-14 1.06382979e-14 1.06382979e-14 1.06382979e-14\n",
            " 1.06382979e-14 1.06382979e-14 1.06382979e-14 1.06382979e-14\n",
            " 1.06382979e-14 1.06382979e-14 1.06382979e-14 1.06382979e-14\n",
            " 1.06382979e-14 1.06382979e-14 1.06382979e-14 1.06382979e-14\n",
            " 1.06382979e-14 1.06382979e-14 1.06382979e-14 1.06382979e-14\n",
            " 1.06382979e-14 1.06382979e-14 1.06382979e-14 1.06382979e-14\n",
            " 1.06382979e-14 1.06382979e-14 1.06382979e-14 1.06382979e-14\n",
            " 1.06382979e-14 1.06382979e-14 1.06382979e-14 1.06382979e-14\n",
            " 1.06382979e-14 1.06382979e-14 1.06382979e-14 1.06382979e-14\n",
            " 1.06382979e-14 1.06382979e-14 1.06382979e-14 1.06382979e-14\n",
            " 1.06382979e-14 1.06382979e-14 1.06382979e-14 1.06382979e-14\n",
            " 1.06382979e-14 1.06382979e-14 1.06382979e-14 1.06382979e-14\n",
            " 1.06382979e-14 1.06382979e-14 1.06382979e-14 1.06382979e-14\n",
            " 1.06382979e-14 1.06382979e-14 1.06382979e-14 1.06382979e-14\n",
            " 1.06382979e-14 1.06382979e-14 1.06382979e-14 1.06382979e-14\n",
            " 1.06382979e-14 1.06382979e-14 1.06382979e-14 1.06382979e-14\n",
            " 1.06382979e-14 1.06382979e-14 1.06382979e-14 1.06382979e-14\n",
            " 1.06382979e-14 1.06382979e-14 1.06382979e-14 1.06382979e-14\n",
            " 1.06382979e-14 1.06382979e-14 1.06382979e-14 1.06382979e-14\n",
            " 1.06382979e-14 1.06382979e-14 1.06382979e-14 1.06382979e-14\n",
            " 1.06382979e-14 1.06382979e-14 1.06382979e-14 1.06382979e-14\n",
            " 1.06382979e-14 1.06382979e-14 1.06382979e-14 1.06382979e-14\n",
            " 1.06382979e-14 1.06382979e-14 1.06382979e-14 1.06382979e-14\n",
            " 1.06382979e-14 1.06382979e-14 1.06382979e-14 1.06382979e-14\n",
            " 1.06382979e-14 1.06382979e-14 1.06382979e-14 1.06382979e-14\n",
            " 1.06382979e-14 1.06382979e-14 1.06382979e-14 1.06382979e-14\n",
            " 1.06382979e-14 1.06382979e-14 1.06382979e-14 1.06382979e-14\n",
            " 1.06382979e-14 1.06382979e-14 1.06382979e-14 1.06382979e-14\n",
            " 1.06382979e-14 1.06382979e-14 1.06382979e-14 1.06382979e-14\n",
            " 1.06382979e-14 1.06382979e-14 1.06382979e-14 1.06382979e-14\n",
            " 1.06382979e-14 1.06382979e-14 1.06382979e-14 1.06382979e-14\n",
            " 1.06382979e-14 1.06382979e-14 1.06382979e-14 1.06382979e-14\n",
            " 1.06382979e-14 1.06382979e-14 1.06382979e-14 1.06382979e-14\n",
            " 1.06382979e-14 1.06382979e-14 1.06382979e-14 1.06382979e-14\n",
            " 1.06382979e-14 1.06382979e-14 1.06382979e-14 1.06382979e-14\n",
            " 1.06382979e-14 1.06382979e-14 1.06382979e-14 1.06382979e-14\n",
            " 1.06382979e-14 1.06382979e-14 1.06382979e-14 1.06382979e-14\n",
            " 1.06382979e-14 1.06382979e-14 1.06382979e-14 1.06382979e-14\n",
            " 1.06382979e-14 1.06382979e-14 1.06382979e-14 1.06382979e-14\n",
            " 1.06382979e-14 1.06382979e-14 1.06382979e-14 1.06382979e-14\n",
            " 1.06382979e-14 1.06382979e-14 1.06382979e-14 1.06382979e-14\n",
            " 1.06382979e-14 1.06382979e-14 1.06382979e-14 1.06382979e-14\n",
            " 1.06382979e-14 1.06382979e-14 1.06382979e-14 1.06382979e-14\n",
            " 1.06382979e-14 1.06382979e-14 1.06382979e-14 1.06382979e-14\n",
            " 1.06382979e-14 1.06382979e-14 1.06382979e-14 1.06382979e-14\n",
            " 1.06382979e-14 1.06382979e-14 1.06382979e-14 1.06382979e-14\n",
            " 1.06382979e-14 1.06382979e-14 1.06382979e-14 1.06382979e-14\n",
            " 1.06382979e-14 1.06382979e-14 1.06382979e-14 1.06382979e-14\n",
            " 1.06382979e-14 1.06382989e-14 1.06383008e-14 1.06382023e-14\n",
            " 1.06376292e-14 1.06451885e-14 1.07323449e-14 1.03228419e-14]\n"
          ]
        }
      ]
    },
    {
      "cell_type": "markdown",
      "source": [
        "<hr>"
      ],
      "metadata": {
        "id": "nQ3AYu4unoMT"
      }
    },
    {
      "cell_type": "markdown",
      "source": [
        "d)  Escreva um código implementando o método de Jacobi para resolver um sistema Ax=b.  Utilize o erro absoluto como critério de parada."
      ],
      "metadata": {
        "id": "E0abD9EQnpuj"
      }
    },
    {
      "cell_type": "code",
      "source": [
        "def jacobi(A, b, max_itr=100, tol=1e-6):\n",
        "    \"\"\"\n",
        "    Resolve um sistema linear Ax = b utilizando o método de Jacobi.\n",
        "    Retorna o vetor x, que é a solução do sistema.\n",
        "    \"\"\"\n",
        "    n = len(b)\n",
        "    x = np.zeros(n)\n",
        "    x_prev = np.zeros(n)\n",
        "    iterations = 0\n",
        "\n",
        "    while iterations < max_itr:\n",
        "        for i in range(n):\n",
        "            x[i] = (b[i] - np.dot(A[i, :i], x_prev[:i]) - np.dot(A[i, i+1:], x_prev[i+1:])) / A[i, i]\n",
        "\n",
        "        \n",
        "        #print(\"xk = \",x)\n",
        "\n",
        "        error = np.linalg.norm(x - x_prev, ord=np.inf)  # erro absoluto\n",
        "        print(f\"Iteração {iterations}: {error}\")\n",
        "        if error < tol:\n",
        "            break\n",
        "        \n",
        "        x_prev = x.copy()\n",
        "        iterations += 1\n",
        "\n",
        "    print(f\"\\nErro = {error}\")\n",
        "    print()\n",
        "    return x, iterations"
      ],
      "metadata": {
        "id": "zeuvjx8ypU6j"
      },
      "execution_count": 123,
      "outputs": []
    },
    {
      "cell_type": "code",
      "source": [
        "# Exemplo\n",
        "A = np.array([[10, 2,  1],\n",
        "              [ 1, 5,  1],\n",
        "              [ 2, 3, 10]])\n",
        "\n",
        "b = np.array([7, -8, 6])\n",
        "\n",
        "x, iterations = jacobi(A,b, 10, 0.01)\n",
        "print(\"x =\",x)"
      ],
      "metadata": {
        "colab": {
          "base_uri": "https://localhost:8080/"
        },
        "id": "yYKrYp6dkPn8",
        "outputId": "3c4a9d26-f224-495d-c526-100683267e73"
      },
      "execution_count": 124,
      "outputs": [
        {
          "output_type": "stream",
          "name": "stdout",
          "text": [
            "Iteração 0: 1.6\n",
            "Iteração 1: 0.3400000000000001\n",
            "Iteração 2: 0.1200000000000001\n",
            "Iteração 3: 0.032399999999999984\n",
            "Iteração 4: 0.010760000000000103\n",
            "Iteração 5: 0.0035240000000000826\n",
            "\n",
            "Erro = 0.0035240000000000826\n",
            "\n",
            "x = [ 1.000236 -1.998936  1.000284]\n"
          ]
        }
      ]
    },
    {
      "cell_type": "markdown",
      "source": [
        "<hr>"
      ],
      "metadata": {
        "id": "PiE5a0FTmSdQ"
      }
    },
    {
      "cell_type": "markdown",
      "source": [
        "e)  Vamos comparar o método direto de Cholesky com o iterativo de Jacobi neste exemplo.  Observe quanto tempo leva para resolver o sistema usando Cholesky.  Quantas iterações foram necessárias no método de Jacobi para obtermos a mesma precisão da solução dada pelo método de Cholesky ?"
      ],
      "metadata": {
        "id": "Bk4cK0htt4j8"
      }
    },
    {
      "cell_type": "code",
      "source": [
        "import time\n",
        "\n",
        "# Para n = 1000\n",
        "A = montar_matriz(N)\n",
        "b = np.ones(N)/N**(4)\n",
        "\n",
        "inicio = time.time()    # inicia o cronometro\n",
        "\n",
        "# Calculando a decomposição de Cholesky da matriz A:\n",
        "H = cholesky_decomposition(A)\n",
        "\n",
        "# Resolvendo o sistema triangular inferior Hy = b:\n",
        "y = solve_triangular_lower(H, b)\n",
        "\n",
        "# Resolvendo o sistema triangular superior H^T x = y:\n",
        "x_cholesky = solve_triangular_upper(H.T, y)\n",
        "\n",
        "fim = time.time()   # desliga o cronometro\n",
        "tempo_total_cholesky = fim - inicio\n",
        "\n",
        "erro_chol = np.linalg.norm(np.matmul(A, x_cholesky) - b)\n",
        "print(f\"Erro da solução pelo método de Cholesky: {erro_chol}\" )\n",
        "\n",
        "print(\"Tempo total de execução: %.6f segundos\" % tempo_total_cholesky)"
      ],
      "metadata": {
        "colab": {
          "base_uri": "https://localhost:8080/"
        },
        "id": "btiOM_oouLav",
        "outputId": "862d0f47-b2b0-4427-eff0-3b61eaf51d13"
      },
      "execution_count": 125,
      "outputs": [
        {
          "output_type": "stream",
          "name": "stdout",
          "text": [
            "Erro da solução pelo método de Cholesky: 6.402114392106387e-27\n",
            "Tempo total de execução: 0.904920 segundos\n"
          ]
        }
      ]
    },
    {
      "cell_type": "code",
      "source": [
        "# Calculando a decomposição com o método de Jacobi usando o erro de cholesky:\n",
        "\n",
        "# Para N = 1000\n",
        "A = montar_matriz(N)\n",
        "b = np.ones(N)/N**(4)\n",
        "\n",
        "inicio = time.time()    # inicia o cronometro\n",
        "x_jacobi, iterations = jacobi(A, b, 100, erro_chol)\n",
        "\n",
        "fim = time.time()   # desliga o cronometro\n",
        "tempo_total_jacobi = fim - inicio\n",
        "\n",
        "print(\"Tempo total de execução: %.6f segundos\" % tempo_total_jacobi)"
      ],
      "metadata": {
        "colab": {
          "base_uri": "https://localhost:8080/"
        },
        "id": "N_621xdxBpvI",
        "outputId": "1e3c56ea-ecfc-4d00-98e4-c516786b0584"
      },
      "execution_count": 126,
      "outputs": [
        {
          "output_type": "stream",
          "name": "stdout",
          "text": [
            "Iteração 0: 1e-14\n",
            "Iteração 1: 7.000000000000011e-16\n",
            "Iteração 2: 4.299999999999695e-17\n",
            "Iteração 3: 2.5000000000011253e-18\n",
            "Iteração 4: 1.6180000000084604e-19\n",
            "Iteração 5: 1.0188000000690095e-20\n",
            "Iteração 6: 6.453100009203808e-22\n",
            "Iteração 7: 4.453699938282311e-23\n",
            "Iteração 8: 2.9250268167998523e-24\n",
            "Iteração 9: 2.232492138993568e-25\n",
            "Iteração 10: 1.6367286061525553e-26\n",
            "Iteração 11: 1.3300194862026259e-27\n",
            "\n",
            "Erro = 1.3300194862026259e-27\n",
            "\n",
            "Tempo total de execução: 0.098724 segundos\n"
          ]
        }
      ]
    },
    {
      "cell_type": "code",
      "source": [
        "# Precisão da solução de Jacobi em relação a Cholesky\n",
        "precision = np.linalg.norm(x_jacobi - x_cholesky, ord=np.inf)\n",
        "\n",
        "print(f\"Tempo de execução (Cholesky): {tempo_total_cholesky:.6f} segundos\")\n",
        "print(f\"Tempo de execução (Jacobi): {tempo_total_jacobi:.6f} segundos\")\n",
        "print(f\"Precisão da solução de Jacobi em relação a Cholesky: {precision}\")\n",
        "print(f\"Número de iterações do método de Jacobi: {iterations+1}\")"
      ],
      "metadata": {
        "colab": {
          "base_uri": "https://localhost:8080/"
        },
        "id": "9HPGGYIf6cmW",
        "outputId": "c4d4a413-951f-4fbc-fa21-d4f677c88bc7"
      },
      "execution_count": 127,
      "outputs": [
        {
          "output_type": "stream",
          "name": "stdout",
          "text": [
            "Tempo de execução (Cholesky): 0.904920 segundos\n",
            "Tempo de execução (Jacobi): 0.098724 segundos\n",
            "Precisão da solução de Jacobi em relação a Cholesky: 1.0570736129961558e-28\n",
            "Número de iterações do método de Jacobi: 12\n"
          ]
        }
      ]
    },
    {
      "cell_type": "markdown",
      "source": [
        "<hr>"
      ],
      "metadata": {
        "id": "3NbO4lG9Vdjn"
      }
    },
    {
      "cell_type": "markdown",
      "source": [
        "f) É possível melhorar a implementação da decomposição de Cholesky para o exemplo em questão ?"
      ],
      "metadata": {
        "id": "jwpG2zDIVe52"
      }
    },
    {
      "cell_type": "code",
      "source": [
        "'''\n",
        "    A matriz do exemplo possui muitos zeros, o que poderíamos evitar\n",
        "    para deixar a implementação mais eficiente neste caso.\n",
        "\n",
        "    Para melhorar as funções e evitar o cálculo dos zeros na matriz, \n",
        "    podemos fazer as seguintes alterações:\n",
        "\n",
        "    Cholesky:\n",
        "    Em vez de inicializar a matriz L com zeros, podemos criar uma matriz \n",
        "    triangular inferior vazia inicialmente e preencher apenas os elementos \n",
        "    necessários à medida que calculamos.\n",
        "    Em cada iteração do loop, verifiquemos se o elemento A[i, j] é diferente \n",
        "    de zero antes de calcular L[i, j]. Se for zero, podemos pular o cálculo \n",
        "    desse elemento, já que o resultado será zero.\n",
        "'''\n",
        "\n",
        "# Versão atualizada da função cholesky_decomposition:\n",
        "def cholesky_decomposition_updated(A):\n",
        "    \"\"\"\n",
        "    Realiza a decomposição de Cholesky de uma matriz simétrica definida positiva A.\n",
        "    Retorna a matriz triangular inferior L.\n",
        "    \"\"\"\n",
        "    n = A.shape[0]\n",
        "    L = np.zeros((n, n), dtype=float)\n",
        "\n",
        "    for i in range(n):\n",
        "        for j in range(i + 1):\n",
        "            if A[i, j] != 0:\n",
        "                if i == j:\n",
        "                    L[i, i] = np.sqrt(A[i, i] - np.dot(L[i, :i], L[i, :i]))\n",
        "                else:\n",
        "                    L[i, j] = (A[i, j] - np.dot(L[i, :j], L[j, :j])) / L[j, j]\n",
        "\n",
        "    return L"
      ],
      "metadata": {
        "id": "tihQkdqSufew"
      },
      "execution_count": 128,
      "outputs": []
    },
    {
      "cell_type": "code",
      "source": [
        "'''\n",
        "    Solve Triangular Lower:\n",
        "    Assim como na função cholesky_decomposition, podemos verificar se o \n",
        "    elemento L[i, :i] é diferente de zero antes de calcular o produto interno \n",
        "    np.dot(L[i, :i], y[:i]). Se for zero, o resultado será zero, então \n",
        "    podemos pular o cálculo desse termo.\n",
        "'''\n",
        "\n",
        "# Versão atualizada da função solve_triangular_lower:\n",
        "def solve_triangular_lower_updated(L, b):\n",
        "    \"\"\"\n",
        "    Resolve um sistema triangular inferior Ly = b, onde L é uma matriz triangular inferior e b é um vetor.\n",
        "    Retorna o vetor y, que é a solução do sistema.\n",
        "    \"\"\"\n",
        "    n = len(b)\n",
        "    y = np.zeros(n)\n",
        "\n",
        "    for i in range(n):\n",
        "        # verifica se há pelo menos um elemento diferente de zero\n",
        "        if L[i, :i].any():\n",
        "            y[i] = (b[i] - np.dot(L[i, :i], y[:i])) / L[i, i]\n",
        "\n",
        "    return y\n",
        "\n",
        "# Versão atualizada da função solve_triangular_upper, aplicando a mesma \n",
        "# modificação para evitar cálculos desnecessários:\n",
        "def solve_triangular_upper_updated(U, b):\n",
        "    \"\"\"\n",
        "    Resolve um sistema triangular superior Ux = b, onde U é uma matriz triangular superior e b é um vetor.\n",
        "    Retorna o vetor x, que é a solução do sistema.\n",
        "    \"\"\"\n",
        "    n = len(b)\n",
        "    x = np.zeros(n)\n",
        "\n",
        "    for i in range(n - 1, -1, -1):\n",
        "        # verifica se há pelo menos um elemento diferente de zero\n",
        "        if U[i, i+1:].any():    \n",
        "            x[i] = (b[i] - np.dot(U[i, i+1:], x[i+1:])) / U[i, i]\n",
        "\n",
        "    return x"
      ],
      "metadata": {
        "id": "EarbkDq_0Zk0"
      },
      "execution_count": 129,
      "outputs": []
    },
    {
      "cell_type": "code",
      "source": [
        "import time\n",
        "\n",
        "# ============== Cholesky ==============\n",
        "A = montar_matriz(N)\n",
        "b = np.ones(N)/N**(4)\n",
        "\n",
        "inicio = time.time()\n",
        "\n",
        "H = cholesky_decomposition(A)\n",
        "y = solve_triangular_lower(H, b)\n",
        "x_cholesky = solve_triangular_upper(H.T, y)\n",
        "\n",
        "tempo_total_cholesky = time.time() - inicio\n",
        "\n",
        "\n",
        "# ============== Cholesky Updated ==============\n",
        "A = montar_matriz(N)\n",
        "b = np.ones(N)/N**(4)\n",
        "\n",
        "inicio = time.time()   \n",
        "\n",
        "H = cholesky_decomposition_updated(A)\n",
        "y = solve_triangular_lower_updated(H, b)\n",
        "x_cholesky = solve_triangular_upper_updated(H.T, y)\n",
        "\n",
        "tempo_total_cholesky_updated = time.time() - inicio\n",
        "\n",
        "\n",
        "\n",
        "\n",
        "print(f\"Tempo total Cholesky: {tempo_total_cholesky:.6f} segundos\")\n",
        "print(f\"Tempo total Cholesky Updated: {tempo_total_cholesky_updated:.6f} segundos\")"
      ],
      "metadata": {
        "colab": {
          "base_uri": "https://localhost:8080/"
        },
        "id": "tpKt8eO12VF2",
        "outputId": "06056f84-3948-473f-d59b-6fcf7dc7c7a1"
      },
      "execution_count": 130,
      "outputs": [
        {
          "output_type": "stream",
          "name": "stdout",
          "text": [
            "Tempo total Cholesky: 0.927127 segundos\n",
            "Tempo total Cholesky Updated: 0.161299 segundos\n"
          ]
        }
      ]
    },
    {
      "cell_type": "markdown",
      "source": [
        "<hr>"
      ],
      "metadata": {
        "id": "2gVphm135VFu"
      }
    },
    {
      "cell_type": "markdown",
      "source": [
        "# **2    Método de Newton Para Sistemas Não-Lineares**"
      ],
      "metadata": {
        "id": "LcGWctY25W32"
      }
    },
    {
      "cell_type": "markdown",
      "source": [
        "![image.png](data:image/png;base64,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)"
      ],
      "metadata": {
        "id": "5NKagf8x5icG"
      }
    },
    {
      "cell_type": "markdown",
      "source": [
        "###**1)  Observando  a  equação (4),  vê-se  a  necessidade  de  calcular  a  matriz  inversa  da  Jacobiana. É possível calcular matrizes inversas usando a decomposição LU, sendo assim, implemente um código que:**"
      ],
      "metadata": {
        "id": "LT3aE361-xt1"
      }
    },
    {
      "cell_type": "markdown",
      "source": [
        "a)  Calcule a fatoração LU de uma matriz qualquer; "
      ],
      "metadata": {
        "id": "1JyyZBph_MLI"
      }
    },
    {
      "cell_type": "code",
      "source": [
        "import numpy as np\n",
        "\n",
        "def LU(A):\n",
        "    \"\"\"\n",
        "    Realiza a fatoração LU de uma matriz A.\n",
        "    Retorna as matrizes L e U.\n",
        "    \"\"\"\n",
        "    n = A.shape[0]\n",
        "    L = np.eye(n)  # Inicializa a matriz L como uma matriz identidade\n",
        "    U = np.copy(A)  # Inicializa a matriz U como uma cópia da matriz A\n",
        "\n",
        "    for k in range(n - 1):\n",
        "        for i in range(k + 1, n):\n",
        "            factor = U[i, k] / U[k, k]\n",
        "            L[i, k] = factor  # Atualiza o valor em L\n",
        "            for j in range(k, n):\n",
        "                U[i, j] -= factor * U[k, j]  # Atualiza os valores em U\n",
        "\n",
        "    return L, U\n",
        "\n",
        "\n",
        "def solve_lu(L, U, b):\n",
        "    \"\"\"\n",
        "    Resolve um sistema linear usando a fatoração LU.\n",
        "    Retorna a solução x.\n",
        "    \"\"\"\n",
        "    n = len(b)\n",
        "    y = np.zeros(n)\n",
        "    x = np.zeros(n)\n",
        "\n",
        "    # Resolve Ly = b (sistema triangular inferior)\n",
        "    for i in range(n):\n",
        "        y[i] = b[i] - np.dot(L[i, :i], y[:i])\n",
        "\n",
        "    # Resolve Ux = y (sistema triangular superior)\n",
        "    for i in range(n - 1, -1, -1):\n",
        "        x[i] = (y[i] - np.dot(U[i, i+1:], x[i+1:])) / U[i, i]\n",
        "\n",
        "    return x"
      ],
      "metadata": {
        "id": "RJQYi_bi_nYb"
      },
      "execution_count": 131,
      "outputs": []
    },
    {
      "cell_type": "code",
      "source": [
        "# Exemplo de uso\n",
        "A = np.array([[2, -1, 0], [-4, 6, 3], [-4, -2, 8]])\n",
        "x = np.array([1, 2, 3])\n",
        "\n",
        "b = np.dot(A, x)\n",
        "\n",
        "print(\"Matriz A:\")\n",
        "print(A)\n",
        "print(\"\\nVetor b:\")\n",
        "print(b)\n",
        "\n",
        "L, U = LU(A)\n",
        "x = solve_lu(L, U, b)\n",
        "\n",
        "print(\"\\nSolução x:\")\n",
        "print(x)"
      ],
      "metadata": {
        "colab": {
          "base_uri": "https://localhost:8080/"
        },
        "id": "jhWkYZud8y_B",
        "outputId": "098ffc9e-91d0-4a8f-f431-9bf259d20658"
      },
      "execution_count": 132,
      "outputs": [
        {
          "output_type": "stream",
          "name": "stdout",
          "text": [
            "Matriz A:\n",
            "[[ 2 -1  0]\n",
            " [-4  6  3]\n",
            " [-4 -2  8]]\n",
            "\n",
            "Vetor b:\n",
            "[ 0 17 16]\n",
            "\n",
            "Solução x:\n",
            "[1. 2. 3.]\n"
          ]
        }
      ]
    },
    {
      "cell_type": "markdown",
      "source": [
        "<hr>"
      ],
      "metadata": {
        "id": "c5f5l3fq95Wf"
      }
    },
    {
      "cell_type": "markdown",
      "source": [
        "b)  Resolva um sistema linear cujo lado direito é uma matriz;"
      ],
      "metadata": {
        "id": "rHxwpznN97F-"
      }
    },
    {
      "cell_type": "code",
      "source": [
        "# Adaptação para o caso em que b é uma matriz:\n",
        "def solve_lu_B(L, U, b):\n",
        "    \"\"\"\n",
        "    Resolve um sistema linear usando a fatoração LU.\n",
        "    Retorna a matriz de soluções X.\n",
        "    \"\"\"\n",
        "    n = len(b)\n",
        "    m = b.shape[1]  # Número de colunas em b\n",
        "    x = np.zeros((n, m))\n",
        "\n",
        "    for col in range(m):\n",
        "        y = np.zeros(n)\n",
        "\n",
        "        # Resolve Ly = b[:, col] (sistema triangular inferior)\n",
        "        for i in range(n):\n",
        "            y[i] = b[i, col] - np.dot(L[i, :i], y[:i])\n",
        "\n",
        "        # Resolve Ux = y (sistema triangular superior)\n",
        "        for i in range(n - 1, -1, -1):\n",
        "            x[i, col] = (y[i] - np.dot(U[i, i+1:], x[i+1:, col])) / U[i, i]\n",
        "\n",
        "    return x"
      ],
      "metadata": {
        "id": "2XxSrWG-9_-K"
      },
      "execution_count": 133,
      "outputs": []
    },
    {
      "cell_type": "code",
      "source": [
        "# Exemplo de uso\n",
        "A = np.array([[2, -1, 0], [-4, 6, 3], [-4, -2, 8]])\n",
        "B = np.array([[1, 2], [3, 4], [5, 6]])\n",
        "\n",
        "L, U = LU(A)\n",
        "X = solve_lu_B(L, U, B)\n",
        "\n",
        "print(\"Matriz A:\")\n",
        "print(A)\n",
        "print(\"\\nMatriz B:\")\n",
        "print(B)\n",
        "print(\"\\nMatriz de soluções X:\")\n",
        "print(X)"
      ],
      "metadata": {
        "colab": {
          "base_uri": "https://localhost:8080/"
        },
        "id": "4iOMvRSz-Wtl",
        "outputId": "d5d55574-5e19-46f7-994f-4559e19491b9"
      },
      "execution_count": 134,
      "outputs": [
        {
          "output_type": "stream",
          "name": "stdout",
          "text": [
            "Matriz A:\n",
            "[[ 2 -1  0]\n",
            " [-4  6  3]\n",
            " [-4 -2  8]]\n",
            "\n",
            "Matriz B:\n",
            "[[1 2]\n",
            " [3 4]\n",
            " [5 6]]\n",
            "\n",
            "Matriz de soluções X:\n",
            "[[0.71590909 1.38636364]\n",
            " [0.43181818 0.77272727]\n",
            " [1.09090909 1.63636364]]\n"
          ]
        }
      ]
    },
    {
      "cell_type": "markdown",
      "source": [
        "<hr>"
      ],
      "metadata": {
        "id": "9jtMj6kvBPpv"
      }
    },
    {
      "cell_type": "markdown",
      "source": [
        "c)  Finalmente, calcule a inversa de uma matriz qualquer resolvendo vários sistemas lineares."
      ],
      "metadata": {
        "id": "xsRGOcTcBInP"
      }
    },
    {
      "cell_type": "code",
      "source": [
        "'''\n",
        "    Para calcularmos a inversa de uma matriz A, bastaria utilizarmos a \n",
        "    função solve_lu_B, sendo B uma matriz identidade.\n",
        "\n",
        "    Lembrando que: AA^-1 = I\n",
        "'''\n",
        "\n",
        "A = np.array([[1, 2, 3],\n",
        "              [0, 1, 4],\n",
        "              [0, 0, 1]])\n",
        "B = np.eye(3)\n",
        "\n",
        "L, U = LU(A)\n",
        "X = solve_lu_B(L, U, B)\n",
        "\n",
        "print(\"Matriz A:\")\n",
        "print(A)\n",
        "print(\"\\nMatriz identidade B:\")\n",
        "print(B)\n",
        "print(\"\\nInversa da matriz A:\")\n",
        "print(X)"
      ],
      "metadata": {
        "colab": {
          "base_uri": "https://localhost:8080/"
        },
        "id": "d1DZbcBv_fWd",
        "outputId": "d54932d5-0c08-48de-c2a6-d24a0346478c"
      },
      "execution_count": 135,
      "outputs": [
        {
          "output_type": "stream",
          "name": "stdout",
          "text": [
            "Matriz A:\n",
            "[[1 2 3]\n",
            " [0 1 4]\n",
            " [0 0 1]]\n",
            "\n",
            "Matriz identidade B:\n",
            "[[1. 0. 0.]\n",
            " [0. 1. 0.]\n",
            " [0. 0. 1.]]\n",
            "\n",
            "Inversa da matriz A:\n",
            "[[ 1. -2.  5.]\n",
            " [ 0.  1. -4.]\n",
            " [ 0.  0.  1.]]\n"
          ]
        }
      ]
    },
    {
      "cell_type": "code",
      "source": [
        "'''\n",
        "    Outra forma de fazer isso seria criar uma função própria para se calcular\n",
        "    a função da inversa.\n",
        "'''\n",
        "\n",
        "def inverse(A):\n",
        "    \"\"\"\n",
        "    Calcula a inversa de uma matriz A.\n",
        "    Retorna a matriz inversa de A.\n",
        "    \"\"\"\n",
        "    n = A.shape[0]\n",
        "    identity = np.eye(n)  # Matriz identidade\n",
        "\n",
        "    L, U = LU(A)\n",
        "    inv_A = np.zeros_like(A)\n",
        "\n",
        "    for i in range(n):\n",
        "        inv_A[:, i] = solve_lu(L, U, identity[:, i])    # utilizando a função antiga\n",
        "\n",
        "    return inv_A"
      ],
      "metadata": {
        "id": "ibZ78z58BnGB"
      },
      "execution_count": 136,
      "outputs": []
    },
    {
      "cell_type": "code",
      "source": [
        "# Exemplo de uso\n",
        "A = np.array([[1, 2, 3],\n",
        "              [0, 1, 4],\n",
        "              [0, 0, 1]])\n",
        "\n",
        "inv_A = inverse(A)\n",
        "\n",
        "print(\"Matriz A:\")\n",
        "print(A)\n",
        "print(\"\\nMatriz Inversa de A:\")\n",
        "print(inv_A)"
      ],
      "metadata": {
        "colab": {
          "base_uri": "https://localhost:8080/"
        },
        "id": "SHEWreHCCkMM",
        "outputId": "2f30c0ff-969f-48bb-c82c-8766e4fb16be"
      },
      "execution_count": 137,
      "outputs": [
        {
          "output_type": "stream",
          "name": "stdout",
          "text": [
            "Matriz A:\n",
            "[[1 2 3]\n",
            " [0 1 4]\n",
            " [0 0 1]]\n",
            "\n",
            "Matriz Inversa de A:\n",
            "[[ 1 -2  5]\n",
            " [ 0  1 -4]\n",
            " [ 0  0  1]]\n"
          ]
        }
      ]
    },
    {
      "cell_type": "markdown",
      "source": [
        "<hr>"
      ],
      "metadata": {
        "id": "m-fMITi9C33O"
      }
    },
    {
      "cell_type": "markdown",
      "source": [
        "###**2) Implemente o método de Newton para sistemas usando a rotina implementada no item anterior. Lembre-se de especificar o critério de parada utilizado.**"
      ],
      "metadata": {
        "id": "Xe3U5ZfMFvWs"
      }
    },
    {
      "cell_type": "code",
      "source": [
        "def jacobiana(f, x):\n",
        "    \"\"\"\n",
        "    Calcula a matriz jacobiana de uma função f em um ponto x.\n",
        "    Retorna a matriz jacobiana.\n",
        "    \"\"\"\n",
        "    n = len(x)\n",
        "    J = np.zeros((n, n))\n",
        "\n",
        "    h = 1e-8  # Valor pequeno para diferenciar as variáveis\n",
        "    fx = np.array(f(x))  # Converter a lista para um numpy array\n",
        "\n",
        "    for i in range(n):\n",
        "        x_h = x.copy()\n",
        "        x_h[i] += h\n",
        "        fx_h = np.array(f(x_h))  # Converter a lista para um numpy array\n",
        "        J[:, i] = (fx_h - fx) / h\n",
        "\n",
        "    return J"
      ],
      "metadata": {
        "id": "ElYRagFYFvvo"
      },
      "execution_count": 138,
      "outputs": []
    },
    {
      "cell_type": "code",
      "source": [
        "def newton(F, x0, tol=1e-6, max_iter=100):\n",
        "    \"\"\"\n",
        "    Resolve um sistema não linear usando o método de Newton.\n",
        "    \n",
        "    Parâmetros:\n",
        "        - F: função que define o sistema não linear F(x) = 0. Recebe um vetor x e retorna um vetor.\n",
        "        - x0: vetor inicial de estimativas.\n",
        "        - tol: tolerância para critério de parada (opcional, padrão = 1e-6).\n",
        "        - max_iter: número máximo de iterações (opcional, padrão = 100).\n",
        "        \n",
        "    Retorna:\n",
        "        - x: vetor que aproxima a solução do sistema.\n",
        "        - num_iter: número de iterações realizadas.\n",
        "    \"\"\"\n",
        "    x = x0\n",
        "    num_iter = 0\n",
        "\n",
        "    while num_iter < max_iter:\n",
        "        J = jacobiana(F, x)\n",
        "        J_inv = inverse(J)\n",
        "        delta_x = -np.dot(J_inv, F(x))\n",
        "        x += delta_x\n",
        "        num_iter += 1\n",
        "\n",
        "        if np.linalg.norm(delta_x) < tol:\n",
        "            break\n",
        "\n",
        "    return x, num_iter"
      ],
      "metadata": {
        "id": "kXvEqfcAzv1N"
      },
      "execution_count": 139,
      "outputs": []
    },
    {
      "cell_type": "code",
      "source": [
        "# Exemplo de uso\n",
        "def system_equations(x):\n",
        "    \"\"\"\n",
        "    Define o sistema de equações não lineares.\n",
        "    Retorna um vetor com as equações do sistema.\n",
        "    \"\"\"\n",
        "    f1 = x[0] + x[1]**2 - 4\n",
        "    f2 = x[0] * x[1] - 1\n",
        "    return np.array([f1, f2])\n",
        "\n",
        "\n",
        "x0 = np.array([1.0, 1.0])  # Valor inicial\n",
        "\n",
        "solution, iterations = newton(system_equations, x0)\n",
        "\n",
        "print(\"Solução:\")\n",
        "print(solution)\n",
        "print(\"\\nIterações:\", iterations)\n"
      ],
      "metadata": {
        "colab": {
          "base_uri": "https://localhost:8080/"
        },
        "id": "sjALlrJr0qGD",
        "outputId": "815553fd-5c4b-488c-a918-b9df499b5ee8"
      },
      "execution_count": 140,
      "outputs": [
        {
          "output_type": "stream",
          "name": "stdout",
          "text": [
            "Solução:\n",
            "[0.53740158 1.86080585]\n",
            "\n",
            "Iterações: 6\n"
          ]
        }
      ]
    },
    {
      "cell_type": "markdown",
      "source": [
        "<hr>"
      ],
      "metadata": {
        "id": "f_Wq0bqXRh5Y"
      }
    },
    {
      "cell_type": "markdown",
      "source": [
        "Calcular  inversas  de  matrizes  é  um  processo  que  demanda  muito  custo  computacional  (como  pode  ser observado nos itens anteriores, precisa-se de uma fatoração LU e da resolução de vários sistemas lineares).  Por isso, ao usar o método de Newton para sistemas, faz-se algumas manipulações na equação  \"x^(k+1)=x^k−JF(x^k)^(−1)F(x^k)\" evitando o cálculo da inversa da matriz Jacobiana.  Define-se um vetor z=x^(k+1)−x^k e resolve-se o sistema linear JF(x^k)z=F(x^k). Deste modo, o algoritmo para resolver um sistema de equações não-lineares usando o método de Newton é : \n",
        "\n",
        " 1.  Numa dada iteração k, resolve-se o sistema JF(x^k)z=F(x^k),\n",
        " 2.  Atualiza-se x^(k+1)=x^(k)−z."
      ],
      "metadata": {
        "id": "UVGqnvBKRjCA"
      }
    },
    {
      "cell_type": "markdown",
      "source": [
        "###**3) Implemente novamente o método de Newton para sistemas usando o algoritmo anterior. Utilize as rotinas já implementadas neste trabalho para resolução do sistema linear, indicando sempre qual está usando.**"
      ],
      "metadata": {
        "id": "DO_M2igLRqSx"
      }
    },
    {
      "cell_type": "code",
      "source": [
        "def newton_updated(f, x0, tol=1e-6, max_iter=100):\n",
        "    \"\"\"\n",
        "    Resolve um sistema de equações não lineares usando o método de Newton.\n",
        "    Retorna a solução do sistema.\n",
        "\n",
        "    Parâmetros:\n",
        "        - f: Função que define o sistema de equações não lineares. Deve receber \n",
        "        um vetor x e retornar um vetor com as equações do sistema.\n",
        "        - x0: Valor inicial para as variáveis do sistema.\n",
        "        - tol: Tolerância para critério de parada. O algoritmo será interrompido \n",
        "        quando a norma do incremento for menor que tol.\n",
        "        - max_iter: Número máximo de iterações permitidas.\n",
        "\n",
        "    Retorna:\n",
        "        - x: Vetor com a solução do sistema de equações.\n",
        "        - num_iter: número de iterações realizadas.\n",
        "\n",
        "    \"\"\"\n",
        "\n",
        "    x = np.array(x0, dtype=float)  # Inicializa o vetor x como float\n",
        "    n = len(x)  \n",
        "    num_iter = 0\n",
        "\n",
        "    while num_iter < max_iter:\n",
        "        fx = np.array(f(x))  # Converter a lista para um numpy array\n",
        "        J = jacobiana(f, x)  # Calcula a matriz jacobiana no ponto x\n",
        "\n",
        "        L, U = LU(J)  # Realiza a fatoração LU da matriz jacobiana\n",
        "        delta_x = solve_lu(L, U, -fx)  # Resolve o sistema linear J * delta_x = -f(x)\n",
        "\n",
        "        x += delta_x  \n",
        "        num_iter += 1\n",
        "\n",
        "        if np.linalg.norm(delta_x) < tol:  # Verifica o critério de parada\n",
        "            break\n",
        "\n",
        "    return x, num_iter"
      ],
      "metadata": {
        "id": "1Vik9LuxF_mj"
      },
      "execution_count": 141,
      "outputs": []
    },
    {
      "cell_type": "code",
      "source": [
        "# Exemplo de uso\n",
        "def system_equations(x):\n",
        "    \"\"\"\n",
        "    Define o sistema de equações não lineares.\n",
        "    Retorna um vetor com as equações do sistema.\n",
        "    \"\"\"\n",
        "    f1 = x[0] + x[1]**2 - 4\n",
        "    f2 = x[0] * x[1] - 1\n",
        "    return np.array([f1, f2])\n",
        "\n",
        "\n",
        "x0 = np.array([1.0, 1.0])  # Valor inicial\n",
        "\n",
        "solution, iterations = newton_updated(system_equations, x0)\n",
        "\n",
        "print(\"Solução:\")\n",
        "print(solution)\n",
        "print(\"\\nIterações:\", iterations)"
      ],
      "metadata": {
        "colab": {
          "base_uri": "https://localhost:8080/"
        },
        "id": "Eu1nkDi4G5Jh",
        "outputId": "35c55b5d-584b-4ecf-820e-514f00c37bd0"
      },
      "execution_count": 142,
      "outputs": [
        {
          "output_type": "stream",
          "name": "stdout",
          "text": [
            "Solução:\n",
            "[0.53740158 1.86080585]\n",
            "\n",
            "Iterações: 6\n"
          ]
        }
      ]
    },
    {
      "cell_type": "markdown",
      "source": [
        "<hr>"
      ],
      "metadata": {
        "id": "HNun7P9eICVB"
      }
    },
    {
      "cell_type": "markdown",
      "source": [
        "###**4) Dada a equação de um círculo(x−a)^2 + (y−b)^2 = R^2 e três pontos que passam por esse círculo**"
      ],
      "metadata": {
        "id": "GP8ebRvVIEte"
      }
    },
    {
      "cell_type": "markdown",
      "source": [
        "![image.png](data:image/png;base64,iVBORw0KGgoAAAANSUhEUgAAAS4AAABXCAYAAAC6Gqj+AAAAAXNSR0IArs4c6QAAAARnQU1BAACxjwv8YQUAAAAJcEhZcwAADsMAAA7DAcdvqGQAABkzSURBVHhe7Z1haBtH2sf/6eXtqXBwCqScdJcUq/iKN23AEgmNfMkHr0nBMimNTA8skZSecoGclMDFTqG1kg+J0hcSOS/k7Av04hw0yIUGKdBihcZY+eA7qZAglUuxCi3ZQgLSXQ0WtBDd2dd5Z3bHtiRLtmzLsjaZH8jafbQeaZ+d+e/M7DwzmwgFAoFAoCOe4e8CgUCgG4RwCQQC3SGESyAQ6A4hXAKBQHcI4RIIBLpDCJdAINAdQrgEAoHuEMIlEAh0hxAugUCgO4RwCQQC3VHXkJ+xsTF89tlnfE8gEDxJvPDCCzhx4gTfW1/qKlwHDx7Eb37zG2zatIlbGodIJII33ngDzzwjKqETExN46aWX8Itf/IJbnl7S6TR+/PFHvPzyy9wiqMQ//vEPvPPOO3XxVV2F6yc/+QlmZmYaUhx++tOf4vvvv8ezzz7LLU8vr732Gk6dOoX9+/dzy9NLIBDAf/7zH5w9e5ZbBJVwOBw4fvw4Ojs7uWX9ENULgUCgO4RwCZ5g8sg9ytG/gicNIVw1I4fEn46g2+HGkRM++A53oe31Ixi6k+WfV0k2hoHDHWh7rQtd8g6YzTvQcfg8ot/wz8sxm0XsXBfMm3yIcNNGk783jCOODnSfGMDAOTe6dnfBd0Phn1ZJPo2RE91oc7rhoz51U3/scFTvU+WKG5btfkT5fkNw04ctljbVL8MfjWCEva6cxxGnDS++PoTqPaTlt67d1MdHfTjyehtsDnr9l8gn+a9G4Hd20OM0fx55vQPuKyn+qc5gfVz14plnniH//e9/+V5j8eyzz5J///vffG+lTJPR41Yiv58kj7lFJRMm3haJeCPT3LAM34WIq0kmgbsLqTy+GyDyVhBslUkwxY0qSXL1uJd4DsrE2m4lEr2UgJeE+adrYf/+/eT27dt8bxXc7ifWrSXnnQkRT7ORyBeS3LAMM3ESaHcU+YL5OXTISM+TpnNpktsqoAwSJ/PbGn1y7tw5cvr0ab5XAyJe1qdc8jISa88gSRZlnqWYJuFjEs0TLnI1w02U+Gk7tTnJoMINBUzT71WvyccL//Dg414ib5NIf4wb1khnZyeJRqN8b30RwsVZk3BRcbE395JxvlvIg8sOgtZ+Euf7lWGF0kRcHy4WOTUNlsH3BKhczfGYTGfmcjoVSLUANIJwJUlgD/0t7UFSKi3x01b6Gx1lC9YiaEEzsnMyeUi4wCXTH7o0X1TwtwbzpUQszWv3yboI14F+cvVCL/Ee7yXBa6Mk/rBqxVJ58Gen6hvr6ZJcNU1vfNRuPBSiHijgflC9+dmLjh8lXlXYQfPcyr6/EvUULtFUrAHZu0kkcnnkZrmhAMs2C/BFDhm+X5k44reyGDksoetPaW7TsLTLkNnG56OIfqGaKAYYTQa+3UCMhTD8Of3Nu6ygtcAi7NY2+jeK0PUqmicGA7aw99lpTP+gWor5hvqbb5aSu+7FYJMfnu3c0Ghss8FzKojBy0H0vu2AfdtKrmMakRsR9dxtO+2aaQ6jhB172fmHEXrEbbTxOXQmgNiUA+7fFR7vgP/WKEIj4wj0NGA+WgYhXDXAZDLDODUEv2sIqZKe4EQqCRyQYOX7lTHAQG+jVAahZCrJXAKZFXYT1ZvUvbjaT2N53qwZCrGYwYpOIhWnZ7kMnUFMUj9klDA827iNkv5aE3XjoTZNzEuZGoH3AwsGzlipR59E0lDuaFuGzdr7AjQP/Q97jyCVUA3AlxFEblKZa7XC1sRtHNMuB1w9MiyL0ml8dCFc0XdssO0ufvXdYp/Qu4mr2O6+sgEl+4ATnhaapW74YLN0zHdC5/7mh//6FgTPekHrXcsgI5iaRHziAZJnS4rkD7TWoW7QTLZT3WhYlIdzJaYMmw14jr1PpEHlfFkMJhNMP+M7jNkowh/R2tpWGf6TLqg6X0QOkfcGYaY1DHujF8Yf0ojNdc6PpZEvU1tfC8q3msArY1HE2MbOHZCyKQyf86HvZB/6Lo4gtcLnRo2ELoTLcSGJZCIK/+48vaOnYOgcQlAd42aB951uGO4pMNj7MHwrjtCx5SWi5mymovPRIFyttChlYxj6LRXR1zrguPQc+hOj6G3lxy3HzyTY91oW3UkTn0TBGlfGQx54mjVbY5JFpprCMMUGKlQLG9KQRfaLCM67+hDa7kU4MV7Wp7kbfQgaAwg2+rjZOwF0vZfClv1OuA7Sm9TNbph3H8HIUk+O55FgaeebSxBTNOFKK/wWkY9TsQ/D8vtBBC8F0dcUh3unDT5WG9Mh+mkqbjbBeTlEM6URiSt+DPC+ntRYHFtORxG97IJ16wY2Dlq9GP5rH2++5OjviiGRiCFyh95NVdsq+ZaK9F+obLXQ9C+Vq2U0EtPI17oc5BRaC40hls7gcd4IsyGPzMMy6jgVQd9lIwLvl21ANg4GA+T9foTm8qvBBNflIDw/DMN9oA+xZWteEpwHHepW8quSvsJcCknejJwjP8svyI0kzCcDkE3arunNAPydtMVytBsDX2o2PaGvPq7NVvSODMNjjKGvpw8R2jTzJBwYPGvf8AKdutKNtrcVeL5+jEwsuFD7crVBfi9WsSN5SWZTGDjqR2SrE4O0Rufcyu1PE0YJjh4XXD1eBGjN009rCj5ZQsfFwkJLm4hnhmB4xw+50ZuInUGMX3YW59fNDrSxWuJXAxj6y/JVVssxVqukN/APQwVCl0fiQgipFm3PSJvlReztgmMX31YxwkprXJiiefRaQ410qwr9dc7TQhy84IVEL3L3yTz6Pqim/2h9yd30wX3GgL6xq3A1G2Bq70XobhrjZx0w0UKV+F8/gp/zg6uGFsYTbvQ9dCN8Jwxvtc3NDYU2Y9a1KWuE87ATVuqb2Dte+LlPczf9GNrci8CBxq6PLoVk0WqKkVRcfV8SdgOPJhHen0bfvi74Lw7A5+zG4HY/endrh9gsJc90dy5+QCQ1a8cod+JYomeyIdGfcFGMBzxw76Ubj8IYvl48dKD+pDB0YQj5tz1wFdaIaNNWPj2K1IiHCmsC0ejKskbqYje89x0YnaA1LV691wMG7dHo0uw1L3+zyaYQ/TSBbGk7e5cNtJ5ASWAkwrqdYwi+l4a0M4foXGe3+oohrT7RUJDktsS3bH8D+YLebHfb0HFCG85Qlm8UVJWjN1vgvDyKZGIUgVO9GIyMInTMiJw6DMIC6yuah+cEcUmqGq7TWOhQuFhNpA+Zk5MIHaLZ9n3ffH/XxqAgw8YtlXv8TzH1UEGjtSUlpz0XrIYsawKPyYiOBeEoEMPIH2zztYxGxSZpBWX6+zJF82tFfcJlLHP3LyZGaxI2dL3eBunoSHEhp03BuUbQdJ6pWhut6Ybg75Qh7yt80aPUfEFFktukDb4BpMeiiNxLIUZFtbRelflOexJtbLEsGv9WNXN9XK0udPMHFFKrVbtJZDOLhqDkfuB5spobSYOhO+FiNZGh7UEMHpTgujQM71bW3+VDZIofUHeMMNDmUdmCWoBjNxt8yclrj8JjZZ4isWan47oFw9F+WIu6KRL07iphB+/DaFRMB2Q46XvqW2VRrUJ7RG+Eg4rIPLNZpD4dQfRe4dH5+U5+s8lU3B80XyOh6diZTw0wbjPBtOi1hQucAVu4zVjS7VNvWNPM0hPA+AS9IXGbRg7ZLBOuanxDj/7Uhx2bNsHsGi4So9ytUURpGs6jHnW8nEo7vR6s+X5fwaRmmUd5pImltM9exTjDBoOPoK8Lawv5eUwmr7mIBA8Jz3ATI9pL6N2CGPcHSbLQvkLWEvIzeUkmRhYj9jU3FMBixKQ9/SRe8NtGj7N4OxC09BeHraRYaIaRWFqtxLqr5NVqIcZKoUMzYeJh6ZX6ZpWsNVZx/JQWRxf6jhtUJkmwnf7G9kDRdXpAfaf6gvrv6kNupLA0pLdDpCAUT2Uu/GnZ610jn9Q05GdmnPS2lsacUlIBQuVKPafCMKlKvsn82an54OAgecBtatoti9NgaCFCEuktuqT8erR4SbjoOq0eEatYwugpWnCbeGEHLdh/HJ37hF4sE7fTi9bECnkvta6ctQZZxy+46G+UifdanEw+zJBMOk6uHpeJ1N5PRksyxiQtfLTVQqRj4YKYsnHSTzPe3LmUfdGMulCQM2T0XSeRmagV+MDUwnzgIK6zo4sKfbWsOch6JkkGe6zEtJ8KM4vDe5wh4VN2YmqlhaTkR01/woJ/ywjRDDs/mdgP9JPB20mSoT5NXvPQY+n1Pxgg8UqF7SHNE51lfNLuJaGCwl8tNY9V/DpEPHsW8kkyEiDOlvJB1hV9812YeHctpDE5cZV495q0NMqK9DQtQ3ZibHGS4O1JNW8Ovk2vT6uLDJaK6Bqop3BtYn/oxa0LT/wMqPksEmMxKDy2zrTTCfmVDW6frIJazYCa/zKGyH3emNlqhbNdKhOmsgxshPmnKd4kMsJil2Fvqp9P12UG1Nk80nciSKndG6s8p1WkkX+UQGxCa8Ibt9sh71k82Hkt1HMGVCFcHDF18wJi6uYFxNTN1SOmbhYIBIIlEMIlEAh0hxAugUCgO4RwCQQC3SGESyAQ6A4hXAKBQHfUdTjEW2+9heeff57vNRaff/45Xn31VWzatIlbnl4mJyfxq1/9Cj//+c+55enl0aNHbJA2tm9v1AnsG4d//etfOHPmDJqb13+2y7oKl9PpRFtbW0OKQzgcxhtvvKGONXvaYb7YuXMnXnrpJW55ekmn0/jxxx/x8ssvc4ugEvfv31fH/9XDV2IAKkcMQF1ADEBdQAxArR4xAFUgEAiWQAiXQCDQHUK4akYeqb8eQZfcDd/FAZw/3AWbw4dIVSu3FDCbRfRcNzocbpxXp+TtQMfhASTKzjdWo+9cJ/JfjcBPf7+NnovvhA9HXu+A+0rJAg/Lkkf6Iz+6ZRu6DvtoOvR8X3NjaNHkkew4H7rsbehyUD9YzHjR2gXfX1OL5gVrSOh1j53rgnkTvX7ctCryaQz/zoYt8kDlmVTpMSMnutBm76K+suFF84tqvhkumferoWF9XPVibfNxrS9rm9aGkPF3rcRYMrdRZsRDLFvLzL9UkQfk6pumkmlMHpPkWbnsvEm1+c7FrHlaGwqbh8y6VSLejxfmsXnwcS+Rt0mkP8YNyzJNwsf5Oc4lM/OAhP8oE1PJXGbxs3ZiPRYmmTm/zWRI+JjE+m9Lpg9aGTWf1qaIJLl63Es8B2VibbcSSZ2Gh54r/7RqHo6SAE3Hxabz2WNV56dD++J5uVRm4iSw11p0XUgmTLzqlEr0ekVW6ykxH9eGsCbhuhsgdppZ5AulWSVO+ltphjhQMOHbEkyPuIgRRpp5uGGO6RBx0fQX5iGj1Og7y7Fm4brPJkQEsZ8unPZwlHipjQmJ68OSiacqoE7QCDvpT3AD4xMvtbF0XCT0PbcxX5RM1qgyM0p6m9mxRuIaWV2BXF/hekymM3O+oOKhntcqhGvmMcl8x9NhvmfpVBCuJBX44uvC4RNyqhNArlK76ilcoqlYA2IfDyPBFihoLZ0t3A4bm0P30xBG7mmWymQRusHmV5ch8ZVa5jFaYWsHlOs0HV6br813rgcKhs4EEJtywP27+QmEKQ74b40iNDKOQE8Vc099OwT/+zHkDrjh2cNtjE4/Yp+EEIoF4OKrXCsTMSQ+Pw/Hbh+iha2duWW/qFdH7qjrOTcYBhhNNZhbbLMBpqrWFFUQm0ggcc4B24locRO6s02bTnpqBLEx1dLQCOFaMykkEgp9t8BcZr0My3ZWeBNI3l1mvbzZOFI32YYZ5m2qpQC+7NcUS4ft1+g714MvI4iw1ZFbqdg2cRvHtMsBV48MSxWT16Vv0HSmQIXZVryQw2YTrAdccLUvWJ/jKwvlHmWQ4ZM4LqLa1XOeaJ6DQRX7HJRsBpUWKp5bvr+R0YVwKVfcsO22Fb36bvEPvxmCu/Az1xC9r9QTBZm/8c0yGDY/p77H0nwp9Ep8pSz9u9XCriD1JTuqRt+5DihjUXUlH+zcASmbwvA5H/pO9qHv4ghSVeuoguiYVkOSfi0he28Y50/QNGg6Ax+lkC1Z7dl0LITMRBzJdAieItHPIc+FzPiKtPrVc54YTPCOZBCfSEL50EP3Csjloa35Y4TU0vie0oVwWWjGTE4MwbE5hdQ9Axx/SiI4N8at2YvhC7RVfy8P6Q8hxEfqvEAsu8vzzaXIzS6zEH8ms7RwzcHSqdV3rgNphYtlPg7/yTAsvx9E8FIQfU1xuHfa4GO1sWVJQ+EPH/MJP3o/scBD0whe6INlwk2b0qWrOtGm0l67tqR9IVNhhK+zDTu8ruJ1dZ5aDCbY91oXrXiUuxnGCNvY44V7/cePrhn9NBUNdnjUzJegbfDiR+oGWj7zh/wYeluiWbjO0DtVNUVxWX7IVydcjFp95zqQn+W/7EYS5pMByPy2bnozAH+ngqGj3Rj4UrNVhl5QLkyRlBl9Z2WYWI2TNhOd7/vheDRE88ISj/s5sQsDiNAahHxhCIHCfjJBMbMxBC5EgK0yglcCsNdwHvr1Qld9XJZDbnW16MSHIUTnmws5jHwUhaPHRbOooGHY2wXHLr6tYoSV1rgwFcPQtSi3LY/9dUfxmn/sQcVOetXHhjA8111QBrY+pe9iBvZTIYRP6W7VwDrCFlj2YWDKjt4Pw+ht5eYGR1+d80YX3IdoQ/CbyMKTj29DCH3t3rjqbYulNk1Ti3lhEc/lqNV3ridlVqtmC6IylDtxWm+uDlvLolRgURfFVRBLVEiFLXV/NATz+zFa63JszA3t3rA66HbxaxgrHYK7nrAFlj03zAjciiHYqZ9bv76Ei+JwsVV6FQx/pC3NnroeAlyujVuJd7MBhoJl8ith376M1PzMAK1LfWksTbTw1+o71wHJUrAScyW+yC3TR0fFqZ1vLkFqqkwqUxH4eoZhPBvD+LvW+ncdzPFdGvFEvMwrXVX/ZD1gtVL3NSMCY+Po37VhnloVuhMu7KK1rgPU6VSwQt+mEL1t0WphG4YN0j72Po3pMo/i0wp7OmYsU3MoodkKqzqN0fT88vMLpKF8xd5lSGqlpUbfuQ5IrVatNpjNFC0Pz8j9oD23wl7zMjVGWlvbpR2RyS5KZf5J4SJhzqdw3hUAqGiFjxWc+5cD6Dis3ejqRmcQybvJMq/S5fc3hvy98+g+CwTuhOEtaB6mL3bAfb1Re1AX0J9w0SzvVvuzoggd7cPobjdcG1rDNaF7v5O+p6B8XXrBFSgsbnCrA22FNYh8GjFaY4wVxRTKcBxkBTGNSVWkCqHp3Kdve2TIr7D9VXxnvWiX4WQCfF/BpGaZR3mkPX6Q9tkXasizWaQ+HUG0JE5Obneq4pZSFqUCRU1GgrynQJxmUxj4rQeZYzEMvln0oB+5VBLTTZaNaTLWkgq+WjGsKX0sA+/YIJzFYyKQuj8Ny6914Ck+gr4u1CzkZz6Uw04Cd7ltjawp5GdmnPS2gBgPhYpj4nj4hfx+khs0Ro8b1dAXlMTbEWWQOBeFymhxfxZYiOfjgtRX+J0rYa0hPw/+7CRGSKS3KIlJEmxn51wcW/ngkqz5YquTXC1aIv8BGTxI/dTSS8YLQ3n4+RXHH05rcYkmiVh3WRe9JBMLM1pdHMv6hvwUMBMmHuYHeEi47DL6S/mqgJQWCoa9AVI2B7Dl+2m+MbUs9pN1l0RMLJRqda4SsYrVwGKu1hKPV8pag6xJapC4Wk1EPj1OWPjZ44dh0rvXRKzHCwJ/OZOXHTSDlA/+nY72E5kWQNe1SfKY/t/jBBWzFhNxXEiSRRF+K/jOlbD2IOtpMnrKTowtThK8PUky6TgZfNtKTK0uMlgS/D39CQvGpgJcFFjO+Y7eoPYaifRmkIynM2RyYpB46PlaewaLjs18wISSFfpKL0uJiFbP+gpXhoy+6yQyEw16jed+ryYqDuI6O0qPWKCyr5Lk6iGHJj5N/KYII7G00v12J/F8MCdhGXL1zbnPK7ya6Y2CH71S6ilcm9gf+oPrQi1nQE2da0OwmTYXe2pTra3JDKizeaTvRJDiY5BMO520abeKTs98FomxGBS1L8cIyz4Z9m0V0qnVdxZQqxlQ848SiE0oat+ScbudNu0sMKx4jFAe2b/FEHuopgKLnfqiqX4dyWIG1Oqp5wyoOhGuPHKPcjCYTFrGn42ib18M8kQQjhoNlhNTNy8gpm5eQAhX9Yipm0tQ/q8LW7abYTujxa8pfxlGyumpmWgJBAJ9oQvh2kJrWsZtMpz7bOpjXN8t2kz8owiZFQieVnQhXMaeYcQvO4CxAPx3JAQ/7oVV1LYEgqcWXQgXi/6XDvYiwGYIOOWEpK9BvgKBoMboRLgEAoFgASFcAoFAd9R1OMRbb72F559/viGX4I/H43j11VfFEvwU5otf/vKXaGoqmXv5KeThw4dskDZeeOEFbhFU4p///CfOnDmD5mY16HZdqatwJRIJ/P3vf+d7AoHgScJsNsPtdvO99aWuwiUQCAS1QPRxCQQC3SGESyAQ6A4hXAKBQHcI4RIIBLpDCJdAINAdQrgEAoHuEMIlEAh0hxAugUCgO4RwCQQC3SGESyAQ6A4hXAKBQHcI4RIIBLpDCJdAINAdQrgEAoHuEMIlEAh0hxAugUCgO4RwCQQCnQH8PzZFYu73Xv4YAAAAAElFTkSuQmCC)"
      ],
      "metadata": {
        "id": "5wBBZ1SoSHIv"
      }
    },
    {
      "cell_type": "markdown",
      "source": [
        "a)  Monte um sistema não-linear para determinar a, b e R. "
      ],
      "metadata": {
        "id": "s7-FEQ3qSLkO"
      }
    },
    {
      "cell_type": "code",
      "source": [
        "'''\n",
        "    Para determinar os parâmetros do círculo (a, b e R), podemos usar as três \n",
        "    equações geradas pelos três pontos que passam pelo círculo. Substituindo \n",
        "    as coordenadas (x, y) dos pontos nas equações do círculo, obtemos o \n",
        "    seguinte sistema não linear:\n",
        "\n",
        "    Equação 1: (x1 - a)^2 + (y1 - b)^2 = R^2\n",
        "    Equação 2: (x2 - a)^2 + (y2 - b)^2 = R^2\n",
        "    Equação 3: (x3 - a)^2 + (y3 - b)^2 = R^2\n",
        "\n",
        "    Substituindo os pontos fornecidos, temos:\n",
        "\n",
        "    Equação 1: (8.21 - a)^2 + (0.00 - b)^2 = R^2\n",
        "    Equação 2: (0.34 - a)^2 + (6.62 - b)^2 = R^2\n",
        "    Equação 3: (5.96 - a)^2 + (-1.12 - b)^2 = R^2\n",
        "\n",
        "    Agora, temos um sistema de três equações não lineares com três \n",
        "    incógnitas (a, b e R). Esse sistema pode ser resolvido numericamente \n",
        "    para encontrar os valores de a, b e R que satisfazem as equações.\n",
        "\n",
        "\n",
        "\n",
        "    Montando o sistema não-linear completo:\n",
        "\n",
        "    F(a, b, R) = [\n",
        "    (8.21 - a)^2 + (0.00 - b)^2 - R^2,\n",
        "    (0.34 - a)^2 + (6.62 - b)^2 - R^2,\n",
        "    (5.96 - a)^2 + (-1.12 - b)^2 - R^2\n",
        "    ]\n",
        "\n",
        "    A função F(a, b, R) retorna um vetor em que cada componente corresponde \n",
        "    a uma das equações do sistema. Agora podemos usar esse sistema para \n",
        "    encontrar a solução.\n",
        "'''"
      ],
      "metadata": {
        "id": "2dxlrpdU3SaV"
      },
      "execution_count": null,
      "outputs": []
    },
    {
      "cell_type": "code",
      "source": [
        "# Montando o sistema não-linear:\n",
        "def equation_1(vars):\n",
        "    a, b, R = vars\n",
        "    return (8.21 - a)**2 + (0.00 - b)**2 - R**2\n",
        "\n",
        "def equation_2(vars):\n",
        "    a, b, R = vars\n",
        "    return (0.34 - a)**2 + (6.62 - b)**2 - R**2\n",
        "\n",
        "def equation_3(vars):\n",
        "    a, b, R = vars\n",
        "    return (5.96 - a)**2 + (-1.12 - b)**2 - R**2\n",
        "\n",
        "def equations(vars):\n",
        "    return [equation_1(vars), equation_2(vars), equation_3(vars)]"
      ],
      "metadata": {
        "id": "dLNomdTQG9g4"
      },
      "execution_count": 144,
      "outputs": []
    },
    {
      "cell_type": "markdown",
      "source": [
        "<hr>"
      ],
      "metadata": {
        "id": "e7sf57HJ5qbP"
      }
    },
    {
      "cell_type": "markdown",
      "source": [
        "b)  Resolva o sistema não-linear utilizando os códigos feitos nos itens 2 e 3."
      ],
      "metadata": {
        "id": "OJQedqdI5rzO"
      }
    },
    {
      "cell_type": "code",
      "source": [
        "x0 = [0, 0, 1]  # Valores iniciais para a, b e R\n",
        "\n",
        "inicio = time.time()\n",
        "\n",
        "solution, num_iter = newton(equations, x0)\n",
        "\n",
        "tempo_total_newton = time.time() - inicio\n",
        "\n",
        "print(\"Iterações:\", num_iter)\n",
        "print(f\"\\nValor de a: {solution[0]}\")\n",
        "print(f\"Valor de b: {solution[1]}\")\n",
        "print(f\"Valor de R: {solution[2]}\")\n",
        "\n",
        "print(f\"\\nTempo total usando newton: {tempo_total_newton:.5f} segundos\")"
      ],
      "metadata": {
        "colab": {
          "base_uri": "https://localhost:8080/"
        },
        "id": "Do4P6rn8HFaf",
        "outputId": "0a4d7ea4-5121-4911-ffc0-32d8f6d06fb9"
      },
      "execution_count": 145,
      "outputs": [
        {
          "output_type": "stream",
          "name": "stdout",
          "text": [
            "Iterações: 5\n",
            "\n",
            "Valor de a: 4.830105654297453\n",
            "Valor de b: 3.969921676634585\n",
            "Valor de R: -5.213824307236024\n",
            "\n",
            "Tempo total usando newton: 0.00146 segundos\n"
          ]
        }
      ]
    },
    {
      "cell_type": "code",
      "source": [
        "x0 = [0, 0, 1]  # Valores iniciais para a, b e R\n",
        "\n",
        "inicio = time.time()\n",
        "\n",
        "solution, num_iter = newton_updated(equations, x0)\n",
        "\n",
        "tempo_total_newton_updated = time.time() - inicio\n",
        "\n",
        "print(\"Iterações:\", num_iter)\n",
        "print(f\"\\nValor de a: {solution[0]}\")\n",
        "print(f\"Valor de b: {solution[1]}\")\n",
        "print(f\"Valor de R: {solution[2]}\")\n",
        "\n",
        "print(f\"\\nTempo total usando newton_updated: {tempo_total_newton_updated:.5f} segundos\")"
      ],
      "metadata": {
        "colab": {
          "base_uri": "https://localhost:8080/"
        },
        "id": "I9cTr9cxJRF8",
        "outputId": "9f41a2c3-2030-41e7-db82-bbcf13ab751b"
      },
      "execution_count": 149,
      "outputs": [
        {
          "output_type": "stream",
          "name": "stdout",
          "text": [
            "Iterações: 5\n",
            "\n",
            "Valor de a: 4.830105654297453\n",
            "Valor de b: 3.969921676634585\n",
            "Valor de R: -5.213824307236024\n",
            "\n",
            "Tempo total usando newton_updated: 0.00071 segundos\n"
          ]
        }
      ]
    },
    {
      "cell_type": "markdown",
      "source": [
        "<hr>"
      ],
      "metadata": {
        "id": "SelFP_RhLQzX"
      }
    },
    {
      "cell_type": "markdown",
      "source": [
        "c)  Houve melhora no tempo de execução do código implementado no item 3? "
      ],
      "metadata": {
        "id": "DWHPW2NpLTYt"
      }
    },
    {
      "cell_type": "code",
      "source": [
        "'''\n",
        "    Sim, houve uma pequena melhora no tempo de execução conforme podemos\n",
        "    observar nas saídas anteriores.\n",
        "'''"
      ],
      "metadata": {
        "id": "T0prVaASLXFd"
      },
      "execution_count": null,
      "outputs": []
    },
    {
      "cell_type": "markdown",
      "source": [
        "<hr>"
      ],
      "metadata": {
        "id": "3GSsxm3uLk1l"
      }
    },
    {
      "cell_type": "markdown",
      "source": [
        "d)  Finalmente, com os resultados a, b e R, utilizando a equação do círculo dada por (x−a)^2 + (y−b)^2 = R^2, imprima o gráfico que representa esse círculo."
      ],
      "metadata": {
        "id": "mVUYYQkbLmzW"
      }
    },
    {
      "cell_type": "code",
      "source": [
        "import matplotlib.pyplot as plt\n",
        "\n",
        "a = solution[0]\n",
        "b = solution[1]\n",
        "R = solution[2]\n",
        "\n",
        "# Definir intervalo de valores para x\n",
        "x = np.linspace(a - abs(R), a + abs(R), 100)\n",
        "\n",
        "# Calcular os valores correspondentes de y\n",
        "y_positive = b + np.sqrt(R**2 - (x - a)**2)\n",
        "y_negative = b - np.sqrt(R**2 - (x - a)**2)\n",
        "\n",
        "# Plotar o círculo\n",
        "plt.plot(x, y_positive, 'b', label='Círculo')\n",
        "plt.plot(x, y_negative, 'b')\n",
        "plt.xlabel('x')\n",
        "plt.ylabel('y')\n",
        "plt.title('Círculo: (x-a)^2 + (y-b)^2 = R^2')\n",
        "plt.grid(True)\n",
        "plt.axis('equal')  # Manter proporção dos eixos iguais\n",
        "plt.legend()\n",
        "plt.show()"
      ],
      "metadata": {
        "colab": {
          "base_uri": "https://localhost:8080/",
          "height": 472
        },
        "id": "Gma66IvnL3UM",
        "outputId": "44a2cdf3-870b-4748-976b-84c246505bda"
      },
      "execution_count": 148,
      "outputs": [
        {
          "output_type": "display_data",
          "data": {
            "text/plain": [
              "<Figure size 640x480 with 1 Axes>"
            ],
            "image/png": "[encoded data removed]"
          },
          "metadata": {}
        }
      ]
    }
  ]
}