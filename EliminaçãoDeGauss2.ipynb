{
  "nbformat": 4,
  "nbformat_minor": 0,
  "metadata": {
    "colab": {
      "provenance": [],
      "authorship_tag": "ABX9TyNjYDPL+NPmfWXmlUVKM9wg",
      "include_colab_link": true
    },
    "kernelspec": {
      "name": "python3",
      "display_name": "Python 3"
    },
    "language_info": {
      "name": "python"
    }
  },
  "cells": [
    {
      "cell_type": "markdown",
      "metadata": {
        "id": "view-in-github",
        "colab_type": "text"
      },
      "source": [
        "<a href=\"https://colab.research.google.com/github/EduardoWS/Calculo-Numerico/blob/main/Elimina%C3%A7%C3%A3oDeGauss2.ipynb\" target=\"_parent\"><img src=\"https://colab.research.google.com/assets/colab-badge.svg\" alt=\"Open In Colab\"/></a>"
      ]
    },
    {
      "cell_type": "code",
      "execution_count": 3,
      "metadata": {
        "id": "mp8VjUaIMnpb"
      },
      "outputs": [],
      "source": [
        "# Algoritmo que corresponde ao passo 2 da eliminação de Gauss\n",
        "def elimination(A, b):\n",
        "    n = len(b)\n",
        "    x = [0]*n\n",
        "\n",
        "    # Laço para calcular os pivôs\n",
        "    for k in list(range(1, n, 1)):\n",
        "        for i in list(range(k+1, n+1, 1)):\n",
        "            m = (A[i-1][k-1])/(A[k-1][k-1])\n",
        "            print(f\"M({i},{k}) = {m}\")\n",
        "            A[i-1][k-1] = 0\n",
        "            b[i-1] = b[i-1] - m*b[k-1]\n",
        "\n",
        "            for j in list(range(k+1, n+1, 1)):\n",
        "                A[i-1][j-1] = A[i-1][j-1] - m*A[k-1][j-1]\n",
        "    \n",
        "    return A, b"
      ]
    },
    {
      "cell_type": "code",
      "source": [
        "# Dados do problema\n",
        "A = [[3,  2,  4],\n",
        "     [1,  1,  2],\n",
        "     [4,  3, -2]]\n",
        "\n",
        "b = [1, 2, 3]\n",
        "\n",
        "# Obtenção do sistema triangular superior equivalente\n",
        "U, x = elimination(A, b)\n",
        "print(\"U = \", U)\n",
        "print(\"x = \", x)"
      ],
      "metadata": {
        "colab": {
          "base_uri": "https://localhost:8080/"
        },
        "id": "YpMRU1QsS54s",
        "outputId": "632ef8bd-21c6-4224-cba0-05ed1a440457"
      },
      "execution_count": 4,
      "outputs": [
        {
          "output_type": "stream",
          "name": "stdout",
          "text": [
            "M(2,1) = 0.3333333333333333\n",
            "M(3,1) = 1.3333333333333333\n",
            "M(3,2) = 1.0000000000000002\n",
            "U =  [[3, 2, 4], [0, 0.33333333333333337, 0.6666666666666667], [0, 0, -8.0]]\n",
            "x =  [1, 1.6666666666666667, -4.440892098500626e-16]\n"
          ]
        }
      ]
    }
  ]
}