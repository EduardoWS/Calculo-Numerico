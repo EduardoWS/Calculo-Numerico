{
  "nbformat": 4,
  "nbformat_minor": 0,
  "metadata": {
    "colab": {
      "provenance": [],
      "authorship_tag": "ABX9TyNI7UgpmE4BRjIqq10M+yfe",
      "include_colab_link": true
    },
    "kernelspec": {
      "name": "python3",
      "display_name": "Python 3"
    },
    "language_info": {
      "name": "python"
    }
  },
  "cells": [
    {
      "cell_type": "markdown",
      "metadata": {
        "id": "view-in-github",
        "colab_type": "text"
      },
      "source": [
        "<a href=\"https://colab.research.google.com/github/EduardoWS/Calculo-Numerico/blob/main/Bissecao.ipynb\" target=\"_parent\"><img src=\"https://colab.research.google.com/assets/colab-badge.svg\" alt=\"Open In Colab\"/></a>"
      ]
    },
    {
      "cell_type": "code",
      "execution_count": 25,
      "metadata": {
        "id": "xL-mwTfHUpNt"
      },
      "outputs": [],
      "source": [
        "import math"
      ]
    },
    {
      "cell_type": "code",
      "source": [
        "def func(x):\n",
        "    return x**3 - 30*x**2 + 2552"
      ],
      "metadata": {
        "id": "SpCcj5F9Y1gh"
      },
      "execution_count": 18,
      "outputs": []
    },
    {
      "cell_type": "code",
      "source": [
        "def biss(func, a, b, tol):\n",
        "    x = (a + b)/2\n",
        "    erro = 10000000\n",
        "    while erro > tol:\n",
        "        if func(a)*func(x) < 0:\n",
        "            b = x\n",
        "        else:\n",
        "            a = x\n",
        "        x0 = x\n",
        "        x = (a+b)/2\n",
        "        erro = abs(x - x0)\n",
        "    return x"
      ],
      "metadata": {
        "id": "CCJEPxKYm_Th"
      },
      "execution_count": 23,
      "outputs": []
    },
    {
      "cell_type": "code",
      "source": [
        "a = 0\n",
        "b = 20\n",
        "tol = 0.000000001\n",
        "\n",
        "x = biss(func, a, b, tol)\n",
        "\n",
        "print(x)"
      ],
      "metadata": {
        "colab": {
          "base_uri": "https://localhost:8080/"
        },
        "id": "dM9RbqwRpQta",
        "outputId": "f5f412f7-2953-445d-bac8-9bc080fb23bf"
      },
      "execution_count": 24,
      "outputs": [
        {
          "output_type": "stream",
          "name": "stdout",
          "text": [
            "11.861501507810317\n"
          ]
        }
      ]
    }
  ]
}