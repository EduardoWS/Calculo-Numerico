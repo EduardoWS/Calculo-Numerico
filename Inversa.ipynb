{
  "nbformat": 4,
  "nbformat_minor": 0,
  "metadata": {
    "colab": {
      "provenance": [],
      "authorship_tag": "ABX9TyMwlz66QIY1QtTPymbaNPpZ",
      "include_colab_link": true
    },
    "kernelspec": {
      "name": "python3",
      "display_name": "Python 3"
    },
    "language_info": {
      "name": "python"
    }
  },
  "cells": [
    {
      "cell_type": "markdown",
      "metadata": {
        "id": "view-in-github",
        "colab_type": "text"
      },
      "source": [
        "<a href=\"https://colab.research.google.com/github/EduardoWS/Calculo-Numerico/blob/main/Inversa.ipynb\" target=\"_parent\"><img src=\"https://colab.research.google.com/assets/colab-badge.svg\" alt=\"Open In Colab\"/></a>"
      ]
    },
    {
      "cell_type": "code",
      "execution_count": 21,
      "metadata": {
        "colab": {
          "base_uri": "https://localhost:8080/"
        },
        "id": "ubUvDbN-gwpB",
        "outputId": "e0eb95c5-c069-468f-8699-8e8a19b68bf8"
      },
      "outputs": [
        {
          "output_type": "stream",
          "name": "stdout",
          "text": [
            "[[ 1. -2.  5.]\n",
            " [ 0.  1. -4.]\n",
            " [ 0.  0.  1.]]\n"
          ]
        }
      ],
      "source": [
        "import numpy as np\n",
        "\n",
        "A = np.array([[2, 1],\n",
        "             [5, 3]])\n",
        "\n",
        "A_inv = np.linalg.inv(A)\n",
        "print(A_inv)"
      ]
    },
    {
      "cell_type": "code",
      "source": [
        "# Algoritmo que corresponde ao passo 2 da eliminação de Gauss\n",
        "def elimination(A, b):\n",
        "    n = len(b)\n",
        "    x = [0]*n\n",
        "\n",
        "    # Laço para calcular os pivôs\n",
        "    for k in list(range(1, n, 1)):\n",
        "\n",
        "        for i in list(range(k+1, n+1, 1)):\n",
        "            m = (A[i-1][k-1])/(A[k-1][k-1])\n",
        "            A[i-1][k-1] = 0\n",
        "            b[i-1] = b[i-1] - m*b[k-1]\n",
        "\n",
        "            for j in list(range(k+1, n+1, 1)):\n",
        "                A[i-1][j-1] = A[i-1][j-1] - m*A[k-1][j-1]\n",
        "    \n",
        "    return A, b\n",
        "\n",
        "\n",
        "# Algoritmo que corresponde ao passo 1 da eliminação de Gauss\n",
        "def solveUpperTriangular(U, b):\n",
        "    n = len(b)      # índice começa em 0 e vai até n-1\n",
        "    x = [0]*n       # criando um vetor com n valores 0\n",
        "\n",
        "    x[n-1] = b[n-1]/U[n-1][n-1]     # calculando x_n\n",
        "    \n",
        "    # Laço para encontrar os n-1 valores de x\n",
        "    for i in list(range(n-1, 0, -1)):\n",
        "        s = 0\n",
        "        # Calculando a soma dos termos associados\n",
        "        # a todas as variáveis x_n até x_i+1\n",
        "        for j in list(range(i+1, n+1, 1)):\n",
        "            s = s + U[i-1][j-1]*x[j-1]\n",
        "        \n",
        "        # Cálculo de x_i: em Python x[i-1]\n",
        "        x[i-1] = (b[i-1] - s)/(U[i-1][i-1])\n",
        "\n",
        "    return x\n",
        "\n",
        "\n",
        "def sub_regressiva(U,y):\n",
        "    n = np.shape(y)[0]\n",
        "    x = np.zeros(n)\n",
        "\n",
        "    for i in np.arange(n-1,-1,-1):\n",
        "        x[i] = (y[i]-U[i,i+1:n].dot(x[i+1:n]))/U[i,i]\n",
        "\n",
        "    return x\n",
        "\n",
        "\n",
        "def eliminacao_gauss_pivo(A,b):\n",
        "    n = np.shape(A)[0]\n",
        "    newA = np.copy(A)\n",
        "    newb = np.copy(b)\n",
        "\n",
        "    for k in np.arange(n-1):\n",
        "        p = np.argmax(np.abs(newA[k:n,k]))\n",
        "        newA[[k,p],k:n] = newA[[p,k],k:n]\n",
        "        newb[[k,p]] = newb[[p,k]]\n",
        "\n",
        "        for i in np.arange(k+1,n):\n",
        "            m = -newA[i,k]/newA[k,k]\n",
        "            newA[i,k:n] = newA[i,k:n] + m*newA[k,k:n]\n",
        "            newb[i] = newb[i] + m*newb[k]\n",
        "\n",
        "    return newA,newb"
      ],
      "metadata": {
        "id": "AW73t7PJhb30"
      },
      "execution_count": 53,
      "outputs": []
    },
    {
      "cell_type": "code",
      "source": [
        "# Dados do problema\n",
        "A1 = np.array([[1, 2, 3],\n",
        "              [0, 1, 4],\n",
        "              [0, 0, 1]])\n",
        "\n",
        "A2 = np.array([[2, 1],\n",
        "             [5, 3]])"
      ],
      "metadata": {
        "id": "ZMPXj6hGi615"
      },
      "execution_count": 59,
      "outputs": []
    },
    {
      "cell_type": "code",
      "source": [
        "# calculando a inversa\n",
        "def inversa(A):\n",
        "    n = np.shape(A)[0]\n",
        "    A_inv = np.zeros((n, n), dtype=int)\n",
        "    e = np.eye(n)\n",
        "\n",
        "    for i in np.arange(n):\n",
        "        b = e[0:n, i]\n",
        "        Aup, b = elimination(A, b)\n",
        "        x = solveUpperTriangular(Aup, b)\n",
        "        A_inv[0:n, i] = x[0:n]\n",
        "\n",
        "    return A_inv\n",
        "\n",
        "\n",
        "\n",
        "A_inv = inversa(A1)\n",
        "print(A_inv)"
      ],
      "metadata": {
        "colab": {
          "base_uri": "https://localhost:8080/"
        },
        "id": "oYhRLGJfh0VE",
        "outputId": "1bef8dfb-be28-4b1c-8051-b181d51dcf24"
      },
      "execution_count": 63,
      "outputs": [
        {
          "output_type": "stream",
          "name": "stdout",
          "text": [
            "[[ 1 -2  5]\n",
            " [ 0  1 -4]\n",
            " [ 0  0  1]]\n"
          ]
        }
      ]
    }
  ]
}