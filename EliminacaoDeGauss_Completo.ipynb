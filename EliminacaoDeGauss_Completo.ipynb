{
  "nbformat": 4,
  "nbformat_minor": 0,
  "metadata": {
    "colab": {
      "provenance": [],
      "authorship_tag": "ABX9TyOKW1dmfIHstvGEY2OqQp5c",
      "include_colab_link": true
    },
    "kernelspec": {
      "name": "python3",
      "display_name": "Python 3"
    },
    "language_info": {
      "name": "python"
    }
  },
  "cells": [
    {
      "cell_type": "markdown",
      "metadata": {
        "id": "view-in-github",
        "colab_type": "text"
      },
      "source": [
        "<a href=\"https://colab.research.google.com/github/EduardoWS/Calculo-Numerico/blob/main/EliminacaoDeGauss_Completo.ipynb\" target=\"_parent\"><img src=\"https://colab.research.google.com/assets/colab-badge.svg\" alt=\"Open In Colab\"/></a>"
      ]
    },
    {
      "cell_type": "code",
      "execution_count": 1,
      "metadata": {
        "id": "HLodUeiyZ2Xs"
      },
      "outputs": [],
      "source": [
        "# Algoritmo que corresponde ao passo 2 da eliminação de Gauss\n",
        "def elimination(A, b):\n",
        "    n = len(b)\n",
        "    x = [0]*n\n",
        "\n",
        "    # Laço para calcular os pivôs\n",
        "    for k in list(range(1, n, 1)):\n",
        "\n",
        "        for i in list(range(k+1, n+1, 1)):\n",
        "            m = (A[i-1][k-1])/(A[k-1][k-1])\n",
        "            A[i-1][k-1] = 0\n",
        "            b[i-1] = b[i-1] - m*b[k-1]\n",
        "\n",
        "            for j in list(range(k+1, n+1, 1)):\n",
        "                A[i-1][j-1] = A[i-1][j-1] - m*A[k-1][j-1]\n",
        "    \n",
        "    return A, b\n",
        "\n",
        "\n",
        "# Algoritmo que corresponde ao passo 1 da eliminação de Gauss\n",
        "def solveUpperTriangular(U, b):\n",
        "    n = len(b)      # índice começa em 0 e vai até n-1\n",
        "    x = [0]*n       # criando um vetor com n valores 0\n",
        "\n",
        "    x[n-1] = b[n-1]/U[n-1][n-1]     # calculando x_n\n",
        "    \n",
        "    # Laço para encontrar os n-1 valores de x\n",
        "    for i in list(range(n-1, 0, -1)):\n",
        "        s = 0\n",
        "        # Calculando a soma dos termos associados\n",
        "        # a todas as variáveis x_n até x_i+1\n",
        "        for j in list(range(i+1, n+1, 1)):\n",
        "            s = s + U[i-1][j-1]*x[j-1]\n",
        "        \n",
        "        # Cálculo de x_i: em Python x[i-1]\n",
        "        x[i-1] = (b[i-1] - s)/(U[i-1][i-1])\n",
        "\n",
        "    return x"
      ]
    },
    {
      "cell_type": "code",
      "source": [
        "# Dados do problema\n",
        "A = [[3,  2,  4],\n",
        "     [1,  1,  2],\n",
        "     [4,  3, -2]]\n",
        "\n",
        "b = [1, 2, 3]\n",
        "\n",
        "# Obtenção do sistema triangular superior equivalente\n",
        "U, b = elimination(A, b)\n",
        "print(\"U = \", U)\n",
        "print(\"b = \", b)\n",
        "x = solveUpperTriangular(U, b)\n",
        "print(\"x = \", x)"
      ],
      "metadata": {
        "colab": {
          "base_uri": "https://localhost:8080/"
        },
        "id": "yOHOtQMCaRdV",
        "outputId": "53300d33-7669-4792-a46d-29b20a9baa63"
      },
      "execution_count": 3,
      "outputs": [
        {
          "output_type": "stream",
          "name": "stdout",
          "text": [
            "U =  [[3, 2, 4], [0, 0.33333333333333337, 0.6666666666666667], [0, 0, -8.0]]\n",
            "b =  [1, 1.6666666666666667, -4.440892098500626e-16]\n",
            "x =  [-3.0, 5.0, 5.551115123125783e-17]\n"
          ]
        }
      ]
    }
  ]
}